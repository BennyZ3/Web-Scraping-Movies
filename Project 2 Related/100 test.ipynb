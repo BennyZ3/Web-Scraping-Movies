{
 "cells": [
  {
   "cell_type": "code",
   "execution_count": 1,
   "metadata": {},
   "outputs": [],
   "source": [
    "import pandas as pd\n",
    "import numpy as np\n",
    "import matplotlib.pyplot as plt\n",
    "import seaborn as sns\n",
    "from bs4 import BeautifulSoup\n",
    "import requests\n",
    "from IPython.core.display import display, HTML\n",
    "import re\n",
    "import dateutil.parser\n",
    "from datetime import datetime as dt\n",
    "from sklearn.linear_model import LinearRegression\n",
    "from sklearn.model_selection import train_test_split"
   ]
  },
  {
   "cell_type": "code",
   "execution_count": 2,
   "metadata": {},
   "outputs": [],
   "source": [
    "def get_movie_value(soup, field_name):\n",
    "    obj = soup.find(text=re.compile(field_name))\n",
    "    if not obj: \n",
    "        return None\n",
    "    # this works for most of the values\n",
    "    next_element = obj.findNext()\n",
    "    if next_element:\n",
    "        return next_element.text \n",
    "    else:\n",
    "        return None"
   ]
  },
  {
   "cell_type": "code",
   "execution_count": 3,
   "metadata": {},
   "outputs": [],
   "source": [
    "def money_to_int(moneystring):\n",
    "    try:\n",
    "        moneystring = moneystring.replace('$', '').replace(',', '')\n",
    "        return int(moneystring)\n",
    "    except :\n",
    "        pass\n",
    "    \n",
    "def runtime_to_minutes(runtimestring):\n",
    "    runtime = runtimestring.split()\n",
    "    try:\n",
    "        minutes = int(runtime[0])*60 + int(runtime[2])\n",
    "        return minutes\n",
    "    except:\n",
    "        return None\n",
    "\n",
    "def to_date(datestring):\n",
    "    date = dateutil.parser.parse(datestring)\n",
    "    return date"
   ]
  },
  {
   "cell_type": "code",
   "execution_count": 4,
   "metadata": {},
   "outputs": [],
   "source": [
    "def movie_info(url):\n",
    "    response = requests.get(url)\n",
    "    page = response.text\n",
    "    soup = BeautifulSoup(page, \"lxml\")\n",
    "\n",
    "    title_string = soup.find('title').text\n",
    "    title_string.split('-')\n",
    "    title = title_string.split('-')[0].strip()\n",
    "    \n",
    "    dtg = soup.find(class_='mojo-performance-summary-table').find_all('span', class_='money')[0].text\n",
    "    \n",
    "    runtime = get_movie_value(soup,'Run')\n",
    "    \n",
    "    rating = get_movie_value(soup,'MPAA')\n",
    "    \n",
    "    release_date = get_movie_value(soup,'Release Date')\n",
    "    release_date = release_date.split('\\n')[0]\n",
    "    \n",
    "    distributor = get_movie_value(soup,'Distributor')\n",
    "    distributor = distributor[:-30]\n",
    "    \n",
    "    budget = get_movie_value(soup,'Budget')\n",
    "    budget = money_to_int(budget)\n",
    "    \n",
    "    raw_domestic_total_gross = dtg\n",
    "    domestic_total_gross = money_to_int(raw_domestic_total_gross)\n",
    "\n",
    "    raw_runtime = get_movie_value(soup,'Running')\n",
    "    runtime = runtime_to_minutes(raw_runtime)\n",
    "\n",
    "    raw_release_date = get_movie_value(soup,'Release Date').split('\\n')[0]\n",
    "    release_date = to_date(raw_release_date)\n",
    "    \n",
    "    \n",
    "    \n",
    "    genre = get_movie_value(soup,'Genres')\n",
    "    res = [] \n",
    "    for sub in genre: \n",
    "        res.append(re.sub('\\n', '', sub)) \n",
    "    res = ''.join(res)\n",
    "    res = re.sub(' +', ', ', res)\n",
    "    \n",
    "    \n",
    "    headers = ['Movie_Title','Distributor','Domestic_Total_Gross','Budget',\n",
    "               'Runtime(mins)', 'Rating', 'Release_Date','Genre']\n",
    "\n",
    "    movie_data = []\n",
    "    movie_dict = dict(zip(headers, [title,\n",
    "                                    distributor,\n",
    "                                    domestic_total_gross,\n",
    "                                    budget,\n",
    "                                    runtime,\n",
    "                                    rating, \n",
    "                                    release_date,\n",
    "                                    res]))\n",
    "\n",
    "    movie_data.append(movie_dict)\n",
    "    return movie_data"
   ]
  },
  {
   "cell_type": "code",
   "execution_count": 586,
   "metadata": {},
   "outputs": [],
   "source": [
    "def get_urls(years):\n",
    "    '''Takes a 4 digit year input, or a list of them'''\n",
    "    url = \"https://www.boxofficemojo.com/year/{}/?sort=gross&grossesOption=calendarGrosses\"\n",
    "    dfs = []\n",
    "    for year in years:\n",
    "        file_url = url.format(year)\n",
    "        response = requests.get(file_url)\n",
    "        page = response.text\n",
    "        soup = BeautifulSoup(page, \"lxml\")\n",
    "        \n",
    "        k = soup.find_all('a')\n",
    "\n",
    "        df = pd.DataFrame(np.array(list(k)[26:426]).reshape(-1,2))\n",
    "        moviepaths = df.loc[:,0]\n",
    "        #print(pd.DataFrame(moviepaths))\n",
    "        for item in moviepaths:\n",
    "            dfs.append(item)\n",
    "    return dfs\n",
    "\n",
    "years = ['2019','2018']#,'2017','2016','2015','2014','2013','2012','2011','2010',\n",
    "         #'2009','2008','2007','2006','2005','2004','2003','2002','2001','2000',]\n",
    "url_list = get_urls(years)\n",
    "#url_list"
   ]
  },
  {
   "cell_type": "code",
   "execution_count": 588,
   "metadata": {},
   "outputs": [
    {
     "data": {
      "text/plain": [
       "400"
      ]
     },
     "execution_count": 588,
     "metadata": {},
     "output_type": "execute_result"
    }
   ],
   "source": [
    "len(url_list)"
   ]
  },
  {
   "cell_type": "code",
   "execution_count": 55,
   "metadata": {},
   "outputs": [],
   "source": [
    "#url1 = \"https://www.boxofficemojo.com/year/2019/?sort=gross&grossesOption=calendarGrosses\"\n",
    "#dfs = []\n",
    "#response = requests.get('https://www.boxofficemojo.com/year/2019/?sort=gross&grossesOption=calendarGrosses')\n",
    "#page = response.text\n",
    "#soup = BeautifulSoup(page, \"lxml\")\n",
    "#k = soup.find_all('a')\n",
    "\n",
    "\n",
    "\n",
    "\n"
   ]
  },
  {
   "cell_type": "code",
   "execution_count": 56,
   "metadata": {},
   "outputs": [],
   "source": [
    "#pd.DataFrame(np.array(list(k)[26:226]).reshape(-1,2))"
   ]
  },
  {
   "cell_type": "code",
   "execution_count": 57,
   "metadata": {},
   "outputs": [
    {
     "data": {
      "text/plain": [
       "4000"
      ]
     },
     "execution_count": 57,
     "metadata": {},
     "output_type": "execute_result"
    }
   ],
   "source": [
    "urls = []\n",
    "for a_tag in url_list:\n",
    "    url = a_tag['href']\n",
    "    if not url.startswith('http'):\n",
    "        url = \"https://www.boxofficemojo.com/\"+url\n",
    "    urls.append(url)\n",
    "len(urls)"
   ]
  },
  {
   "cell_type": "code",
   "execution_count": 8,
   "metadata": {},
   "outputs": [],
   "source": [
    "t = movie_info(urls[2])\n",
    "def getList(dict): \n",
    "      \n",
    "    return [*dict] \n",
    "Header = getList(t[0])\n",
    "#Header"
   ]
  },
  {
   "cell_type": "code",
   "execution_count": 58,
   "metadata": {},
   "outputs": [
    {
     "data": {
      "text/html": [
       "<div>\n",
       "<style scoped>\n",
       "    .dataframe tbody tr th:only-of-type {\n",
       "        vertical-align: middle;\n",
       "    }\n",
       "\n",
       "    .dataframe tbody tr th {\n",
       "        vertical-align: top;\n",
       "    }\n",
       "\n",
       "    .dataframe thead th {\n",
       "        text-align: right;\n",
       "    }\n",
       "</style>\n",
       "<table border=\"1\" class=\"dataframe\">\n",
       "  <thead>\n",
       "    <tr style=\"text-align: right;\">\n",
       "      <th></th>\n",
       "      <th>Movie_Title</th>\n",
       "      <th>Distributor</th>\n",
       "      <th>Domestic_Total_Gross</th>\n",
       "      <th>Budget</th>\n",
       "      <th>Runtime(mins)</th>\n",
       "      <th>Rating</th>\n",
       "      <th>Release_Date</th>\n",
       "      <th>Genre</th>\n",
       "    </tr>\n",
       "  </thead>\n",
       "  <tbody>\n",
       "    <tr>\n",
       "      <th>0</th>\n",
       "      <td>Avengers: Endgame</td>\n",
       "      <td>Walt Disney Studios Motion Pictures</td>\n",
       "      <td>858373000</td>\n",
       "      <td>356000000</td>\n",
       "      <td>181</td>\n",
       "      <td>PG-13</td>\n",
       "      <td>2019-04-26</td>\n",
       "      <td>Action, Adventure, Drama, Sci-Fi</td>\n",
       "    </tr>\n",
       "    <tr>\n",
       "      <th>1</th>\n",
       "      <td>The Lion King</td>\n",
       "      <td>Walt Disney Studios Motion Pictures</td>\n",
       "      <td>543638043</td>\n",
       "      <td>260000000</td>\n",
       "      <td>118</td>\n",
       "      <td>PG</td>\n",
       "      <td>2019-07-19</td>\n",
       "      <td>Adventure, Animation, Drama, Family, Musical</td>\n",
       "    </tr>\n",
       "    <tr>\n",
       "      <th>2</th>\n",
       "      <td>Toy Story 4</td>\n",
       "      <td>Walt Disney Studios Motion Pictures</td>\n",
       "      <td>434038008</td>\n",
       "      <td>None</td>\n",
       "      <td>100</td>\n",
       "      <td>G</td>\n",
       "      <td>2019-06-21</td>\n",
       "      <td>Adventure, Animation, Comedy, Family, Fantasy</td>\n",
       "    </tr>\n",
       "    <tr>\n",
       "      <th>3</th>\n",
       "      <td>Frozen II</td>\n",
       "      <td>Walt Disney Studios Motion Pictures</td>\n",
       "      <td>466518690</td>\n",
       "      <td>None</td>\n",
       "      <td>103</td>\n",
       "      <td>PG</td>\n",
       "      <td>2019-11-22</td>\n",
       "      <td>Adventure, Animation, Comedy, Family, Fantasy,...</td>\n",
       "    </tr>\n",
       "    <tr>\n",
       "      <th>4</th>\n",
       "      <td>Captain Marvel</td>\n",
       "      <td>Walt Disney Studios Motion Pictures</td>\n",
       "      <td>426829839</td>\n",
       "      <td>None</td>\n",
       "      <td>123</td>\n",
       "      <td>PG-13</td>\n",
       "      <td>2019-03-08</td>\n",
       "      <td>Action, Adventure, Sci-Fi</td>\n",
       "    </tr>\n",
       "  </tbody>\n",
       "</table>\n",
       "</div>"
      ],
      "text/plain": [
       "         Movie_Title                          Distributor  \\\n",
       "0  Avengers: Endgame  Walt Disney Studios Motion Pictures   \n",
       "1      The Lion King  Walt Disney Studios Motion Pictures   \n",
       "2        Toy Story 4  Walt Disney Studios Motion Pictures   \n",
       "3          Frozen II  Walt Disney Studios Motion Pictures   \n",
       "4     Captain Marvel  Walt Disney Studios Motion Pictures   \n",
       "\n",
       "  Domestic_Total_Gross     Budget Runtime(mins) Rating Release_Date  \\\n",
       "0            858373000  356000000           181  PG-13   2019-04-26   \n",
       "1            543638043  260000000           118     PG   2019-07-19   \n",
       "2            434038008       None           100      G   2019-06-21   \n",
       "3            466518690       None           103     PG   2019-11-22   \n",
       "4            426829839       None           123  PG-13   2019-03-08   \n",
       "\n",
       "                                               Genre  \n",
       "0                   Action, Adventure, Drama, Sci-Fi  \n",
       "1       Adventure, Animation, Drama, Family, Musical  \n",
       "2      Adventure, Animation, Comedy, Family, Fantasy  \n",
       "3  Adventure, Animation, Comedy, Family, Fantasy,...  \n",
       "4                          Action, Adventure, Sci-Fi  "
      ]
     },
     "execution_count": 58,
     "metadata": {},
     "output_type": "execute_result"
    }
   ],
   "source": [
    "dft = pd.DataFrame(columns=Header)\n",
    "\n",
    "for i in range(len(urls)):\n",
    "    try:\n",
    "        t = movie_info(urls[i])\n",
    "        dft = dft.append(t, ignore_index=True)\n",
    "    except:\n",
    "        pass\n",
    "    \n",
    "dft.head()"
   ]
  },
  {
   "cell_type": "code",
   "execution_count": 59,
   "metadata": {},
   "outputs": [],
   "source": [
    "dft.to_pickle('Mv200x20.pkl')"
   ]
  },
  {
   "cell_type": "code",
   "execution_count": 60,
   "metadata": {},
   "outputs": [
    {
     "data": {
      "text/html": [
       "<div>\n",
       "<style scoped>\n",
       "    .dataframe tbody tr th:only-of-type {\n",
       "        vertical-align: middle;\n",
       "    }\n",
       "\n",
       "    .dataframe tbody tr th {\n",
       "        vertical-align: top;\n",
       "    }\n",
       "\n",
       "    .dataframe thead th {\n",
       "        text-align: right;\n",
       "    }\n",
       "</style>\n",
       "<table border=\"1\" class=\"dataframe\">\n",
       "  <thead>\n",
       "    <tr style=\"text-align: right;\">\n",
       "      <th></th>\n",
       "      <th>Movie_Title</th>\n",
       "      <th>Distributor</th>\n",
       "      <th>Domestic_Total_Gross</th>\n",
       "      <th>Budget</th>\n",
       "      <th>Runtime(mins)</th>\n",
       "      <th>Rating</th>\n",
       "      <th>Release_Date</th>\n",
       "      <th>Genre</th>\n",
       "    </tr>\n",
       "  </thead>\n",
       "  <tbody>\n",
       "    <tr>\n",
       "      <th>0</th>\n",
       "      <td>Avengers: Endgame</td>\n",
       "      <td>Walt Disney Studios Motion Pictures</td>\n",
       "      <td>858373000</td>\n",
       "      <td>356000000</td>\n",
       "      <td>181</td>\n",
       "      <td>PG-13</td>\n",
       "      <td>2019-04-26</td>\n",
       "      <td>Action, Adventure, Drama, Sci-Fi</td>\n",
       "    </tr>\n",
       "    <tr>\n",
       "      <th>1</th>\n",
       "      <td>The Lion King</td>\n",
       "      <td>Walt Disney Studios Motion Pictures</td>\n",
       "      <td>543638043</td>\n",
       "      <td>260000000</td>\n",
       "      <td>118</td>\n",
       "      <td>PG</td>\n",
       "      <td>2019-07-19</td>\n",
       "      <td>Adventure, Animation, Drama, Family, Musical</td>\n",
       "    </tr>\n",
       "    <tr>\n",
       "      <th>2</th>\n",
       "      <td>Toy Story 4</td>\n",
       "      <td>Walt Disney Studios Motion Pictures</td>\n",
       "      <td>434038008</td>\n",
       "      <td>None</td>\n",
       "      <td>100</td>\n",
       "      <td>G</td>\n",
       "      <td>2019-06-21</td>\n",
       "      <td>Adventure, Animation, Comedy, Family, Fantasy</td>\n",
       "    </tr>\n",
       "    <tr>\n",
       "      <th>3</th>\n",
       "      <td>Frozen II</td>\n",
       "      <td>Walt Disney Studios Motion Pictures</td>\n",
       "      <td>466518690</td>\n",
       "      <td>None</td>\n",
       "      <td>103</td>\n",
       "      <td>PG</td>\n",
       "      <td>2019-11-22</td>\n",
       "      <td>Adventure, Animation, Comedy, Family, Fantasy,...</td>\n",
       "    </tr>\n",
       "    <tr>\n",
       "      <th>4</th>\n",
       "      <td>Captain Marvel</td>\n",
       "      <td>Walt Disney Studios Motion Pictures</td>\n",
       "      <td>426829839</td>\n",
       "      <td>None</td>\n",
       "      <td>123</td>\n",
       "      <td>PG-13</td>\n",
       "      <td>2019-03-08</td>\n",
       "      <td>Action, Adventure, Sci-Fi</td>\n",
       "    </tr>\n",
       "    <tr>\n",
       "      <th>...</th>\n",
       "      <td>...</td>\n",
       "      <td>...</td>\n",
       "      <td>...</td>\n",
       "      <td>...</td>\n",
       "      <td>...</td>\n",
       "      <td>...</td>\n",
       "      <td>...</td>\n",
       "      <td>...</td>\n",
       "    </tr>\n",
       "    <tr>\n",
       "      <th>2640</th>\n",
       "      <td>What Planet Are You From?</td>\n",
       "      <td>Sony Pictures Releasing</td>\n",
       "      <td>6291602</td>\n",
       "      <td>60000000</td>\n",
       "      <td>105</td>\n",
       "      <td>R</td>\n",
       "      <td>2000-03-03</td>\n",
       "      <td>Comedy, Sci-Fi</td>\n",
       "    </tr>\n",
       "    <tr>\n",
       "      <th>2641</th>\n",
       "      <td>Croupier</td>\n",
       "      <td></td>\n",
       "      <td>6201143</td>\n",
       "      <td>None</td>\n",
       "      <td>94</td>\n",
       "      <td>None</td>\n",
       "      <td>2000-04-21</td>\n",
       "      <td>Crime, Drama</td>\n",
       "    </tr>\n",
       "    <tr>\n",
       "      <th>2642</th>\n",
       "      <td>Double Jeopardy</td>\n",
       "      <td>Paramount Pictures</td>\n",
       "      <td>116741558</td>\n",
       "      <td>70000000</td>\n",
       "      <td>105</td>\n",
       "      <td>R</td>\n",
       "      <td>1999-09-24</td>\n",
       "      <td>Crime, Drama, Mystery, Thriller</td>\n",
       "    </tr>\n",
       "    <tr>\n",
       "      <th>2643</th>\n",
       "      <td>Africa's Elephant Kingdom</td>\n",
       "      <td>IMAX</td>\n",
       "      <td>13485455</td>\n",
       "      <td>None</td>\n",
       "      <td>None</td>\n",
       "      <td>None</td>\n",
       "      <td>1998-05-01</td>\n",
       "      <td>Documentary, Short</td>\n",
       "    </tr>\n",
       "    <tr>\n",
       "      <th>2644</th>\n",
       "      <td>God's Army</td>\n",
       "      <td></td>\n",
       "      <td>2637726</td>\n",
       "      <td>None</td>\n",
       "      <td>108</td>\n",
       "      <td>PG</td>\n",
       "      <td>2000-03-10</td>\n",
       "      <td>Drama</td>\n",
       "    </tr>\n",
       "  </tbody>\n",
       "</table>\n",
       "<p>2645 rows × 8 columns</p>\n",
       "</div>"
      ],
      "text/plain": [
       "                    Movie_Title                          Distributor  \\\n",
       "0             Avengers: Endgame  Walt Disney Studios Motion Pictures   \n",
       "1                 The Lion King  Walt Disney Studios Motion Pictures   \n",
       "2                   Toy Story 4  Walt Disney Studios Motion Pictures   \n",
       "3                     Frozen II  Walt Disney Studios Motion Pictures   \n",
       "4                Captain Marvel  Walt Disney Studios Motion Pictures   \n",
       "...                         ...                                  ...   \n",
       "2640  What Planet Are You From?              Sony Pictures Releasing   \n",
       "2641                   Croupier                                        \n",
       "2642            Double Jeopardy                   Paramount Pictures   \n",
       "2643  Africa's Elephant Kingdom                                 IMAX   \n",
       "2644                 God's Army                                        \n",
       "\n",
       "     Domestic_Total_Gross     Budget Runtime(mins) Rating Release_Date  \\\n",
       "0               858373000  356000000           181  PG-13   2019-04-26   \n",
       "1               543638043  260000000           118     PG   2019-07-19   \n",
       "2               434038008       None           100      G   2019-06-21   \n",
       "3               466518690       None           103     PG   2019-11-22   \n",
       "4               426829839       None           123  PG-13   2019-03-08   \n",
       "...                   ...        ...           ...    ...          ...   \n",
       "2640              6291602   60000000           105      R   2000-03-03   \n",
       "2641              6201143       None            94   None   2000-04-21   \n",
       "2642            116741558   70000000           105      R   1999-09-24   \n",
       "2643             13485455       None          None   None   1998-05-01   \n",
       "2644              2637726       None           108     PG   2000-03-10   \n",
       "\n",
       "                                                  Genre  \n",
       "0                      Action, Adventure, Drama, Sci-Fi  \n",
       "1          Adventure, Animation, Drama, Family, Musical  \n",
       "2         Adventure, Animation, Comedy, Family, Fantasy  \n",
       "3     Adventure, Animation, Comedy, Family, Fantasy,...  \n",
       "4                             Action, Adventure, Sci-Fi  \n",
       "...                                                 ...  \n",
       "2640                                     Comedy, Sci-Fi  \n",
       "2641                                       Crime, Drama  \n",
       "2642                    Crime, Drama, Mystery, Thriller  \n",
       "2643                                 Documentary, Short  \n",
       "2644                                              Drama  \n",
       "\n",
       "[2645 rows x 8 columns]"
      ]
     },
     "execution_count": 60,
     "metadata": {},
     "output_type": "execute_result"
    }
   ],
   "source": [
    "dft"
   ]
  },
  {
   "cell_type": "code",
   "execution_count": 61,
   "metadata": {},
   "outputs": [],
   "source": [
    "dft['strpdate'] = pd.to_datetime(dft.Release_Date, format = \"%Y-%M-%D\")\n",
    "dft['year'] = pd.DatetimeIndex(dft['strpdate']).year"
   ]
  },
  {
   "cell_type": "code",
   "execution_count": 62,
   "metadata": {},
   "outputs": [
    {
     "name": "stdout",
     "output_type": "stream",
     "text": [
      "<class 'pandas.core.frame.DataFrame'>\n",
      "RangeIndex: 2645 entries, 0 to 2644\n",
      "Data columns (total 10 columns):\n",
      "Movie_Title             2645 non-null object\n",
      "Distributor             2645 non-null object\n",
      "Domestic_Total_Gross    2645 non-null object\n",
      "Budget                  1952 non-null object\n",
      "Runtime(mins)           2571 non-null object\n",
      "Rating                  2516 non-null object\n",
      "Release_Date            2645 non-null datetime64[ns]\n",
      "Genre                   2645 non-null object\n",
      "strpdate                2645 non-null datetime64[ns]\n",
      "year                    2645 non-null int64\n",
      "dtypes: datetime64[ns](2), int64(1), object(7)\n",
      "memory usage: 206.8+ KB\n"
     ]
    }
   ],
   "source": [
    "dft.info()"
   ]
  },
  {
   "cell_type": "code",
   "execution_count": 63,
   "metadata": {},
   "outputs": [
    {
     "data": {
      "text/plain": [
       "year\n",
       "1998      6\n",
       "1999     17\n",
       "2000    143\n",
       "2001    145\n",
       "2002    166\n",
       "2003    166\n",
       "2004    146\n",
       "2005    138\n",
       "2006     41\n",
       "2007    117\n",
       "2008    123\n",
       "2009    109\n",
       "2010    149\n",
       "2011    149\n",
       "2012    164\n",
       "2013    120\n",
       "2014    111\n",
       "2015     59\n",
       "2016    135\n",
       "2017    137\n",
       "2018    153\n",
       "2019    151\n",
       "Name: Movie_Title, dtype: int64"
      ]
     },
     "execution_count": 63,
     "metadata": {},
     "output_type": "execute_result"
    }
   ],
   "source": [
    "dft.groupby(['year']).Movie_Title.count()"
   ]
  },
  {
   "cell_type": "code",
   "execution_count": 27,
   "metadata": {},
   "outputs": [],
   "source": [
    "dft['Domestic_Total_Gross'] = dft['Domestic_Total_Gross'].apply(float)\n",
    "dft['Runtime(mins)'].fillna(value=pd.np.nan, inplace=True)\n",
    "dft['Runtime(mins)'] = dft['Runtime(mins)'].apply(float)\n",
    "dft['Budget'].fillna(value=pd.np.nan, inplace=True)\n",
    "dft['Budget'] = dft['Budget'].apply(float)\n",
    "dft['CPMin'] = dft['Budget']/dft['Runtime(mins)']\n",
    "#dft['GvBRatio'] = dft['Domestic_Total_Gross']/dft['Budget']\n",
    "#dft['Profits'] = dft['Domestic_Total_Gross'] - dft['Budget']"
   ]
  },
  {
   "cell_type": "code",
   "execution_count": 34,
   "metadata": {
    "scrolled": true
   },
   "outputs": [
    {
     "name": "stdout",
     "output_type": "stream",
     "text": [
      "<class 'pandas.core.frame.DataFrame'>\n",
      "RangeIndex: 1673 entries, 0 to 1672\n",
      "Data columns (total 13 columns):\n",
      "Movie_Title             1673 non-null object\n",
      "Distributor             1673 non-null object\n",
      "Domestic_Total_Gross    1673 non-null float64\n",
      "Budget                  1430 non-null float64\n",
      "Runtime(mins)           1650 non-null float64\n",
      "Rating                  1634 non-null object\n",
      "Release_Date            1673 non-null datetime64[ns]\n",
      "Genre                   1673 non-null object\n",
      "strpdate                1673 non-null datetime64[ns]\n",
      "year                    1673 non-null int64\n",
      "CPMin                   1412 non-null float64\n",
      "GvBRatio                1430 non-null float64\n",
      "Profits                 1430 non-null float64\n",
      "dtypes: datetime64[ns](2), float64(6), int64(1), object(4)\n",
      "memory usage: 170.0+ KB\n"
     ]
    }
   ],
   "source": [
    "dft.info()"
   ]
  },
  {
   "cell_type": "code",
   "execution_count": 29,
   "metadata": {
    "scrolled": true
   },
   "outputs": [
    {
     "name": "stderr",
     "output_type": "stream",
     "text": [
      "C:\\ProgramData\\Anaconda3\\lib\\site-packages\\numpy\\lib\\histograms.py:839: RuntimeWarning: invalid value encountered in greater_equal\n",
      "  keep = (tmp_a >= first_edge)\n",
      "C:\\ProgramData\\Anaconda3\\lib\\site-packages\\numpy\\lib\\histograms.py:840: RuntimeWarning: invalid value encountered in less_equal\n",
      "  keep &= (tmp_a <= last_edge)\n"
     ]
    },
    {
     "data": {
      "text/plain": [
       "<seaborn.axisgrid.PairGrid at 0x1c64b3cdd48>"
      ]
     },
     "execution_count": 29,
     "metadata": {},
     "output_type": "execute_result"
    },
    {
     "data": {
      "image/png": "[encoded data removed]",
      "text/plain": [
       "<Figure size 1260x1260 with 56 Axes>"
      ]
     },
     "metadata": {
      "needs_background": "light"
     },
     "output_type": "display_data"
    }
   ],
   "source": [
    "sns.pairplot(dft)"
   ]
  },
  {
   "cell_type": "code",
   "execution_count": 40,
   "metadata": {},
   "outputs": [],
   "source": [
    "dftN = dft.dropna()"
   ]
  },
  {
   "cell_type": "code",
   "execution_count": 46,
   "metadata": {},
   "outputs": [
    {
     "data": {
      "text/plain": [
       "0.3954597024999164"
      ]
     },
     "execution_count": 46,
     "metadata": {},
     "output_type": "execute_result"
    }
   ],
   "source": [
    "lr = LinearRegression()\n",
    "lr.fit(dftN[['Budget','Runtime(mins)']],dftN['Domestic_Total_Gross'])\n",
    "lr.score(dftN[['Budget','Runtime(mins)']],dftN['Domestic_Total_Gross'])"
   ]
  },
  {
   "cell_type": "code",
   "execution_count": 47,
   "metadata": {},
   "outputs": [
    {
     "data": {
      "text/plain": [
       "array([1.00088736e+00, 6.54250285e+05])"
      ]
     },
     "execution_count": 47,
     "metadata": {},
     "output_type": "execute_result"
    }
   ],
   "source": [
    "lr.coef_"
   ]
  },
  {
   "cell_type": "code",
   "execution_count": 48,
   "metadata": {},
   "outputs": [
    {
     "data": {
      "text/plain": [
       "0.4109018745476661"
      ]
     },
     "execution_count": 48,
     "metadata": {},
     "output_type": "execute_result"
    }
   ],
   "source": [
    "lr = LinearRegression()\n",
    "lr.fit(dftN[['Budget','Runtime(mins)','CPMin','year']],dftN['Domestic_Total_Gross'])\n",
    "lr.score(dftN[['Budget','Runtime(mins)','CPMin','year']],dftN['Domestic_Total_Gross'])"
   ]
  },
  {
   "cell_type": "code",
   "execution_count": 49,
   "metadata": {},
   "outputs": [
    {
     "data": {
      "text/plain": [
       "array([ 2.23121651e+00, -2.22583398e+05, -1.43543920e+02,  7.29802618e+05])"
      ]
     },
     "execution_count": 49,
     "metadata": {},
     "output_type": "execute_result"
    }
   ],
   "source": [
    "lr.coef_"
   ]
  },
  {
   "cell_type": "code",
   "execution_count": 52,
   "metadata": {},
   "outputs": [
    {
     "data": {
      "text/plain": [
       "0.4109018745476661"
      ]
     },
     "execution_count": 52,
     "metadata": {},
     "output_type": "execute_result"
    }
   ],
   "source": [
    "lr = LinearRegression()\n",
    "lr.fit(dftN[['Budget','Runtime(mins)','CPMin','year']],dftN['Domestic_Total_Gross'])\n",
    "lr.score(dftN[['Budget','Runtime(mins)','CPMin','year']],dftN['Domestic_Total_Gross'])"
   ]
  },
  {
   "cell_type": "code",
   "execution_count": 53,
   "metadata": {},
   "outputs": [
    {
     "data": {
      "text/plain": [
       "array([ 2.23121651e+00, -2.22583398e+05, -1.43543920e+02,  7.29802618e+05])"
      ]
     },
     "execution_count": 53,
     "metadata": {},
     "output_type": "execute_result"
    }
   ],
   "source": [
    "lr.coef_"
   ]
  },
  {
   "cell_type": "code",
   "execution_count": 318,
   "metadata": {},
   "outputs": [
    {
     "ename": "ValueError",
     "evalue": "cannot reshape array of size 307 into shape (2)",
     "output_type": "error",
     "traceback": [
      "\u001b[1;31m---------------------------------------------------------------------------\u001b[0m",
      "\u001b[1;31mValueError\u001b[0m                                Traceback (most recent call last)",
      "\u001b[1;32m<ipython-input-318-57b3a0166574>\u001b[0m in \u001b[0;36m<module>\u001b[1;34m\u001b[0m\n\u001b[0;32m     21\u001b[0m \u001b[0mpage\u001b[0m \u001b[1;33m=\u001b[0m \u001b[1;33m[\u001b[0m\u001b[1;34m'001'\u001b[0m\u001b[1;33m,\u001b[0m\u001b[1;34m'101'\u001b[0m\u001b[1;33m,\u001b[0m\u001b[1;34m'201'\u001b[0m\u001b[1;33m,\u001b[0m\u001b[1;34m'301'\u001b[0m\u001b[1;33m]\u001b[0m\u001b[1;31m#,'401']#,'501','601','701','801','901',\u001b[0m\u001b[1;33m\u001b[0m\u001b[1;33m\u001b[0m\u001b[0m\n\u001b[0;32m     22\u001b[0m          \u001b[1;31m#'1001','1101','1201','1301','1401','1501','1601','1701','1801','1901']\u001b[0m\u001b[1;33m\u001b[0m\u001b[1;33m\u001b[0m\u001b[1;33m\u001b[0m\u001b[0m\n\u001b[1;32m---> 23\u001b[1;33m \u001b[0murl_budgets\u001b[0m \u001b[1;33m=\u001b[0m \u001b[0mget_urls_budget\u001b[0m\u001b[1;33m(\u001b[0m\u001b[0mpage\u001b[0m\u001b[1;33m)\u001b[0m\u001b[1;33m\u001b[0m\u001b[1;33m\u001b[0m\u001b[0m\n\u001b[0m",
      "\u001b[1;32m<ipython-input-318-57b3a0166574>\u001b[0m in \u001b[0;36mget_urls_budget\u001b[1;34m(years)\u001b[0m\n\u001b[0;32m     12\u001b[0m         \u001b[0mk\u001b[0m \u001b[1;33m=\u001b[0m \u001b[0msoup\u001b[0m\u001b[1;33m.\u001b[0m\u001b[0mfind_all\u001b[0m\u001b[1;33m(\u001b[0m\u001b[1;34m'a'\u001b[0m\u001b[1;33m)\u001b[0m\u001b[1;33m\u001b[0m\u001b[1;33m\u001b[0m\u001b[0m\n\u001b[0;32m     13\u001b[0m \u001b[1;33m\u001b[0m\u001b[0m\n\u001b[1;32m---> 14\u001b[1;33m         \u001b[0mdf\u001b[0m \u001b[1;33m=\u001b[0m \u001b[0mpd\u001b[0m\u001b[1;33m.\u001b[0m\u001b[0mDataFrame\u001b[0m\u001b[1;33m(\u001b[0m\u001b[1;33m(\u001b[0m\u001b[0mnp\u001b[0m\u001b[1;33m.\u001b[0m\u001b[0marray\u001b[0m\u001b[1;33m(\u001b[0m\u001b[0mlist\u001b[0m\u001b[1;33m(\u001b[0m\u001b[0mk\u001b[0m\u001b[1;33m)\u001b[0m\u001b[1;33m)\u001b[0m\u001b[1;33m[\u001b[0m\u001b[1;36m26\u001b[0m\u001b[1;33m:\u001b[0m\u001b[1;36m426\u001b[0m\u001b[1;33m]\u001b[0m\u001b[1;33m)\u001b[0m\u001b[1;33m.\u001b[0m\u001b[0mreshape\u001b[0m\u001b[1;33m(\u001b[0m\u001b[1;33m-\u001b[0m\u001b[1;36m1\u001b[0m\u001b[1;33m,\u001b[0m\u001b[1;36m2\u001b[0m\u001b[1;33m)\u001b[0m\u001b[1;33m)\u001b[0m\u001b[1;33m\u001b[0m\u001b[1;33m\u001b[0m\u001b[0m\n\u001b[0m\u001b[0;32m     15\u001b[0m         \u001b[0mmoviepaths\u001b[0m \u001b[1;33m=\u001b[0m \u001b[0mdf\u001b[0m\u001b[1;33m.\u001b[0m\u001b[0mloc\u001b[0m\u001b[1;33m[\u001b[0m\u001b[1;33m:\u001b[0m\u001b[1;33m,\u001b[0m\u001b[1;36m0\u001b[0m\u001b[1;33m]\u001b[0m\u001b[1;33m\u001b[0m\u001b[1;33m\u001b[0m\u001b[0m\n\u001b[0;32m     16\u001b[0m         \u001b[1;31m#print(pd.DataFrame(moviepaths))\u001b[0m\u001b[1;33m\u001b[0m\u001b[1;33m\u001b[0m\u001b[1;33m\u001b[0m\u001b[0m\n",
      "\u001b[1;31mValueError\u001b[0m: cannot reshape array of size 307 into shape (2)"
     ]
    }
   ],
   "source": [
    "#https://www.the-numbers.com/movie/budgets/all\n",
    "def get_urls_budget(years):\n",
    "    '''Takes a 4 digit year input, or a list of them'''\n",
    "    url = \"https://www.the-numbers.com/movie/budgets/all/{}\"\n",
    "    dfs = []\n",
    "    for year in years:\n",
    "        file_url = url.format(year)\n",
    "        response = requests.get(file_url)\n",
    "        page = response.text\n",
    "        soup = BeautifulSoup(page, \"lxml\")\n",
    "        \n",
    "        k = soup.find_all('a')\n",
    "\n",
    "        df = pd.DataFrame(np.array(list(k))[26:426]).reshape(-1,2)\n",
    "        moviepaths = df.loc[:,0]\n",
    "        #print(pd.DataFrame(moviepaths))\n",
    "        for item in moviepaths:\n",
    "            dfs.append(item)\n",
    "    return dfs\n",
    "\n",
    "page = ['001','101','201','301','401']#,'501','601','701','801','901',\n",
    "         #'1001','1101','1201','1301','1401','1501','1601','1701','1801','1901']\n",
    "url_budgets = get_urls_budget(page)"
   ]
  },
  {
   "cell_type": "code",
   "execution_count": 234,
   "metadata": {},
   "outputs": [
    {
     "data": {
      "text/html": [
       "<div>\n",
       "<style scoped>\n",
       "    .dataframe tbody tr th:only-of-type {\n",
       "        vertical-align: middle;\n",
       "    }\n",
       "\n",
       "    .dataframe tbody tr th {\n",
       "        vertical-align: top;\n",
       "    }\n",
       "\n",
       "    .dataframe thead th {\n",
       "        text-align: right;\n",
       "    }\n",
       "</style>\n",
       "<table border=\"1\" class=\"dataframe\">\n",
       "  <thead>\n",
       "    <tr style=\"text-align: right;\">\n",
       "      <th></th>\n",
       "      <th>zxcv</th>\n",
       "      <th>asdf</th>\n",
       "    </tr>\n",
       "  </thead>\n",
       "  <tbody>\n",
       "  </tbody>\n",
       "</table>\n",
       "</div>"
      ],
      "text/plain": [
       "Empty DataFrame\n",
       "Columns: [zxcv, asdf]\n",
       "Index: []"
      ]
     },
     "execution_count": 234,
     "metadata": {},
     "output_type": "execute_result"
    }
   ],
   "source": [
    "qwertyuiop = pd.DataFrame(columns = ['zxcv','asdf'])\n",
    "qwertyuiop"
   ]
  },
  {
   "cell_type": "code",
   "execution_count": 304,
   "metadata": {
    "scrolled": true
   },
   "outputs": [
    {
     "ename": "TypeError",
     "evalue": "cannot concatenate object of type '<class 'str'>'; only Series and DataFrame objs are valid",
     "output_type": "error",
     "traceback": [
      "\u001b[1;31m---------------------------------------------------------------------------\u001b[0m",
      "\u001b[1;31mTypeError\u001b[0m                                 Traceback (most recent call last)",
      "\u001b[1;32m<ipython-input-304-0a0b69030fab>\u001b[0m in \u001b[0;36m<module>\u001b[1;34m\u001b[0m\n\u001b[0;32m     13\u001b[0m \u001b[0mj\u001b[0m \u001b[1;33m=\u001b[0m \u001b[0mlist\u001b[0m\u001b[1;33m(\u001b[0m\u001b[0msoup\u001b[0m\u001b[1;33m.\u001b[0m\u001b[0mfind_all\u001b[0m\u001b[1;33m(\u001b[0m\u001b[1;34m'td'\u001b[0m\u001b[1;33m)\u001b[0m\u001b[1;33m)\u001b[0m\u001b[1;33m\u001b[0m\u001b[1;33m\u001b[0m\u001b[0m\n\u001b[0;32m     14\u001b[0m \u001b[1;32mfor\u001b[0m \u001b[0mi\u001b[0m \u001b[1;32min\u001b[0m \u001b[0mrange\u001b[0m\u001b[1;33m(\u001b[0m\u001b[0mlen\u001b[0m\u001b[1;33m(\u001b[0m\u001b[0mj\u001b[0m\u001b[1;33m)\u001b[0m\u001b[1;33m)\u001b[0m\u001b[1;33m:\u001b[0m\u001b[1;33m\u001b[0m\u001b[1;33m\u001b[0m\u001b[0m\n\u001b[1;32m---> 15\u001b[1;33m     \u001b[0mdfs\u001b[0m\u001b[1;33m[\u001b[0m\u001b[1;34m'Movie_Title'\u001b[0m\u001b[1;33m]\u001b[0m\u001b[1;33m.\u001b[0m\u001b[0mappend\u001b[0m\u001b[1;33m(\u001b[0m\u001b[0mstr\u001b[0m\u001b[1;33m(\u001b[0m\u001b[0mj\u001b[0m\u001b[1;33m[\u001b[0m\u001b[0mi\u001b[0m\u001b[1;33m]\u001b[0m\u001b[1;33m)\u001b[0m\u001b[1;33m)\u001b[0m\u001b[1;33m\u001b[0m\u001b[1;33m\u001b[0m\u001b[0m\n\u001b[0m\u001b[0;32m     16\u001b[0m \u001b[0mbudgets2\u001b[0m \u001b[1;33m=\u001b[0m \u001b[0mpd\u001b[0m\u001b[1;33m.\u001b[0m\u001b[0mDataFrame\u001b[0m\u001b[1;33m(\u001b[0m\u001b[0mnp\u001b[0m\u001b[1;33m.\u001b[0m\u001b[0marray\u001b[0m\u001b[1;33m(\u001b[0m\u001b[0masdf\u001b[0m\u001b[1;33m)\u001b[0m\u001b[1;33m.\u001b[0m\u001b[0mreshape\u001b[0m\u001b[1;33m(\u001b[0m\u001b[1;33m-\u001b[0m\u001b[1;36m1\u001b[0m\u001b[1;33m,\u001b[0m\u001b[1;36m6\u001b[0m\u001b[1;33m)\u001b[0m\u001b[1;33m)\u001b[0m\u001b[1;33m[\u001b[0m\u001b[1;36m3\u001b[0m\u001b[1;33m]\u001b[0m\u001b[1;33m\u001b[0m\u001b[1;33m\u001b[0m\u001b[0m\n\u001b[0;32m     17\u001b[0m \u001b[1;32mfor\u001b[0m \u001b[0mi\u001b[0m \u001b[1;32min\u001b[0m \u001b[0mrange\u001b[0m\u001b[1;33m(\u001b[0m\u001b[0mlen\u001b[0m\u001b[1;33m(\u001b[0m\u001b[0mbudgets2\u001b[0m\u001b[1;33m)\u001b[0m\u001b[1;33m)\u001b[0m\u001b[1;33m:\u001b[0m\u001b[1;33m\u001b[0m\u001b[1;33m\u001b[0m\u001b[0m\n",
      "\u001b[1;32mC:\\ProgramData\\Anaconda3\\lib\\site-packages\\pandas\\core\\series.py\u001b[0m in \u001b[0;36mappend\u001b[1;34m(self, to_append, ignore_index, verify_integrity)\u001b[0m\n\u001b[0;32m   2780\u001b[0m             \u001b[0mto_concat\u001b[0m \u001b[1;33m=\u001b[0m \u001b[1;33m[\u001b[0m\u001b[0mself\u001b[0m\u001b[1;33m,\u001b[0m \u001b[0mto_append\u001b[0m\u001b[1;33m]\u001b[0m\u001b[1;33m\u001b[0m\u001b[1;33m\u001b[0m\u001b[0m\n\u001b[0;32m   2781\u001b[0m         return concat(\n\u001b[1;32m-> 2782\u001b[1;33m             \u001b[0mto_concat\u001b[0m\u001b[1;33m,\u001b[0m \u001b[0mignore_index\u001b[0m\u001b[1;33m=\u001b[0m\u001b[0mignore_index\u001b[0m\u001b[1;33m,\u001b[0m \u001b[0mverify_integrity\u001b[0m\u001b[1;33m=\u001b[0m\u001b[0mverify_integrity\u001b[0m\u001b[1;33m\u001b[0m\u001b[1;33m\u001b[0m\u001b[0m\n\u001b[0m\u001b[0;32m   2783\u001b[0m         )\n\u001b[0;32m   2784\u001b[0m \u001b[1;33m\u001b[0m\u001b[0m\n",
      "\u001b[1;32mC:\\ProgramData\\Anaconda3\\lib\\site-packages\\pandas\\core\\reshape\\concat.py\u001b[0m in \u001b[0;36mconcat\u001b[1;34m(objs, axis, join, join_axes, ignore_index, keys, levels, names, verify_integrity, sort, copy)\u001b[0m\n\u001b[0;32m    253\u001b[0m         \u001b[0mverify_integrity\u001b[0m\u001b[1;33m=\u001b[0m\u001b[0mverify_integrity\u001b[0m\u001b[1;33m,\u001b[0m\u001b[1;33m\u001b[0m\u001b[1;33m\u001b[0m\u001b[0m\n\u001b[0;32m    254\u001b[0m         \u001b[0mcopy\u001b[0m\u001b[1;33m=\u001b[0m\u001b[0mcopy\u001b[0m\u001b[1;33m,\u001b[0m\u001b[1;33m\u001b[0m\u001b[1;33m\u001b[0m\u001b[0m\n\u001b[1;32m--> 255\u001b[1;33m         \u001b[0msort\u001b[0m\u001b[1;33m=\u001b[0m\u001b[0msort\u001b[0m\u001b[1;33m,\u001b[0m\u001b[1;33m\u001b[0m\u001b[1;33m\u001b[0m\u001b[0m\n\u001b[0m\u001b[0;32m    256\u001b[0m     )\n\u001b[0;32m    257\u001b[0m \u001b[1;33m\u001b[0m\u001b[0m\n",
      "\u001b[1;32mC:\\ProgramData\\Anaconda3\\lib\\site-packages\\pandas\\core\\reshape\\concat.py\u001b[0m in \u001b[0;36m__init__\u001b[1;34m(self, objs, axis, join, join_axes, keys, levels, names, ignore_index, verify_integrity, copy, sort)\u001b[0m\n\u001b[0;32m    330\u001b[0m                     \u001b[1;34m\" only Series and DataFrame objs are valid\"\u001b[0m\u001b[1;33m.\u001b[0m\u001b[0mformat\u001b[0m\u001b[1;33m(\u001b[0m\u001b[0mtype\u001b[0m\u001b[1;33m(\u001b[0m\u001b[0mobj\u001b[0m\u001b[1;33m)\u001b[0m\u001b[1;33m)\u001b[0m\u001b[1;33m\u001b[0m\u001b[1;33m\u001b[0m\u001b[0m\n\u001b[0;32m    331\u001b[0m                 )\n\u001b[1;32m--> 332\u001b[1;33m                 \u001b[1;32mraise\u001b[0m \u001b[0mTypeError\u001b[0m\u001b[1;33m(\u001b[0m\u001b[0mmsg\u001b[0m\u001b[1;33m)\u001b[0m\u001b[1;33m\u001b[0m\u001b[1;33m\u001b[0m\u001b[0m\n\u001b[0m\u001b[0;32m    333\u001b[0m \u001b[1;33m\u001b[0m\u001b[0m\n\u001b[0;32m    334\u001b[0m             \u001b[1;31m# consolidate\u001b[0m\u001b[1;33m\u001b[0m\u001b[1;33m\u001b[0m\u001b[1;33m\u001b[0m\u001b[0m\n",
      "\u001b[1;31mTypeError\u001b[0m: cannot concatenate object of type '<class 'str'>'; only Series and DataFrame objs are valid"
     ]
    }
   ],
   "source": [
    "    dfs = pd.DataFrame(columns = ['Movie_Title','Budget'])\n",
    "    url = \"https://www.the-numbers.com/movie/budgets/all/001\"\n",
    "    asdf=[]\n",
    "    Budget = []\n",
    "    #for year in years:\n",
    "    #    file_url = url.format(year)\n",
    "    response = requests.get(url)\n",
    "    page = response.text\n",
    "    soup = BeautifulSoup(page, \"lxml\")\n",
    "    k = soup.find_all('a')\n",
    "    df = (pd.DataFrame(np.array(list(k))[71:-62].reshape(-1,2)))\n",
    "    movie_title = df.loc[:,1]\n",
    "    j = list(soup.find_all('td'))\n",
    "    for i in range(len(j)):\n",
    "        dfs['Movie_Title'].append(str(j[i]))\n",
    "    budgets2 = pd.DataFrame(np.array(asdf).reshape(-1,6))[3]\n",
    "    for i in range(len(budgets2)):\n",
    "        dfs['Budget'].append(budgets2[i][18:-5])\n",
    "    #dfs['Movie_Title'] = pd.DataFrame(movie_title)\n",
    "    #dfs['Budget'] = pd.DataFrame(Budget)"
   ]
  },
  {
   "cell_type": "code",
   "execution_count": null,
   "metadata": {},
   "outputs": [],
   "source": []
  },
  {
   "cell_type": "code",
   "execution_count": null,
   "metadata": {},
   "outputs": [],
   "source": []
  },
  {
   "cell_type": "code",
   "execution_count": null,
   "metadata": {},
   "outputs": [],
   "source": []
  },
  {
   "cell_type": "code",
   "execution_count": null,
   "metadata": {},
   "outputs": [],
   "source": [
    "def get_urls_budget(years):\n",
    "    dfs = pd.DataFrame(columns = ['Movie_Title','Budget'])\n",
    "    url = \"https://www.the-numbers.com/movie/budgets/all/{}\"\n",
    "    asdf=[]\n",
    "    Budget = []\n",
    "    for year in years:\n",
    "        file_url = url.format(year)\n",
    "        response = requests.get(file_url)\n",
    "        page = response.text\n",
    "        soup = BeautifulSoup(page, \"lxml\")\n",
    "        k = soup.find_all('a')\n",
    "        df = (pd.DataFrame(np.array(list(k))[71:-62].reshape(-1,2)))\n",
    "        movie_title = df.loc[:,1]\n",
    "        j = list(soup.find_all('td'))\n",
    "        for i in range(len(j)):\n",
    "            dfs['Movie_Title'].append(str(j[i]))\n",
    "        budgets2 = pd.DataFrame(np.array(asdf).reshape(-1,6))[3]\n",
    "        for i in range(len(budgets2)):\n",
    "            dfs['Budget'].append(budgets2[i][18:-5])\n",
    "    dfs['Movie_Title'] = movie_title\n",
    "    dfs['Budget'] = Budget\n",
    "    #return dfs\n",
    "#page = ['001','101']#,'201','301','401','501','601','701','801','901',\n",
    "         #'1001','1101','1201','1301','1401','1501','1601','1701','1801','1901']\n",
    "#url_budgets = get_urls_budget(page)"
   ]
  },
  {
   "cell_type": "code",
   "execution_count": 521,
   "metadata": {},
   "outputs": [],
   "source": [
    "dfs = pd.DataFrame(columns = ['Movie_Title','Budget'])\n",
    "url = \"https://www.the-numbers.com/movie/budgets/all/001\"\n",
    "asdf=[]\n",
    "Budget = []\n",
    "response = requests.get(url)\n",
    "page = response.text\n",
    "soup = BeautifulSoup(page, \"lxml\")\n",
    "k = soup.find_all('a')\n",
    "df = (pd.DataFrame(np.array(list(k))[71:-62].reshape(-1,2)))\n",
    "movie_title = df.loc[:,1]\n",
    "\n",
    "j = list(soup.find_all('td'))\n",
    "\n",
    "for i in range(len(j)):\n",
    "    asdf.append(str(j[i]))\n",
    "budgets2 = pd.DataFrame(np.array(asdf).reshape(-1,6))[3]\n",
    "\n",
    "for i in range(len(budgets2)):\n",
    "    Budget.append(budgets2[i][18:-5])\n",
    "dfs['Movie_Title'] = movie_title\n",
    "dfs['Budget'] = Budget"
   ]
  },
  {
   "cell_type": "code",
   "execution_count": 522,
   "metadata": {},
   "outputs": [
    {
     "data": {
      "text/html": [
       "<div>\n",
       "<style scoped>\n",
       "    .dataframe tbody tr th:only-of-type {\n",
       "        vertical-align: middle;\n",
       "    }\n",
       "\n",
       "    .dataframe tbody tr th {\n",
       "        vertical-align: top;\n",
       "    }\n",
       "\n",
       "    .dataframe thead th {\n",
       "        text-align: right;\n",
       "    }\n",
       "</style>\n",
       "<table border=\"1\" class=\"dataframe\">\n",
       "  <thead>\n",
       "    <tr style=\"text-align: right;\">\n",
       "      <th></th>\n",
       "      <th>Movie_Title</th>\n",
       "      <th>Budget</th>\n",
       "    </tr>\n",
       "  </thead>\n",
       "  <tbody>\n",
       "    <tr>\n",
       "      <th>0</th>\n",
       "      <td>[Avengers: Endgame]</td>\n",
       "      <td>$400,000,000</td>\n",
       "    </tr>\n",
       "    <tr>\n",
       "      <th>1</th>\n",
       "      <td>[Pirates of the Caribbean: On Stranger Tides]</td>\n",
       "      <td>$379,000,000</td>\n",
       "    </tr>\n",
       "    <tr>\n",
       "      <th>2</th>\n",
       "      <td>[Avengers: Age of Ultron]</td>\n",
       "      <td>$365,000,000</td>\n",
       "    </tr>\n",
       "    <tr>\n",
       "      <th>3</th>\n",
       "      <td>[Star Wars Ep. VII: The Force Awakens]</td>\n",
       "      <td>$306,000,000</td>\n",
       "    </tr>\n",
       "    <tr>\n",
       "      <th>4</th>\n",
       "      <td>[Avengers: Infinity War]</td>\n",
       "      <td>$300,000,000</td>\n",
       "    </tr>\n",
       "    <tr>\n",
       "      <th>...</th>\n",
       "      <td>...</td>\n",
       "      <td>...</td>\n",
       "    </tr>\n",
       "    <tr>\n",
       "      <th>95</th>\n",
       "      <td>[Rush Hour 3]</td>\n",
       "      <td>$180,000,000</td>\n",
       "    </tr>\n",
       "    <tr>\n",
       "      <th>96</th>\n",
       "      <td>[The Legend of Tarzan]</td>\n",
       "      <td>$180,000,000</td>\n",
       "    </tr>\n",
       "    <tr>\n",
       "      <th>97</th>\n",
       "      <td>[Hugo]</td>\n",
       "      <td>$180,000,000</td>\n",
       "    </tr>\n",
       "    <tr>\n",
       "      <th>98</th>\n",
       "      <td>[Valerian and the City of a Thousand Planets]</td>\n",
       "      <td>$180,000,000</td>\n",
       "    </tr>\n",
       "    <tr>\n",
       "      <th>99</th>\n",
       "      <td>[Jupiter Ascending]</td>\n",
       "      <td>$179,000,000</td>\n",
       "    </tr>\n",
       "  </tbody>\n",
       "</table>\n",
       "<p>100 rows × 2 columns</p>\n",
       "</div>"
      ],
      "text/plain": [
       "                                      Movie_Title        Budget\n",
       "0                             [Avengers: Endgame]  $400,000,000\n",
       "1   [Pirates of the Caribbean: On Stranger Tides]  $379,000,000\n",
       "2                       [Avengers: Age of Ultron]  $365,000,000\n",
       "3          [Star Wars Ep. VII: The Force Awakens]  $306,000,000\n",
       "4                        [Avengers: Infinity War]  $300,000,000\n",
       "..                                            ...           ...\n",
       "95                                  [Rush Hour 3]  $180,000,000\n",
       "96                         [The Legend of Tarzan]  $180,000,000\n",
       "97                                         [Hugo]  $180,000,000\n",
       "98  [Valerian and the City of a Thousand Planets]  $180,000,000\n",
       "99                            [Jupiter Ascending]  $179,000,000\n",
       "\n",
       "[100 rows x 2 columns]"
      ]
     },
     "execution_count": 522,
     "metadata": {},
     "output_type": "execute_result"
    }
   ],
   "source": [
    "dfs"
   ]
  },
  {
   "cell_type": "code",
   "execution_count": 539,
   "metadata": {},
   "outputs": [],
   "source": [
    " def get_urls_budgetL(years):   \n",
    "    \n",
    "    dfs = {}\n",
    "    url = \"https://www.the-numbers.com/movie/budgets/all/{}\"\n",
    "    asdf=[]\n",
    "    Budget = []\n",
    "    for year in years:\n",
    "        file_url = url.format(year)\n",
    "        response = requests.get(file_url)\n",
    "        page = response.text\n",
    "        soup = BeautifulSoup(page, \"lxml\")\n",
    "        k = soup.find_all('a')\n",
    "        df = (pd.DataFrame(np.array(list(k))[71:-62].reshape(-1,2)))\n",
    "        movie_title = df.loc[:,1]\n",
    "        asdf=[]\n",
    "        Budget = []\n",
    "        \n",
    "        j = list(soup.find_all('td'))\n",
    "        \n",
    "        for i in range(len(j)):\n",
    "            asdf.append(str(j[i]))\n",
    "        budgets2 = pd.DataFrame(np.array(asdf).reshape(-1,6))[3]\n",
    "        for i in range(len(budgets2)):\n",
    "            Budget.append(budgets2[i][18:-5])\n",
    "        dfs['Movie_Titles{}'.format(year)] = movie_title\n",
    "        dfs['Budget{}'.format(year)] = Budget\n",
    "    #dfs['Movie_Title'] = movie_title\n",
    "    #dfs['Budget'] = Budget\n",
    "    return dfs\n",
    "#years = ['001','101','201','301','401']#,'501','601','701','801','901',\n",
    "         #'1001','1101','1201','1301','1401','1501','1601','1701','1801','1901']\n",
    "jkl0 = get_urls_budgetL(['001','101','201','301','401'])\n",
    "#jkl1 = get_urls_budget([])\n",
    "#jkl2 = get_urls_budget(['501'])\n",
    "#jkl3 = get_urls_budget(['601','701'])\n",
    "#jkl4 = get_urls_budget(['801','901'])\n",
    "\n"
   ]
  },
  {
   "cell_type": "code",
   "execution_count": 540,
   "metadata": {},
   "outputs": [],
   "source": [
    " def get_urls_budgetU(years):   \n",
    "    \n",
    "    dfs = {}\n",
    "    url = \"https://www.the-numbers.com/movie/budgets/all/{}\"\n",
    "    asdf=[]\n",
    "    Budget = []\n",
    "    for year in years:\n",
    "        file_url = url.format(year)\n",
    "        response = requests.get(file_url)\n",
    "        page = response.text\n",
    "        soup = BeautifulSoup(page, \"lxml\")\n",
    "        k = soup.find_all('a')\n",
    "        df = (pd.DataFrame(np.array(list(k))[71:-63].reshape(-1,2)))\n",
    "        movie_title = df.loc[:,1]\n",
    "        asdf=[]\n",
    "        Budget = []\n",
    "        \n",
    "        j = list(soup.find_all('td'))\n",
    "        \n",
    "        for i in range(len(j)):\n",
    "            asdf.append(str(j[i]))\n",
    "        budgets2 = pd.DataFrame(np.array(asdf).reshape(-1,6))[3]\n",
    "        for i in range(len(budgets2)):\n",
    "            Budget.append(budgets2[i][18:-5])\n",
    "        dfs['Movie_Titles{}'.format(year)] = movie_title\n",
    "        dfs['Budget{}'.format(year)] = Budget\n",
    "    #dfs['Movie_Title'] = movie_title\n",
    "    #dfs['Budget'] = Budget\n",
    "    return dfs\n",
    "jkl1 = get_urls_budgetU(['501','601','701','801','901',\n",
    "                         '1001','1101','1201','1301','1401','1501','1601','1701','1801','1901'])"
   ]
  },
  {
   "cell_type": "code",
   "execution_count": 544,
   "metadata": {},
   "outputs": [
    {
     "data": {
      "text/plain": [
       "100"
      ]
     },
     "execution_count": 544,
     "metadata": {},
     "output_type": "execute_result"
    }
   ],
   "source": [
    "len(list(jkl1.values())[3])"
   ]
  },
  {
   "cell_type": "code",
   "execution_count": 528,
   "metadata": {},
   "outputs": [],
   "source": [
    "jkl0_1 = list(jkl0.values())[0:11:2]"
   ]
  },
  {
   "cell_type": "code",
   "execution_count": 529,
   "metadata": {},
   "outputs": [
    {
     "data": {
      "text/plain": [
       "100"
      ]
     },
     "execution_count": 529,
     "metadata": {},
     "output_type": "execute_result"
    }
   ],
   "source": [
    "len(jkl0_1[1])"
   ]
  },
  {
   "cell_type": "code",
   "execution_count": 398,
   "metadata": {},
   "outputs": [],
   "source": [
    "jkl0_Full = jkl0_1[0]\n",
    "jkl0_Full1 = jkl0_Full.append(jkl0_1[1], ignore_index=True)\n",
    "jkl0_Full2 = jkl0_Full1.append(jkl0_1[2], ignore_index=True)\n",
    "jkl0_Full3 = jkl0_Full2.append(jkl0_1[3], ignore_index=True)\n",
    "jkl0_Full4 = jkl0_Full3.append(jkl0_1[4], ignore_index=True)"
   ]
  },
  {
   "cell_type": "code",
   "execution_count": 405,
   "metadata": {},
   "outputs": [
    {
     "data": {
      "text/plain": [
       "0                                [Avengers: Endgame]\n",
       "1      [Pirates of the Caribbean: On Stranger Tides]\n",
       "2                          [Avengers: Age of Ultron]\n",
       "3             [Star Wars Ep. VII: The Force Awakens]\n",
       "4                           [Avengers: Infinity War]\n",
       "                           ...                      \n",
       "495                                [The Devil's Own]\n",
       "496                           [K-19: The Widowmaker]\n",
       "497                            [Conan the Barbarian]\n",
       "498                           [The Three Musketeers]\n",
       "499                                    [The Promise]\n",
       "Name: 1, Length: 500, dtype: object"
      ]
     },
     "execution_count": 405,
     "metadata": {},
     "output_type": "execute_result"
    }
   ],
   "source": [
    "jkl0_Full4"
   ]
  },
  {
   "cell_type": "code",
   "execution_count": 417,
   "metadata": {},
   "outputs": [],
   "source": [
    "jkl1_1 = list(jkl1.values())[0:31:2]"
   ]
  },
  {
   "cell_type": "code",
   "execution_count": 425,
   "metadata": {},
   "outputs": [],
   "source": [
    "jkl1_Full = jkl1_1[0]\n",
    "jkl1_Full1 = jkl1_Full.append(jkl1_1[1], ignore_index=True)\n",
    "jkl1_Full2 = jkl1_Full1.append(jkl1_1[2], ignore_index=True)\n",
    "jkl1_Full3 = jkl1_Full2.append(jkl1_1[3], ignore_index=True)\n",
    "jkl1_Full4 = jkl1_Full3.append(jkl1_1[4], ignore_index=True)\n",
    "jkl1_Full5 = jkl1_Full4.append(jkl1_1[5], ignore_index=True)\n",
    "jkl1_Full6 = jkl1_Full5.append(jkl1_1[6], ignore_index=True)\n",
    "jkl1_Full7 = jkl1_Full6.append(jkl1_1[7], ignore_index=True)\n",
    "jkl1_Full8 = jkl1_Full7.append(jkl1_1[8], ignore_index=True)\n",
    "jkl1_Full9 = jkl1_Full8.append(jkl1_1[9], ignore_index=True)\n",
    "jkl1_Full10 = jkl1_Full9.append(jkl1_1[10], ignore_index=True)\n",
    "jkl1_Full11 = jkl1_Full10.append(jkl1_1[11], ignore_index=True)\n",
    "jkl1_Full12 = jkl1_Full11.append(jkl1_1[12], ignore_index=True)\n",
    "jkl1_Full13 = jkl1_Full12.append(jkl1_1[13], ignore_index=True)\n",
    "jkl1_Full14 = jkl1_Full13.append(jkl1_1[14], ignore_index=True)"
   ]
  },
  {
   "cell_type": "code",
   "execution_count": 426,
   "metadata": {},
   "outputs": [
    {
     "data": {
      "text/plain": [
       "0              [The Nutcracker in 3D]\n",
       "1                            [Bright]\n",
       "2                [Sonic The Hedgehog]\n",
       "3                  [Army of the Dead]\n",
       "4                           [Twister]\n",
       "                    ...              \n",
       "1495              [Little Black Book]\n",
       "1496         [Assault On Precinct 13]\n",
       "1497                  [Runner Runner]\n",
       "1498        [The Replacement Killers]\n",
       "1499    [Baahubali 2: The Conclusion]\n",
       "Name: 1, Length: 1500, dtype: object"
      ]
     },
     "execution_count": 426,
     "metadata": {},
     "output_type": "execute_result"
    }
   ],
   "source": [
    "jkl1_Full14"
   ]
  },
  {
   "cell_type": "code",
   "execution_count": 429,
   "metadata": {},
   "outputs": [],
   "source": [
    "Names = jkl0_Full4.append(jkl1_Full14, ignore_index=True)"
   ]
  },
  {
   "cell_type": "code",
   "execution_count": 516,
   "metadata": {},
   "outputs": [
    {
     "name": "stderr",
     "output_type": "stream",
     "text": [
      "C:\\ProgramData\\Anaconda3\\lib\\site-packages\\ipykernel_launcher.py:2: FutureWarning: The signature of `Series.to_csv` was aligned to that of `DataFrame.to_csv`, and argument 'header' will change its default value from False to True: please pass an explicit value to suppress this warning.\n",
      "  \n"
     ]
    }
   ],
   "source": [
    "Names\n",
    "#Names.to_csv('MovieNamesForBudget.csv', index=False)"
   ]
  },
  {
   "cell_type": "code",
   "execution_count": 584,
   "metadata": {},
   "outputs": [
    {
     "ename": "RecursionError",
     "evalue": "maximum recursion depth exceeded while pickling an object",
     "output_type": "error",
     "traceback": [
      "\u001b[1;31m---------------------------------------------------------------------------\u001b[0m",
      "\u001b[1;31mRecursionError\u001b[0m                            Traceback (most recent call last)",
      "\u001b[1;32m<ipython-input-584-7df7b519ede7>\u001b[0m in \u001b[0;36m<module>\u001b[1;34m\u001b[0m\n\u001b[1;32m----> 1\u001b[1;33m \u001b[0mNames\u001b[0m\u001b[1;33m.\u001b[0m\u001b[0mto_pickle\u001b[0m\u001b[1;33m(\u001b[0m\u001b[1;34m'MovieNamesForBudget.pkl'\u001b[0m\u001b[1;33m)\u001b[0m\u001b[1;33m\u001b[0m\u001b[1;33m\u001b[0m\u001b[0m\n\u001b[0m",
      "\u001b[1;32mC:\\ProgramData\\Anaconda3\\lib\\site-packages\\pandas\\core\\generic.py\u001b[0m in \u001b[0;36mto_pickle\u001b[1;34m(self, path, compression, protocol)\u001b[0m\n\u001b[0;32m   2769\u001b[0m         \u001b[1;32mfrom\u001b[0m \u001b[0mpandas\u001b[0m\u001b[1;33m.\u001b[0m\u001b[0mio\u001b[0m\u001b[1;33m.\u001b[0m\u001b[0mpickle\u001b[0m \u001b[1;32mimport\u001b[0m \u001b[0mto_pickle\u001b[0m\u001b[1;33m\u001b[0m\u001b[1;33m\u001b[0m\u001b[0m\n\u001b[0;32m   2770\u001b[0m \u001b[1;33m\u001b[0m\u001b[0m\n\u001b[1;32m-> 2771\u001b[1;33m         \u001b[0mto_pickle\u001b[0m\u001b[1;33m(\u001b[0m\u001b[0mself\u001b[0m\u001b[1;33m,\u001b[0m \u001b[0mpath\u001b[0m\u001b[1;33m,\u001b[0m \u001b[0mcompression\u001b[0m\u001b[1;33m=\u001b[0m\u001b[0mcompression\u001b[0m\u001b[1;33m,\u001b[0m \u001b[0mprotocol\u001b[0m\u001b[1;33m=\u001b[0m\u001b[0mprotocol\u001b[0m\u001b[1;33m)\u001b[0m\u001b[1;33m\u001b[0m\u001b[1;33m\u001b[0m\u001b[0m\n\u001b[0m\u001b[0;32m   2772\u001b[0m \u001b[1;33m\u001b[0m\u001b[0m\n\u001b[0;32m   2773\u001b[0m     \u001b[1;32mdef\u001b[0m \u001b[0mto_clipboard\u001b[0m\u001b[1;33m(\u001b[0m\u001b[0mself\u001b[0m\u001b[1;33m,\u001b[0m \u001b[0mexcel\u001b[0m\u001b[1;33m=\u001b[0m\u001b[1;32mTrue\u001b[0m\u001b[1;33m,\u001b[0m \u001b[0msep\u001b[0m\u001b[1;33m=\u001b[0m\u001b[1;32mNone\u001b[0m\u001b[1;33m,\u001b[0m \u001b[1;33m**\u001b[0m\u001b[0mkwargs\u001b[0m\u001b[1;33m)\u001b[0m\u001b[1;33m:\u001b[0m\u001b[1;33m\u001b[0m\u001b[1;33m\u001b[0m\u001b[0m\n",
      "\u001b[1;32mC:\\ProgramData\\Anaconda3\\lib\\site-packages\\pandas\\io\\pickle.py\u001b[0m in \u001b[0;36mto_pickle\u001b[1;34m(obj, path, compression, protocol)\u001b[0m\n\u001b[0;32m     74\u001b[0m         \u001b[0mprotocol\u001b[0m \u001b[1;33m=\u001b[0m \u001b[0mpickle\u001b[0m\u001b[1;33m.\u001b[0m\u001b[0mHIGHEST_PROTOCOL\u001b[0m\u001b[1;33m\u001b[0m\u001b[1;33m\u001b[0m\u001b[0m\n\u001b[0;32m     75\u001b[0m     \u001b[1;32mtry\u001b[0m\u001b[1;33m:\u001b[0m\u001b[1;33m\u001b[0m\u001b[1;33m\u001b[0m\u001b[0m\n\u001b[1;32m---> 76\u001b[1;33m         \u001b[0mf\u001b[0m\u001b[1;33m.\u001b[0m\u001b[0mwrite\u001b[0m\u001b[1;33m(\u001b[0m\u001b[0mpickle\u001b[0m\u001b[1;33m.\u001b[0m\u001b[0mdumps\u001b[0m\u001b[1;33m(\u001b[0m\u001b[0mobj\u001b[0m\u001b[1;33m,\u001b[0m \u001b[0mprotocol\u001b[0m\u001b[1;33m=\u001b[0m\u001b[0mprotocol\u001b[0m\u001b[1;33m)\u001b[0m\u001b[1;33m)\u001b[0m\u001b[1;33m\u001b[0m\u001b[1;33m\u001b[0m\u001b[0m\n\u001b[0m\u001b[0;32m     77\u001b[0m     \u001b[1;32mfinally\u001b[0m\u001b[1;33m:\u001b[0m\u001b[1;33m\u001b[0m\u001b[1;33m\u001b[0m\u001b[0m\n\u001b[0;32m     78\u001b[0m         \u001b[0mf\u001b[0m\u001b[1;33m.\u001b[0m\u001b[0mclose\u001b[0m\u001b[1;33m(\u001b[0m\u001b[1;33m)\u001b[0m\u001b[1;33m\u001b[0m\u001b[1;33m\u001b[0m\u001b[0m\n",
      "\u001b[1;31mRecursionError\u001b[0m: maximum recursion depth exceeded while pickling an object"
     ]
    }
   ],
   "source": [
    "#Names.to_pickle('MovieNamesForBudget.pkl')"
   ]
  },
  {
   "cell_type": "code",
   "execution_count": 545,
   "metadata": {},
   "outputs": [],
   "source": [
    "jkl0_budg = list(jkl0.values())[1:11:2]\n",
    "jkl1_budg = list(jkl1.values())[1:31:2]\n",
    "\n"
   ]
  },
  {
   "cell_type": "code",
   "execution_count": 546,
   "metadata": {},
   "outputs": [
    {
     "data": {
      "text/plain": [
       "list"
      ]
     },
     "execution_count": 546,
     "metadata": {},
     "output_type": "execute_result"
    }
   ],
   "source": [
    "type(jkl0_budg[0])"
   ]
  },
  {
   "cell_type": "code",
   "execution_count": 548,
   "metadata": {},
   "outputs": [
    {
     "data": {
      "text/plain": [
       "100"
      ]
     },
     "execution_count": 548,
     "metadata": {},
     "output_type": "execute_result"
    }
   ],
   "source": [
    "len(jkl1_budg[2])#[-101:-1]"
   ]
  },
  {
   "cell_type": "code",
   "execution_count": 551,
   "metadata": {},
   "outputs": [],
   "source": [
    "jkl0_Full_budg = pd.DataFrame(jkl0_budg[0][0:100])\n",
    "jkl0_Full_budg1 = jkl0_Full_budg.append(jkl0_budg[1][0:100], ignore_index=True)\n",
    "jkl0_Full_budg2 = jkl0_Full_budg1.append(jkl0_budg[2][0:100], ignore_index=True)\n",
    "jkl0_Full_budg3 = jkl0_Full_budg2.append(jkl0_budg[3][0:100], ignore_index=True)\n",
    "jkl0_Full_budg4 = jkl0_Full_budg3.append(jkl0_budg[4][0:100], ignore_index=True)"
   ]
  },
  {
   "cell_type": "code",
   "execution_count": 553,
   "metadata": {},
   "outputs": [
    {
     "data": {
      "text/html": [
       "<div>\n",
       "<style scoped>\n",
       "    .dataframe tbody tr th:only-of-type {\n",
       "        vertical-align: middle;\n",
       "    }\n",
       "\n",
       "    .dataframe tbody tr th {\n",
       "        vertical-align: top;\n",
       "    }\n",
       "\n",
       "    .dataframe thead th {\n",
       "        text-align: right;\n",
       "    }\n",
       "</style>\n",
       "<table border=\"1\" class=\"dataframe\">\n",
       "  <thead>\n",
       "    <tr style=\"text-align: right;\">\n",
       "      <th></th>\n",
       "      <th>0</th>\n",
       "    </tr>\n",
       "  </thead>\n",
       "  <tbody>\n",
       "    <tr>\n",
       "      <th>0</th>\n",
       "      <td>$400,000,000</td>\n",
       "    </tr>\n",
       "    <tr>\n",
       "      <th>1</th>\n",
       "      <td>$379,000,000</td>\n",
       "    </tr>\n",
       "    <tr>\n",
       "      <th>2</th>\n",
       "      <td>$365,000,000</td>\n",
       "    </tr>\n",
       "    <tr>\n",
       "      <th>3</th>\n",
       "      <td>$306,000,000</td>\n",
       "    </tr>\n",
       "    <tr>\n",
       "      <th>4</th>\n",
       "      <td>$300,000,000</td>\n",
       "    </tr>\n",
       "    <tr>\n",
       "      <th>...</th>\n",
       "      <td>...</td>\n",
       "    </tr>\n",
       "    <tr>\n",
       "      <th>495</th>\n",
       "      <td>$90,000,000</td>\n",
       "    </tr>\n",
       "    <tr>\n",
       "      <th>496</th>\n",
       "      <td>$90,000,000</td>\n",
       "    </tr>\n",
       "    <tr>\n",
       "      <th>497</th>\n",
       "      <td>$90,000,000</td>\n",
       "    </tr>\n",
       "    <tr>\n",
       "      <th>498</th>\n",
       "      <td>$90,000,000</td>\n",
       "    </tr>\n",
       "    <tr>\n",
       "      <th>499</th>\n",
       "      <td>$90,000,000</td>\n",
       "    </tr>\n",
       "  </tbody>\n",
       "</table>\n",
       "<p>500 rows × 1 columns</p>\n",
       "</div>"
      ],
      "text/plain": [
       "                0\n",
       "0    $400,000,000\n",
       "1    $379,000,000\n",
       "2    $365,000,000\n",
       "3    $306,000,000\n",
       "4    $300,000,000\n",
       "..            ...\n",
       "495   $90,000,000\n",
       "496   $90,000,000\n",
       "497   $90,000,000\n",
       "498   $90,000,000\n",
       "499   $90,000,000\n",
       "\n",
       "[500 rows x 1 columns]"
      ]
     },
     "execution_count": 553,
     "metadata": {},
     "output_type": "execute_result"
    }
   ],
   "source": [
    "jkl0_Full_budg4"
   ]
  },
  {
   "cell_type": "code",
   "execution_count": 558,
   "metadata": {},
   "outputs": [],
   "source": [
    "jkl1_Full_budg = pd.DataFrame(jkl1_budg[0])\n",
    "jkl1_Full_budg1 = jkl1_Full_budg.append(jkl1_budg[1], ignore_index=True)\n",
    "jkl1_Full_budg2 = jkl1_Full_budg1.append(jkl1_budg[2], ignore_index=True)\n",
    "jkl1_Full_budg3 = jkl1_Full_budg2.append(jkl1_budg[3], ignore_index=True)\n",
    "jkl1_Full_budg4 = jkl1_Full_budg3.append(jkl1_budg[4], ignore_index=True)\n",
    "jkl1_Full_budg5 = jkl1_Full_budg4.append(jkl1_budg[5], ignore_index=True)\n",
    "jkl1_Full_budg6 = jkl1_Full_budg5.append(jkl1_budg[6], ignore_index=True)\n",
    "jkl1_Full_budg7 = jkl1_Full_budg6.append(jkl1_budg[7], ignore_index=True)\n",
    "jkl1_Full_budg8 = jkl1_Full_budg7.append(jkl1_budg[8], ignore_index=True)\n",
    "jkl1_Full_budg9 = jkl1_Full_budg8.append(jkl1_budg[9], ignore_index=True)\n",
    "jkl1_Full_budg10 = jkl1_Full_budg9.append(jkl1_budg[10], ignore_index=True)\n",
    "jkl1_Full_budg11 = jkl1_Full_budg10.append(jkl1_budg[11], ignore_index=True)\n",
    "jkl1_Full_budg12 = jkl1_Full_budg11.append(jkl1_budg[12], ignore_index=True)\n",
    "jkl1_Full_budg13 = jkl1_Full_budg12.append(jkl1_budg[13], ignore_index=True)\n",
    "jkl1_Full_budg14 = jkl1_Full_budg13.append(jkl1_budg[14], ignore_index=True)"
   ]
  },
  {
   "cell_type": "code",
   "execution_count": 559,
   "metadata": {},
   "outputs": [
    {
     "data": {
      "text/html": [
       "<div>\n",
       "<style scoped>\n",
       "    .dataframe tbody tr th:only-of-type {\n",
       "        vertical-align: middle;\n",
       "    }\n",
       "\n",
       "    .dataframe tbody tr th {\n",
       "        vertical-align: top;\n",
       "    }\n",
       "\n",
       "    .dataframe thead th {\n",
       "        text-align: right;\n",
       "    }\n",
       "</style>\n",
       "<table border=\"1\" class=\"dataframe\">\n",
       "  <thead>\n",
       "    <tr style=\"text-align: right;\">\n",
       "      <th></th>\n",
       "      <th>0</th>\n",
       "    </tr>\n",
       "  </thead>\n",
       "  <tbody>\n",
       "    <tr>\n",
       "      <th>0</th>\n",
       "      <td>$90,000,000</td>\n",
       "    </tr>\n",
       "    <tr>\n",
       "      <th>1</th>\n",
       "      <td>$90,000,000</td>\n",
       "    </tr>\n",
       "    <tr>\n",
       "      <th>2</th>\n",
       "      <td>$90,000,000</td>\n",
       "    </tr>\n",
       "    <tr>\n",
       "      <th>3</th>\n",
       "      <td>$90,000,000</td>\n",
       "    </tr>\n",
       "    <tr>\n",
       "      <th>4</th>\n",
       "      <td>$88,000,000</td>\n",
       "    </tr>\n",
       "    <tr>\n",
       "      <th>...</th>\n",
       "      <td>...</td>\n",
       "    </tr>\n",
       "    <tr>\n",
       "      <th>1495</th>\n",
       "      <td>$30,000,000</td>\n",
       "    </tr>\n",
       "    <tr>\n",
       "      <th>1496</th>\n",
       "      <td>$30,000,000</td>\n",
       "    </tr>\n",
       "    <tr>\n",
       "      <th>1497</th>\n",
       "      <td>$30,000,000</td>\n",
       "    </tr>\n",
       "    <tr>\n",
       "      <th>1498</th>\n",
       "      <td>$30,000,000</td>\n",
       "    </tr>\n",
       "    <tr>\n",
       "      <th>1499</th>\n",
       "      <td>$30,000,000</td>\n",
       "    </tr>\n",
       "  </tbody>\n",
       "</table>\n",
       "<p>1500 rows × 1 columns</p>\n",
       "</div>"
      ],
      "text/plain": [
       "                0\n",
       "0     $90,000,000\n",
       "1     $90,000,000\n",
       "2     $90,000,000\n",
       "3     $90,000,000\n",
       "4     $88,000,000\n",
       "...           ...\n",
       "1495  $30,000,000\n",
       "1496  $30,000,000\n",
       "1497  $30,000,000\n",
       "1498  $30,000,000\n",
       "1499  $30,000,000\n",
       "\n",
       "[1500 rows x 1 columns]"
      ]
     },
     "execution_count": 559,
     "metadata": {},
     "output_type": "execute_result"
    }
   ],
   "source": [
    "jkl1_Full_budg14"
   ]
  },
  {
   "cell_type": "code",
   "execution_count": 560,
   "metadata": {},
   "outputs": [],
   "source": [
    "Budgets = jkl0_Full_budg4.append(jkl1_Full_budg14, ignore_index=True)"
   ]
  },
  {
   "cell_type": "code",
   "execution_count": 562,
   "metadata": {},
   "outputs": [],
   "source": [
    "#Budgets.to_csv('BudgetsForBudget.csv', index=False)"
   ]
  },
  {
   "cell_type": "code",
   "execution_count": 570,
   "metadata": {},
   "outputs": [
    {
     "data": {
      "text/html": [
       "<div>\n",
       "<style scoped>\n",
       "    .dataframe tbody tr th:only-of-type {\n",
       "        vertical-align: middle;\n",
       "    }\n",
       "\n",
       "    .dataframe tbody tr th {\n",
       "        vertical-align: top;\n",
       "    }\n",
       "\n",
       "    .dataframe thead th {\n",
       "        text-align: right;\n",
       "    }\n",
       "</style>\n",
       "<table border=\"1\" class=\"dataframe\">\n",
       "  <thead>\n",
       "    <tr style=\"text-align: right;\">\n",
       "      <th></th>\n",
       "      <th>1</th>\n",
       "    </tr>\n",
       "  </thead>\n",
       "  <tbody>\n",
       "    <tr>\n",
       "      <th>0</th>\n",
       "      <td>[Avengers: Endgame]</td>\n",
       "    </tr>\n",
       "    <tr>\n",
       "      <th>1</th>\n",
       "      <td>[Pirates of the Caribbean: On Stranger Tides]</td>\n",
       "    </tr>\n",
       "    <tr>\n",
       "      <th>2</th>\n",
       "      <td>[Avengers: Age of Ultron]</td>\n",
       "    </tr>\n",
       "    <tr>\n",
       "      <th>3</th>\n",
       "      <td>[Star Wars Ep. VII: The Force Awakens]</td>\n",
       "    </tr>\n",
       "    <tr>\n",
       "      <th>4</th>\n",
       "      <td>[Avengers: Infinity War]</td>\n",
       "    </tr>\n",
       "    <tr>\n",
       "      <th>...</th>\n",
       "      <td>...</td>\n",
       "    </tr>\n",
       "    <tr>\n",
       "      <th>1995</th>\n",
       "      <td>[Little Black Book]</td>\n",
       "    </tr>\n",
       "    <tr>\n",
       "      <th>1996</th>\n",
       "      <td>[Assault On Precinct 13]</td>\n",
       "    </tr>\n",
       "    <tr>\n",
       "      <th>1997</th>\n",
       "      <td>[Runner Runner]</td>\n",
       "    </tr>\n",
       "    <tr>\n",
       "      <th>1998</th>\n",
       "      <td>[The Replacement Killers]</td>\n",
       "    </tr>\n",
       "    <tr>\n",
       "      <th>1999</th>\n",
       "      <td>[Baahubali 2: The Conclusion]</td>\n",
       "    </tr>\n",
       "  </tbody>\n",
       "</table>\n",
       "<p>2000 rows × 1 columns</p>\n",
       "</div>"
      ],
      "text/plain": [
       "                                                  1\n",
       "0                               [Avengers: Endgame]\n",
       "1     [Pirates of the Caribbean: On Stranger Tides]\n",
       "2                         [Avengers: Age of Ultron]\n",
       "3            [Star Wars Ep. VII: The Force Awakens]\n",
       "4                          [Avengers: Infinity War]\n",
       "...                                             ...\n",
       "1995                            [Little Black Book]\n",
       "1996                       [Assault On Precinct 13]\n",
       "1997                                [Runner Runner]\n",
       "1998                      [The Replacement Killers]\n",
       "1999                  [Baahubali 2: The Conclusion]\n",
       "\n",
       "[2000 rows x 1 columns]"
      ]
     },
     "execution_count": 570,
     "metadata": {},
     "output_type": "execute_result"
    }
   ],
   "source": [
    "pd.DataFrame(pdNames)"
   ]
  },
  {
   "cell_type": "code",
   "execution_count": 567,
   "metadata": {},
   "outputs": [],
   "source": [
    "pdNames = pd.DataFrame(Names)"
   ]
  },
  {
   "cell_type": "code",
   "execution_count": 565,
   "metadata": {},
   "outputs": [
    {
     "data": {
      "text/html": [
       "<div>\n",
       "<style scoped>\n",
       "    .dataframe tbody tr th:only-of-type {\n",
       "        vertical-align: middle;\n",
       "    }\n",
       "\n",
       "    .dataframe tbody tr th {\n",
       "        vertical-align: top;\n",
       "    }\n",
       "\n",
       "    .dataframe thead th {\n",
       "        text-align: right;\n",
       "    }\n",
       "</style>\n",
       "<table border=\"1\" class=\"dataframe\">\n",
       "  <thead>\n",
       "    <tr style=\"text-align: right;\">\n",
       "      <th></th>\n",
       "      <th>0</th>\n",
       "    </tr>\n",
       "  </thead>\n",
       "  <tbody>\n",
       "    <tr>\n",
       "      <th>0</th>\n",
       "      <td>$400,000,000</td>\n",
       "    </tr>\n",
       "    <tr>\n",
       "      <th>1</th>\n",
       "      <td>$379,000,000</td>\n",
       "    </tr>\n",
       "    <tr>\n",
       "      <th>2</th>\n",
       "      <td>$365,000,000</td>\n",
       "    </tr>\n",
       "    <tr>\n",
       "      <th>3</th>\n",
       "      <td>$306,000,000</td>\n",
       "    </tr>\n",
       "    <tr>\n",
       "      <th>4</th>\n",
       "      <td>$300,000,000</td>\n",
       "    </tr>\n",
       "    <tr>\n",
       "      <th>...</th>\n",
       "      <td>...</td>\n",
       "    </tr>\n",
       "    <tr>\n",
       "      <th>1995</th>\n",
       "      <td>$30,000,000</td>\n",
       "    </tr>\n",
       "    <tr>\n",
       "      <th>1996</th>\n",
       "      <td>$30,000,000</td>\n",
       "    </tr>\n",
       "    <tr>\n",
       "      <th>1997</th>\n",
       "      <td>$30,000,000</td>\n",
       "    </tr>\n",
       "    <tr>\n",
       "      <th>1998</th>\n",
       "      <td>$30,000,000</td>\n",
       "    </tr>\n",
       "    <tr>\n",
       "      <th>1999</th>\n",
       "      <td>$30,000,000</td>\n",
       "    </tr>\n",
       "  </tbody>\n",
       "</table>\n",
       "<p>2000 rows × 1 columns</p>\n",
       "</div>"
      ],
      "text/plain": [
       "                 0\n",
       "0     $400,000,000\n",
       "1     $379,000,000\n",
       "2     $365,000,000\n",
       "3     $306,000,000\n",
       "4     $300,000,000\n",
       "...            ...\n",
       "1995   $30,000,000\n",
       "1996   $30,000,000\n",
       "1997   $30,000,000\n",
       "1998   $30,000,000\n",
       "1999   $30,000,000\n",
       "\n",
       "[2000 rows x 1 columns]"
      ]
     },
     "execution_count": 565,
     "metadata": {},
     "output_type": "execute_result"
    }
   ],
   "source": [
    "Budgets"
   ]
  },
  {
   "cell_type": "code",
   "execution_count": 575,
   "metadata": {},
   "outputs": [],
   "source": [
    "\n",
    "rfc= pdNames\n",
    "rfc['Budgets'] = Budgets"
   ]
  },
  {
   "cell_type": "code",
   "execution_count": 577,
   "metadata": {},
   "outputs": [],
   "source": [
    "rfc.rename(columns = {1:'Movie_Title'}, inplace = True) "
   ]
  },
  {
   "cell_type": "code",
   "execution_count": 578,
   "metadata": {
    "scrolled": false
   },
   "outputs": [
    {
     "data": {
      "text/html": [
       "<div>\n",
       "<style scoped>\n",
       "    .dataframe tbody tr th:only-of-type {\n",
       "        vertical-align: middle;\n",
       "    }\n",
       "\n",
       "    .dataframe tbody tr th {\n",
       "        vertical-align: top;\n",
       "    }\n",
       "\n",
       "    .dataframe thead th {\n",
       "        text-align: right;\n",
       "    }\n",
       "</style>\n",
       "<table border=\"1\" class=\"dataframe\">\n",
       "  <thead>\n",
       "    <tr style=\"text-align: right;\">\n",
       "      <th></th>\n",
       "      <th>Movie_Title</th>\n",
       "      <th>Budgets</th>\n",
       "    </tr>\n",
       "  </thead>\n",
       "  <tbody>\n",
       "    <tr>\n",
       "      <th>0</th>\n",
       "      <td>[Avengers: Endgame]</td>\n",
       "      <td>$400,000,000</td>\n",
       "    </tr>\n",
       "    <tr>\n",
       "      <th>1</th>\n",
       "      <td>[Pirates of the Caribbean: On Stranger Tides]</td>\n",
       "      <td>$379,000,000</td>\n",
       "    </tr>\n",
       "    <tr>\n",
       "      <th>2</th>\n",
       "      <td>[Avengers: Age of Ultron]</td>\n",
       "      <td>$365,000,000</td>\n",
       "    </tr>\n",
       "    <tr>\n",
       "      <th>3</th>\n",
       "      <td>[Star Wars Ep. VII: The Force Awakens]</td>\n",
       "      <td>$306,000,000</td>\n",
       "    </tr>\n",
       "    <tr>\n",
       "      <th>4</th>\n",
       "      <td>[Avengers: Infinity War]</td>\n",
       "      <td>$300,000,000</td>\n",
       "    </tr>\n",
       "    <tr>\n",
       "      <th>...</th>\n",
       "      <td>...</td>\n",
       "      <td>...</td>\n",
       "    </tr>\n",
       "    <tr>\n",
       "      <th>1995</th>\n",
       "      <td>[Little Black Book]</td>\n",
       "      <td>$30,000,000</td>\n",
       "    </tr>\n",
       "    <tr>\n",
       "      <th>1996</th>\n",
       "      <td>[Assault On Precinct 13]</td>\n",
       "      <td>$30,000,000</td>\n",
       "    </tr>\n",
       "    <tr>\n",
       "      <th>1997</th>\n",
       "      <td>[Runner Runner]</td>\n",
       "      <td>$30,000,000</td>\n",
       "    </tr>\n",
       "    <tr>\n",
       "      <th>1998</th>\n",
       "      <td>[The Replacement Killers]</td>\n",
       "      <td>$30,000,000</td>\n",
       "    </tr>\n",
       "    <tr>\n",
       "      <th>1999</th>\n",
       "      <td>[Baahubali 2: The Conclusion]</td>\n",
       "      <td>$30,000,000</td>\n",
       "    </tr>\n",
       "  </tbody>\n",
       "</table>\n",
       "<p>2000 rows × 2 columns</p>\n",
       "</div>"
      ],
      "text/plain": [
       "                                        Movie_Title       Budgets\n",
       "0                               [Avengers: Endgame]  $400,000,000\n",
       "1     [Pirates of the Caribbean: On Stranger Tides]  $379,000,000\n",
       "2                         [Avengers: Age of Ultron]  $365,000,000\n",
       "3            [Star Wars Ep. VII: The Force Awakens]  $306,000,000\n",
       "4                          [Avengers: Infinity War]  $300,000,000\n",
       "...                                             ...           ...\n",
       "1995                            [Little Black Book]   $30,000,000\n",
       "1996                       [Assault On Precinct 13]   $30,000,000\n",
       "1997                                [Runner Runner]   $30,000,000\n",
       "1998                      [The Replacement Killers]   $30,000,000\n",
       "1999                  [Baahubali 2: The Conclusion]   $30,000,000\n",
       "\n",
       "[2000 rows x 2 columns]"
      ]
     },
     "execution_count": 578,
     "metadata": {},
     "output_type": "execute_result"
    }
   ],
   "source": [
    "rfc"
   ]
  },
  {
   "cell_type": "code",
   "execution_count": 585,
   "metadata": {},
   "outputs": [],
   "source": [
    "rfc.to_csv(\"Budgets.csv\",index=False)"
   ]
  },
  {
   "cell_type": "raw",
   "metadata": {},
   "source": [
    "rfc.to_pickle(\"Budget\""
   ]
  },
  {
   "cell_type": "code",
   "execution_count": 380,
   "metadata": {},
   "outputs": [],
   "source": [
    "x = []\n",
    "for i in range(len(jkl_1)):\n",
    "    for j in range(len(jkl_1[i])):\n",
    "        x.append(jkl_1[i][j])"
   ]
  },
  {
   "cell_type": "code",
   "execution_count": 384,
   "metadata": {},
   "outputs": [
    {
     "ename": "KeyError",
     "evalue": "0",
     "output_type": "error",
     "traceback": [
      "\u001b[1;31m---------------------------------------------------------------------------\u001b[0m",
      "\u001b[1;31mKeyError\u001b[0m                                  Traceback (most recent call last)",
      "\u001b[1;32m<ipython-input-384-fafa747d148c>\u001b[0m in \u001b[0;36m<module>\u001b[1;34m\u001b[0m\n\u001b[1;32m----> 1\u001b[1;33m \u001b[0mpd\u001b[0m\u001b[1;33m.\u001b[0m\u001b[0mDataFrame\u001b[0m\u001b[1;33m(\u001b[0m\u001b[0mx\u001b[0m\u001b[1;33m)\u001b[0m\u001b[1;33m\u001b[0m\u001b[1;33m\u001b[0m\u001b[0m\n\u001b[0m",
      "\u001b[1;32mC:\\ProgramData\\Anaconda3\\lib\\site-packages\\pandas\\core\\frame.py\u001b[0m in \u001b[0;36m__init__\u001b[1;34m(self, data, index, columns, dtype, copy)\u001b[0m\n\u001b[0;32m    462\u001b[0m                     \u001b[0mmgr\u001b[0m \u001b[1;33m=\u001b[0m \u001b[0marrays_to_mgr\u001b[0m\u001b[1;33m(\u001b[0m\u001b[0marrays\u001b[0m\u001b[1;33m,\u001b[0m \u001b[0mcolumns\u001b[0m\u001b[1;33m,\u001b[0m \u001b[0mindex\u001b[0m\u001b[1;33m,\u001b[0m \u001b[0mcolumns\u001b[0m\u001b[1;33m,\u001b[0m \u001b[0mdtype\u001b[0m\u001b[1;33m=\u001b[0m\u001b[0mdtype\u001b[0m\u001b[1;33m)\u001b[0m\u001b[1;33m\u001b[0m\u001b[1;33m\u001b[0m\u001b[0m\n\u001b[0;32m    463\u001b[0m                 \u001b[1;32melse\u001b[0m\u001b[1;33m:\u001b[0m\u001b[1;33m\u001b[0m\u001b[1;33m\u001b[0m\u001b[0m\n\u001b[1;32m--> 464\u001b[1;33m                     \u001b[0mmgr\u001b[0m \u001b[1;33m=\u001b[0m \u001b[0minit_ndarray\u001b[0m\u001b[1;33m(\u001b[0m\u001b[0mdata\u001b[0m\u001b[1;33m,\u001b[0m \u001b[0mindex\u001b[0m\u001b[1;33m,\u001b[0m \u001b[0mcolumns\u001b[0m\u001b[1;33m,\u001b[0m \u001b[0mdtype\u001b[0m\u001b[1;33m=\u001b[0m\u001b[0mdtype\u001b[0m\u001b[1;33m,\u001b[0m \u001b[0mcopy\u001b[0m\u001b[1;33m=\u001b[0m\u001b[0mcopy\u001b[0m\u001b[1;33m)\u001b[0m\u001b[1;33m\u001b[0m\u001b[1;33m\u001b[0m\u001b[0m\n\u001b[0m\u001b[0;32m    465\u001b[0m             \u001b[1;32melse\u001b[0m\u001b[1;33m:\u001b[0m\u001b[1;33m\u001b[0m\u001b[1;33m\u001b[0m\u001b[0m\n\u001b[0;32m    466\u001b[0m                 \u001b[0mmgr\u001b[0m \u001b[1;33m=\u001b[0m \u001b[0minit_dict\u001b[0m\u001b[1;33m(\u001b[0m\u001b[1;33m{\u001b[0m\u001b[1;33m}\u001b[0m\u001b[1;33m,\u001b[0m \u001b[0mindex\u001b[0m\u001b[1;33m,\u001b[0m \u001b[0mcolumns\u001b[0m\u001b[1;33m,\u001b[0m \u001b[0mdtype\u001b[0m\u001b[1;33m=\u001b[0m\u001b[0mdtype\u001b[0m\u001b[1;33m)\u001b[0m\u001b[1;33m\u001b[0m\u001b[1;33m\u001b[0m\u001b[0m\n",
      "\u001b[1;32mC:\\ProgramData\\Anaconda3\\lib\\site-packages\\pandas\\core\\internals\\construction.py\u001b[0m in \u001b[0;36minit_ndarray\u001b[1;34m(values, index, columns, dtype, copy)\u001b[0m\n\u001b[0;32m    169\u001b[0m     \u001b[1;31m# by definition an array here\u001b[0m\u001b[1;33m\u001b[0m\u001b[1;33m\u001b[0m\u001b[1;33m\u001b[0m\u001b[0m\n\u001b[0;32m    170\u001b[0m     \u001b[1;31m# the dtypes will be coerced to a single dtype\u001b[0m\u001b[1;33m\u001b[0m\u001b[1;33m\u001b[0m\u001b[1;33m\u001b[0m\u001b[0m\n\u001b[1;32m--> 171\u001b[1;33m     \u001b[0mvalues\u001b[0m \u001b[1;33m=\u001b[0m \u001b[0mprep_ndarray\u001b[0m\u001b[1;33m(\u001b[0m\u001b[0mvalues\u001b[0m\u001b[1;33m,\u001b[0m \u001b[0mcopy\u001b[0m\u001b[1;33m=\u001b[0m\u001b[0mcopy\u001b[0m\u001b[1;33m)\u001b[0m\u001b[1;33m\u001b[0m\u001b[1;33m\u001b[0m\u001b[0m\n\u001b[0m\u001b[0;32m    172\u001b[0m \u001b[1;33m\u001b[0m\u001b[0m\n\u001b[0;32m    173\u001b[0m     \u001b[1;32mif\u001b[0m \u001b[0mdtype\u001b[0m \u001b[1;32mis\u001b[0m \u001b[1;32mnot\u001b[0m \u001b[1;32mNone\u001b[0m\u001b[1;33m:\u001b[0m\u001b[1;33m\u001b[0m\u001b[1;33m\u001b[0m\u001b[0m\n",
      "\u001b[1;32mC:\\ProgramData\\Anaconda3\\lib\\site-packages\\pandas\\core\\internals\\construction.py\u001b[0m in \u001b[0;36mprep_ndarray\u001b[1;34m(values, copy)\u001b[0m\n\u001b[0;32m    274\u001b[0m         \u001b[1;32mtry\u001b[0m\u001b[1;33m:\u001b[0m\u001b[1;33m\u001b[0m\u001b[1;33m\u001b[0m\u001b[0m\n\u001b[0;32m    275\u001b[0m             \u001b[1;32mif\u001b[0m \u001b[0mis_list_like\u001b[0m\u001b[1;33m(\u001b[0m\u001b[0mvalues\u001b[0m\u001b[1;33m[\u001b[0m\u001b[1;36m0\u001b[0m\u001b[1;33m]\u001b[0m\u001b[1;33m)\u001b[0m \u001b[1;32mor\u001b[0m \u001b[0mhasattr\u001b[0m\u001b[1;33m(\u001b[0m\u001b[0mvalues\u001b[0m\u001b[1;33m[\u001b[0m\u001b[1;36m0\u001b[0m\u001b[1;33m]\u001b[0m\u001b[1;33m,\u001b[0m \u001b[1;34m\"len\"\u001b[0m\u001b[1;33m)\u001b[0m\u001b[1;33m:\u001b[0m\u001b[1;33m\u001b[0m\u001b[1;33m\u001b[0m\u001b[0m\n\u001b[1;32m--> 276\u001b[1;33m                 \u001b[0mvalues\u001b[0m \u001b[1;33m=\u001b[0m \u001b[0mnp\u001b[0m\u001b[1;33m.\u001b[0m\u001b[0marray\u001b[0m\u001b[1;33m(\u001b[0m\u001b[1;33m[\u001b[0m\u001b[0mconvert\u001b[0m\u001b[1;33m(\u001b[0m\u001b[0mv\u001b[0m\u001b[1;33m)\u001b[0m \u001b[1;32mfor\u001b[0m \u001b[0mv\u001b[0m \u001b[1;32min\u001b[0m \u001b[0mvalues\u001b[0m\u001b[1;33m]\u001b[0m\u001b[1;33m)\u001b[0m\u001b[1;33m\u001b[0m\u001b[1;33m\u001b[0m\u001b[0m\n\u001b[0m\u001b[0;32m    277\u001b[0m             \u001b[1;32melif\u001b[0m \u001b[0misinstance\u001b[0m\u001b[1;33m(\u001b[0m\u001b[0mvalues\u001b[0m\u001b[1;33m[\u001b[0m\u001b[1;36m0\u001b[0m\u001b[1;33m]\u001b[0m\u001b[1;33m,\u001b[0m \u001b[0mnp\u001b[0m\u001b[1;33m.\u001b[0m\u001b[0mndarray\u001b[0m\u001b[1;33m)\u001b[0m \u001b[1;32mand\u001b[0m \u001b[0mvalues\u001b[0m\u001b[1;33m[\u001b[0m\u001b[1;36m0\u001b[0m\u001b[1;33m]\u001b[0m\u001b[1;33m.\u001b[0m\u001b[0mndim\u001b[0m \u001b[1;33m==\u001b[0m \u001b[1;36m0\u001b[0m\u001b[1;33m:\u001b[0m\u001b[1;33m\u001b[0m\u001b[1;33m\u001b[0m\u001b[0m\n\u001b[0;32m    278\u001b[0m                 \u001b[1;31m# GH#21861\u001b[0m\u001b[1;33m\u001b[0m\u001b[1;33m\u001b[0m\u001b[1;33m\u001b[0m\u001b[0m\n",
      "\u001b[1;32mC:\\ProgramData\\Anaconda3\\lib\\site-packages\\bs4\\element.py\u001b[0m in \u001b[0;36m__getitem__\u001b[1;34m(self, key)\u001b[0m\n\u001b[0;32m   1319\u001b[0m         \"\"\"tag[key] returns the value of the 'key' attribute for the Tag,\n\u001b[0;32m   1320\u001b[0m         and throws an exception if it's not there.\"\"\"\n\u001b[1;32m-> 1321\u001b[1;33m         \u001b[1;32mreturn\u001b[0m \u001b[0mself\u001b[0m\u001b[1;33m.\u001b[0m\u001b[0mattrs\u001b[0m\u001b[1;33m[\u001b[0m\u001b[0mkey\u001b[0m\u001b[1;33m]\u001b[0m\u001b[1;33m\u001b[0m\u001b[1;33m\u001b[0m\u001b[0m\n\u001b[0m\u001b[0;32m   1322\u001b[0m \u001b[1;33m\u001b[0m\u001b[0m\n\u001b[0;32m   1323\u001b[0m     \u001b[1;32mdef\u001b[0m \u001b[0m__iter__\u001b[0m\u001b[1;33m(\u001b[0m\u001b[0mself\u001b[0m\u001b[1;33m)\u001b[0m\u001b[1;33m:\u001b[0m\u001b[1;33m\u001b[0m\u001b[1;33m\u001b[0m\u001b[0m\n",
      "\u001b[1;31mKeyError\u001b[0m: 0"
     ]
    }
   ],
   "source": [
    "pd.DataFrame(x)"
   ]
  },
  {
   "cell_type": "code",
   "execution_count": 383,
   "metadata": {},
   "outputs": [
    {
     "ename": "TypeError",
     "evalue": "cannot concatenate object of type '<class 'bs4.element.Tag'>'; only Series and DataFrame objs are valid",
     "output_type": "error",
     "traceback": [
      "\u001b[1;31m---------------------------------------------------------------------------\u001b[0m",
      "\u001b[1;31mTypeError\u001b[0m                                 Traceback (most recent call last)",
      "\u001b[1;32m<ipython-input-383-a89f2785c4de>\u001b[0m in \u001b[0;36m<module>\u001b[1;34m\u001b[0m\n\u001b[1;32m----> 1\u001b[1;33m \u001b[0mTitles_set1\u001b[0m\u001b[1;33m[\u001b[0m\u001b[1;34m'Titles'\u001b[0m\u001b[1;33m]\u001b[0m\u001b[1;33m.\u001b[0m\u001b[0mappend\u001b[0m\u001b[1;33m(\u001b[0m\u001b[0mx\u001b[0m\u001b[1;33m)\u001b[0m\u001b[1;33m\u001b[0m\u001b[1;33m\u001b[0m\u001b[0m\n\u001b[0m",
      "\u001b[1;32mC:\\ProgramData\\Anaconda3\\lib\\site-packages\\pandas\\core\\series.py\u001b[0m in \u001b[0;36mappend\u001b[1;34m(self, to_append, ignore_index, verify_integrity)\u001b[0m\n\u001b[0;32m   2780\u001b[0m             \u001b[0mto_concat\u001b[0m \u001b[1;33m=\u001b[0m \u001b[1;33m[\u001b[0m\u001b[0mself\u001b[0m\u001b[1;33m,\u001b[0m \u001b[0mto_append\u001b[0m\u001b[1;33m]\u001b[0m\u001b[1;33m\u001b[0m\u001b[1;33m\u001b[0m\u001b[0m\n\u001b[0;32m   2781\u001b[0m         return concat(\n\u001b[1;32m-> 2782\u001b[1;33m             \u001b[0mto_concat\u001b[0m\u001b[1;33m,\u001b[0m \u001b[0mignore_index\u001b[0m\u001b[1;33m=\u001b[0m\u001b[0mignore_index\u001b[0m\u001b[1;33m,\u001b[0m \u001b[0mverify_integrity\u001b[0m\u001b[1;33m=\u001b[0m\u001b[0mverify_integrity\u001b[0m\u001b[1;33m\u001b[0m\u001b[1;33m\u001b[0m\u001b[0m\n\u001b[0m\u001b[0;32m   2783\u001b[0m         )\n\u001b[0;32m   2784\u001b[0m \u001b[1;33m\u001b[0m\u001b[0m\n",
      "\u001b[1;32mC:\\ProgramData\\Anaconda3\\lib\\site-packages\\pandas\\core\\reshape\\concat.py\u001b[0m in \u001b[0;36mconcat\u001b[1;34m(objs, axis, join, join_axes, ignore_index, keys, levels, names, verify_integrity, sort, copy)\u001b[0m\n\u001b[0;32m    253\u001b[0m         \u001b[0mverify_integrity\u001b[0m\u001b[1;33m=\u001b[0m\u001b[0mverify_integrity\u001b[0m\u001b[1;33m,\u001b[0m\u001b[1;33m\u001b[0m\u001b[1;33m\u001b[0m\u001b[0m\n\u001b[0;32m    254\u001b[0m         \u001b[0mcopy\u001b[0m\u001b[1;33m=\u001b[0m\u001b[0mcopy\u001b[0m\u001b[1;33m,\u001b[0m\u001b[1;33m\u001b[0m\u001b[1;33m\u001b[0m\u001b[0m\n\u001b[1;32m--> 255\u001b[1;33m         \u001b[0msort\u001b[0m\u001b[1;33m=\u001b[0m\u001b[0msort\u001b[0m\u001b[1;33m,\u001b[0m\u001b[1;33m\u001b[0m\u001b[1;33m\u001b[0m\u001b[0m\n\u001b[0m\u001b[0;32m    256\u001b[0m     )\n\u001b[0;32m    257\u001b[0m \u001b[1;33m\u001b[0m\u001b[0m\n",
      "\u001b[1;32mC:\\ProgramData\\Anaconda3\\lib\\site-packages\\pandas\\core\\reshape\\concat.py\u001b[0m in \u001b[0;36m__init__\u001b[1;34m(self, objs, axis, join, join_axes, keys, levels, names, ignore_index, verify_integrity, copy, sort)\u001b[0m\n\u001b[0;32m    330\u001b[0m                     \u001b[1;34m\" only Series and DataFrame objs are valid\"\u001b[0m\u001b[1;33m.\u001b[0m\u001b[0mformat\u001b[0m\u001b[1;33m(\u001b[0m\u001b[0mtype\u001b[0m\u001b[1;33m(\u001b[0m\u001b[0mobj\u001b[0m\u001b[1;33m)\u001b[0m\u001b[1;33m)\u001b[0m\u001b[1;33m\u001b[0m\u001b[1;33m\u001b[0m\u001b[0m\n\u001b[0;32m    331\u001b[0m                 )\n\u001b[1;32m--> 332\u001b[1;33m                 \u001b[1;32mraise\u001b[0m \u001b[0mTypeError\u001b[0m\u001b[1;33m(\u001b[0m\u001b[0mmsg\u001b[0m\u001b[1;33m)\u001b[0m\u001b[1;33m\u001b[0m\u001b[1;33m\u001b[0m\u001b[0m\n\u001b[0m\u001b[0;32m    333\u001b[0m \u001b[1;33m\u001b[0m\u001b[0m\n\u001b[0;32m    334\u001b[0m             \u001b[1;31m# consolidate\u001b[0m\u001b[1;33m\u001b[0m\u001b[1;33m\u001b[0m\u001b[1;33m\u001b[0m\u001b[0m\n",
      "\u001b[1;31mTypeError\u001b[0m: cannot concatenate object of type '<class 'bs4.element.Tag'>'; only Series and DataFrame objs are valid"
     ]
    }
   ],
   "source": [
    "Titles_set1['Titles'].append(x)"
   ]
  },
  {
   "cell_type": "code",
   "execution_count": 374,
   "metadata": {},
   "outputs": [
    {
     "data": {
      "text/html": [
       "<div>\n",
       "<style scoped>\n",
       "    .dataframe tbody tr th:only-of-type {\n",
       "        vertical-align: middle;\n",
       "    }\n",
       "\n",
       "    .dataframe tbody tr th {\n",
       "        vertical-align: top;\n",
       "    }\n",
       "\n",
       "    .dataframe thead th {\n",
       "        text-align: right;\n",
       "    }\n",
       "</style>\n",
       "<table border=\"1\" class=\"dataframe\">\n",
       "  <thead>\n",
       "    <tr style=\"text-align: right;\">\n",
       "      <th></th>\n",
       "      <th>Titles</th>\n",
       "    </tr>\n",
       "  </thead>\n",
       "  <tbody>\n",
       "    <tr>\n",
       "      <th>0</th>\n",
       "      <td>0                               [Avengers: End...</td>\n",
       "    </tr>\n",
       "    <tr>\n",
       "      <th>1</th>\n",
       "      <td>0     [Mission: ImpossibleâFallout]\n",
       "1       ...</td>\n",
       "    </tr>\n",
       "    <tr>\n",
       "      <th>2</th>\n",
       "      <td>0                            [Beowulf]\n",
       "1      ...</td>\n",
       "    </tr>\n",
       "    <tr>\n",
       "      <th>3</th>\n",
       "      <td>0                             [The Perfect Sto...</td>\n",
       "    </tr>\n",
       "    <tr>\n",
       "      <th>4</th>\n",
       "      <td>0                 [Hercules]\n",
       "1              [T...</td>\n",
       "    </tr>\n",
       "  </tbody>\n",
       "</table>\n",
       "</div>"
      ],
      "text/plain": [
       "                                              Titles\n",
       "0  0                               [Avengers: End...\n",
       "1  0     [Mission: ImpossibleâFallout]\n",
       "1       ...\n",
       "2  0                            [Beowulf]\n",
       "1      ...\n",
       "3  0                             [The Perfect Sto...\n",
       "4  0                 [Hercules]\n",
       "1              [T..."
      ]
     },
     "execution_count": 374,
     "metadata": {},
     "output_type": "execute_result"
    }
   ],
   "source": [
    "Titles_set1"
   ]
  },
  {
   "cell_type": "code",
   "execution_count": 296,
   "metadata": {},
   "outputs": [
    {
     "data": {
      "text/plain": [
       "dict_values([0                               [Avengers: Endgame]\n",
       "1     [Pirates of the Caribbean: On Stranger Tides]\n",
       "2                         [Avengers: Age of Ultron]\n",
       "3            [Star Wars Ep. VII: The Force Awakens]\n",
       "4                          [Avengers: Infinity War]\n",
       "                          ...                      \n",
       "95                                    [Rush Hour 3]\n",
       "96                           [The Legend of Tarzan]\n",
       "97                                           [Hugo]\n",
       "98    [Valerian and the City of a Thousand Planets]\n",
       "99                              [Jupiter Ascending]\n",
       "Name: 1, Length: 100, dtype: object, ['$400,000,000', '$379,000,000', '$365,000,000', '$306,000,000', '$300,000,000', '$300,000,000', '$300,000,000', '$300,000,000', '$275,000,000', '$275,000,000', '$263,700,000', '$263,000,000', '$260,000,000', '$260,000,000', '$258,000,000', '$250,000,000', '$250,000,000', '$250,000,000', '$250,000,000', '$250,000,000', '$250,000,000', '$237,000,000', '$232,000,000', '$230,000,000', '$230,000,000', '$230,000,000', '$225,000,000', '$225,000,000', '$225,000,000', '$225,000,000', '$225,000,000', '$224,000,000', '$220,000,000', '$220,000,000', '$217,000,000', '$215,000,000', '$215,000,000', '$210,000,000', '$210,000,000', '$210,000,000', '$210,000,000', '$207,000,000', '$205,000,000', '$200,000,000', '$200,000,000', '$200,000,000', '$200,000,000', '$200,000,000', '$200,000,000', '$200,000,000', '$200,000,000', '$200,000,000', '$200,000,000', '$200,000,000', '$200,000,000', '$200,000,000', '$200,000,000', '$200,000,000', '$200,000,000', '$200,000,000', '$200,000,000', '$200,000,000', '$200,000,000', '$200,000,000', '$200,000,000', '$200,000,000', '$200,000,000', '$200,000,000', '$200,000,000', '$200,000,000', '$195,000,000', '$195,000,000', '$195,000,000', '$190,000,000', '$190,000,000', '$190,000,000', '$190,000,000', '$190,000,000', '$190,000,000', '$187,500,000', '$186,000,000', '$185,000,000', '$185,000,000', '$185,000,000', '$185,000,000', '$185,000,000', '$185,000,000', '$185,000,000', '$185,000,000', '$182,000,000', '$180,000,000', '$180,000,000', '$180,000,000', '$180,000,000', '$180,000,000', '$180,000,000', '$180,000,000', '$180,000,000', '$180,000,000', '$179,000,000', '$400,000,000', '$379,000,000', '$365,000,000', '$306,000,000', '$300,000,000', '$300,000,000', '$300,000,000', '$300,000,000', '$275,000,000', '$275,000,000', '$263,700,000', '$263,000,000', '$260,000,000', '$260,000,000', '$258,000,000', '$250,000,000', '$250,000,000', '$250,000,000', '$250,000,000', '$250,000,000', '$250,000,000', '$237,000,000', '$232,000,000', '$230,000,000', '$230,000,000', '$230,000,000', '$225,000,000', '$225,000,000', '$225,000,000', '$225,000,000', '$225,000,000', '$224,000,000', '$220,000,000', '$220,000,000', '$217,000,000', '$215,000,000', '$215,000,000', '$210,000,000', '$210,000,000', '$210,000,000', '$210,000,000', '$207,000,000', '$205,000,000', '$200,000,000', '$200,000,000', '$200,000,000', '$200,000,000', '$200,000,000', '$200,000,000', '$200,000,000', '$200,000,000', '$200,000,000', '$200,000,000', '$200,000,000', '$200,000,000', '$200,000,000', '$200,000,000', '$200,000,000', '$200,000,000', '$200,000,000', '$200,000,000', '$200,000,000', '$200,000,000', '$200,000,000', '$200,000,000', '$200,000,000', '$200,000,000', '$200,000,000', '$200,000,000', '$200,000,000', '$195,000,000', '$195,000,000', '$195,000,000', '$190,000,000', '$190,000,000', '$190,000,000', '$190,000,000', '$190,000,000', '$190,000,000', '$187,500,000', '$186,000,000', '$185,000,000', '$185,000,000', '$185,000,000', '$185,000,000', '$185,000,000', '$185,000,000', '$185,000,000', '$185,000,000', '$182,000,000', '$180,000,000', '$180,000,000', '$180,000,000', '$180,000,000', '$180,000,000', '$180,000,000', '$180,000,000', '$180,000,000', '$180,000,000', '$179,000,000', '$178,000,000', '$178,000,000', '$178,000,000', '$178,000,000', '$175,000,000', '$175,000,000', '$175,000,000', '$175,000,000', '$175,000,000', '$175,000,000', '$175,000,000', '$175,000,000', '$175,000,000', '$175,000,000', '$175,000,000', '$175,000,000', '$175,000,000', '$175,000,000', '$175,000,000', '$175,000,000', '$175,000,000', '$175,000,000', '$170,000,000', '$170,000,000', '$170,000,000', '$170,000,000', '$170,000,000', '$170,000,000', '$170,000,000', '$170,000,000', '$170,000,000', '$170,000,000', '$170,000,000', '$170,000,000', '$170,000,000', '$170,000,000', '$165,000,000', '$165,000,000', '$165,000,000', '$165,000,000', '$165,000,000', '$165,000,000', '$165,000,000', '$163,000,000', '$160,000,000', '$160,000,000', '$160,000,000', '$160,000,000', '$160,000,000', '$160,000,000', '$160,000,000', '$160,000,000', '$160,000,000', '$160,000,000', '$160,000,000', '$160,000,000', '$160,000,000', '$159,000,000', '$156,000,000', '$155,000,000', '$155,000,000', '$155,000,000', '$155,000,000', '$152,000,000', '$151,500,000', '$151,000,000', '$150,000,000', '$150,000,000', '$150,000,000', '$150,000,000', '$150,000,000', '$150,000,000', '$150,000,000', '$150,000,000', '$150,000,000', '$150,000,000', '$150,000,000', '$150,000,000', '$150,000,000', '$150,000,000', '$150,000,000', '$150,000,000', '$150,000,000', '$150,000,000', '$150,000,000', '$150,000,000', '$150,000,000', '$150,000,000', '$150,000,000', '$150,000,000', '$150,000,000', '$150,000,000', '$150,000,000', '$150,000,000', '$150,000,000', '$150,000,000', '$150,000,000', '$150,000,000', '$150,000,000', '$150,000,000'], 0     [Mission: ImpossibleâFallout]\n",
       "1                 [X-Men: Apocalypse]\n",
       "2                           [The Meg]\n",
       "3                  [Edge of Tomorrow]\n",
       "4                    [Captain Marvel]\n",
       "                   ...               \n",
       "95               [The Last Airbender]\n",
       "96                        [Bee Movie]\n",
       "97                          [G-Force]\n",
       "98                             [Bolt]\n",
       "99              [Wrath of the Titans]\n",
       "Name: 1, Length: 100, dtype: object, ['$400,000,000', '$379,000,000', '$365,000,000', '$306,000,000', '$300,000,000', '$300,000,000', '$300,000,000', '$300,000,000', '$275,000,000', '$275,000,000', '$263,700,000', '$263,000,000', '$260,000,000', '$260,000,000', '$258,000,000', '$250,000,000', '$250,000,000', '$250,000,000', '$250,000,000', '$250,000,000', '$250,000,000', '$237,000,000', '$232,000,000', '$230,000,000', '$230,000,000', '$230,000,000', '$225,000,000', '$225,000,000', '$225,000,000', '$225,000,000', '$225,000,000', '$224,000,000', '$220,000,000', '$220,000,000', '$217,000,000', '$215,000,000', '$215,000,000', '$210,000,000', '$210,000,000', '$210,000,000', '$210,000,000', '$207,000,000', '$205,000,000', '$200,000,000', '$200,000,000', '$200,000,000', '$200,000,000', '$200,000,000', '$200,000,000', '$200,000,000', '$200,000,000', '$200,000,000', '$200,000,000', '$200,000,000', '$200,000,000', '$200,000,000', '$200,000,000', '$200,000,000', '$200,000,000', '$200,000,000', '$200,000,000', '$200,000,000', '$200,000,000', '$200,000,000', '$200,000,000', '$200,000,000', '$200,000,000', '$200,000,000', '$200,000,000', '$200,000,000', '$195,000,000', '$195,000,000', '$195,000,000', '$190,000,000', '$190,000,000', '$190,000,000', '$190,000,000', '$190,000,000', '$190,000,000', '$187,500,000', '$186,000,000', '$185,000,000', '$185,000,000', '$185,000,000', '$185,000,000', '$185,000,000', '$185,000,000', '$185,000,000', '$185,000,000', '$182,000,000', '$180,000,000', '$180,000,000', '$180,000,000', '$180,000,000', '$180,000,000', '$180,000,000', '$180,000,000', '$180,000,000', '$180,000,000', '$179,000,000', '$400,000,000', '$379,000,000', '$365,000,000', '$306,000,000', '$300,000,000', '$300,000,000', '$300,000,000', '$300,000,000', '$275,000,000', '$275,000,000', '$263,700,000', '$263,000,000', '$260,000,000', '$260,000,000', '$258,000,000', '$250,000,000', '$250,000,000', '$250,000,000', '$250,000,000', '$250,000,000', '$250,000,000', '$237,000,000', '$232,000,000', '$230,000,000', '$230,000,000', '$230,000,000', '$225,000,000', '$225,000,000', '$225,000,000', '$225,000,000', '$225,000,000', '$224,000,000', '$220,000,000', '$220,000,000', '$217,000,000', '$215,000,000', '$215,000,000', '$210,000,000', '$210,000,000', '$210,000,000', '$210,000,000', '$207,000,000', '$205,000,000', '$200,000,000', '$200,000,000', '$200,000,000', '$200,000,000', '$200,000,000', '$200,000,000', '$200,000,000', '$200,000,000', '$200,000,000', '$200,000,000', '$200,000,000', '$200,000,000', '$200,000,000', '$200,000,000', '$200,000,000', '$200,000,000', '$200,000,000', '$200,000,000', '$200,000,000', '$200,000,000', '$200,000,000', '$200,000,000', '$200,000,000', '$200,000,000', '$200,000,000', '$200,000,000', '$200,000,000', '$195,000,000', '$195,000,000', '$195,000,000', '$190,000,000', '$190,000,000', '$190,000,000', '$190,000,000', '$190,000,000', '$190,000,000', '$187,500,000', '$186,000,000', '$185,000,000', '$185,000,000', '$185,000,000', '$185,000,000', '$185,000,000', '$185,000,000', '$185,000,000', '$185,000,000', '$182,000,000', '$180,000,000', '$180,000,000', '$180,000,000', '$180,000,000', '$180,000,000', '$180,000,000', '$180,000,000', '$180,000,000', '$180,000,000', '$179,000,000', '$178,000,000', '$178,000,000', '$178,000,000', '$178,000,000', '$175,000,000', '$175,000,000', '$175,000,000', '$175,000,000', '$175,000,000', '$175,000,000', '$175,000,000', '$175,000,000', '$175,000,000', '$175,000,000', '$175,000,000', '$175,000,000', '$175,000,000', '$175,000,000', '$175,000,000', '$175,000,000', '$175,000,000', '$175,000,000', '$170,000,000', '$170,000,000', '$170,000,000', '$170,000,000', '$170,000,000', '$170,000,000', '$170,000,000', '$170,000,000', '$170,000,000', '$170,000,000', '$170,000,000', '$170,000,000', '$170,000,000', '$170,000,000', '$165,000,000', '$165,000,000', '$165,000,000', '$165,000,000', '$165,000,000', '$165,000,000', '$165,000,000', '$163,000,000', '$160,000,000', '$160,000,000', '$160,000,000', '$160,000,000', '$160,000,000', '$160,000,000', '$160,000,000', '$160,000,000', '$160,000,000', '$160,000,000', '$160,000,000', '$160,000,000', '$160,000,000', '$159,000,000', '$156,000,000', '$155,000,000', '$155,000,000', '$155,000,000', '$155,000,000', '$152,000,000', '$151,500,000', '$151,000,000', '$150,000,000', '$150,000,000', '$150,000,000', '$150,000,000', '$150,000,000', '$150,000,000', '$150,000,000', '$150,000,000', '$150,000,000', '$150,000,000', '$150,000,000', '$150,000,000', '$150,000,000', '$150,000,000', '$150,000,000', '$150,000,000', '$150,000,000', '$150,000,000', '$150,000,000', '$150,000,000', '$150,000,000', '$150,000,000', '$150,000,000', '$150,000,000', '$150,000,000', '$150,000,000', '$150,000,000', '$150,000,000', '$150,000,000', '$150,000,000', '$150,000,000', '$150,000,000', '$150,000,000', '$150,000,000'], 0                            [Beowulf]\n",
       "1                       [Dark Shadows]\n",
       "2                   [White House Down]\n",
       "3                        [The Wolfman]\n",
       "4                     [The Great Wall]\n",
       "                    ...               \n",
       "95                [Assassinâs Creed]\n",
       "96                    [Monster Trucks]\n",
       "97                  [The 13th Warrior]\n",
       "98    [How the Grinch Stole Christmas]\n",
       "99             [Mission: Impossible 2]\n",
       "Name: 1, Length: 100, dtype: object, ['$400,000,000', '$379,000,000', '$365,000,000', '$306,000,000', '$300,000,000', '$300,000,000', '$300,000,000', '$300,000,000', '$275,000,000', '$275,000,000', '$263,700,000', '$263,000,000', '$260,000,000', '$260,000,000', '$258,000,000', '$250,000,000', '$250,000,000', '$250,000,000', '$250,000,000', '$250,000,000', '$250,000,000', '$237,000,000', '$232,000,000', '$230,000,000', '$230,000,000', '$230,000,000', '$225,000,000', '$225,000,000', '$225,000,000', '$225,000,000', '$225,000,000', '$224,000,000', '$220,000,000', '$220,000,000', '$217,000,000', '$215,000,000', '$215,000,000', '$210,000,000', '$210,000,000', '$210,000,000', '$210,000,000', '$207,000,000', '$205,000,000', '$200,000,000', '$200,000,000', '$200,000,000', '$200,000,000', '$200,000,000', '$200,000,000', '$200,000,000', '$200,000,000', '$200,000,000', '$200,000,000', '$200,000,000', '$200,000,000', '$200,000,000', '$200,000,000', '$200,000,000', '$200,000,000', '$200,000,000', '$200,000,000', '$200,000,000', '$200,000,000', '$200,000,000', '$200,000,000', '$200,000,000', '$200,000,000', '$200,000,000', '$200,000,000', '$200,000,000', '$195,000,000', '$195,000,000', '$195,000,000', '$190,000,000', '$190,000,000', '$190,000,000', '$190,000,000', '$190,000,000', '$190,000,000', '$187,500,000', '$186,000,000', '$185,000,000', '$185,000,000', '$185,000,000', '$185,000,000', '$185,000,000', '$185,000,000', '$185,000,000', '$185,000,000', '$182,000,000', '$180,000,000', '$180,000,000', '$180,000,000', '$180,000,000', '$180,000,000', '$180,000,000', '$180,000,000', '$180,000,000', '$180,000,000', '$179,000,000', '$400,000,000', '$379,000,000', '$365,000,000', '$306,000,000', '$300,000,000', '$300,000,000', '$300,000,000', '$300,000,000', '$275,000,000', '$275,000,000', '$263,700,000', '$263,000,000', '$260,000,000', '$260,000,000', '$258,000,000', '$250,000,000', '$250,000,000', '$250,000,000', '$250,000,000', '$250,000,000', '$250,000,000', '$237,000,000', '$232,000,000', '$230,000,000', '$230,000,000', '$230,000,000', '$225,000,000', '$225,000,000', '$225,000,000', '$225,000,000', '$225,000,000', '$224,000,000', '$220,000,000', '$220,000,000', '$217,000,000', '$215,000,000', '$215,000,000', '$210,000,000', '$210,000,000', '$210,000,000', '$210,000,000', '$207,000,000', '$205,000,000', '$200,000,000', '$200,000,000', '$200,000,000', '$200,000,000', '$200,000,000', '$200,000,000', '$200,000,000', '$200,000,000', '$200,000,000', '$200,000,000', '$200,000,000', '$200,000,000', '$200,000,000', '$200,000,000', '$200,000,000', '$200,000,000', '$200,000,000', '$200,000,000', '$200,000,000', '$200,000,000', '$200,000,000', '$200,000,000', '$200,000,000', '$200,000,000', '$200,000,000', '$200,000,000', '$200,000,000', '$195,000,000', '$195,000,000', '$195,000,000', '$190,000,000', '$190,000,000', '$190,000,000', '$190,000,000', '$190,000,000', '$190,000,000', '$187,500,000', '$186,000,000', '$185,000,000', '$185,000,000', '$185,000,000', '$185,000,000', '$185,000,000', '$185,000,000', '$185,000,000', '$185,000,000', '$182,000,000', '$180,000,000', '$180,000,000', '$180,000,000', '$180,000,000', '$180,000,000', '$180,000,000', '$180,000,000', '$180,000,000', '$180,000,000', '$179,000,000', '$178,000,000', '$178,000,000', '$178,000,000', '$178,000,000', '$175,000,000', '$175,000,000', '$175,000,000', '$175,000,000', '$175,000,000', '$175,000,000', '$175,000,000', '$175,000,000', '$175,000,000', '$175,000,000', '$175,000,000', '$175,000,000', '$175,000,000', '$175,000,000', '$175,000,000', '$175,000,000', '$175,000,000', '$175,000,000', '$170,000,000', '$170,000,000', '$170,000,000', '$170,000,000', '$170,000,000', '$170,000,000', '$170,000,000', '$170,000,000', '$170,000,000', '$170,000,000', '$170,000,000', '$170,000,000', '$170,000,000', '$170,000,000', '$165,000,000', '$165,000,000', '$165,000,000', '$165,000,000', '$165,000,000', '$165,000,000', '$165,000,000', '$163,000,000', '$160,000,000', '$160,000,000', '$160,000,000', '$160,000,000', '$160,000,000', '$160,000,000', '$160,000,000', '$160,000,000', '$160,000,000', '$160,000,000', '$160,000,000', '$160,000,000', '$160,000,000', '$159,000,000', '$156,000,000', '$155,000,000', '$155,000,000', '$155,000,000', '$155,000,000', '$152,000,000', '$151,500,000', '$151,000,000', '$150,000,000', '$150,000,000', '$150,000,000', '$150,000,000', '$150,000,000', '$150,000,000', '$150,000,000', '$150,000,000', '$150,000,000', '$150,000,000', '$150,000,000', '$150,000,000', '$150,000,000', '$150,000,000', '$150,000,000', '$150,000,000', '$150,000,000', '$150,000,000', '$150,000,000', '$150,000,000', '$150,000,000', '$150,000,000', '$150,000,000', '$150,000,000', '$150,000,000', '$150,000,000', '$150,000,000', '$150,000,000', '$150,000,000', '$150,000,000', '$150,000,000', '$150,000,000', '$150,000,000', '$150,000,000']])"
      ]
     },
     "execution_count": 296,
     "metadata": {},
     "output_type": "execute_result"
    }
   ],
   "source": [
    "jkl.values()"
   ]
  },
  {
   "cell_type": "code",
   "execution_count": 268,
   "metadata": {},
   "outputs": [],
   "source": [
    "dfs = pd.DataFrame(columns = ['Movie_Title','Budget'])\n",
    "url = \"https://www.the-numbers.com/movie/budgets/all/101\"\n",
    "response = requests.get(url)\n",
    "page = response.text\n",
    "soup = BeautifulSoup(page, \"lxml\")\n",
    "k = soup.find_all('a')\n",
    "df = (pd.DataFrame(np.array(list(k))[71:-62].reshape(-1,2)))\n",
    "movie_title = df.loc[:,1]\n",
    "\n",
    "j = list(soup.find_all('td'))\n",
    "asdf=[]\n",
    "for i in range(len(j)):\n",
    "    asdf.append(str(j[i]))\n",
    "budgets2 = pd.DataFrame(np.array(asdf).reshape(-1,6))[3]\n",
    "Budget = []\n",
    "for i in range(len(budgets2)):\n",
    "    Budget.append(budgets2[i][18:-5])\n",
    "dfs['Movie_Title'] = movie_title\n",
    "dfs['Budget'] = Budget\n"
   ]
  },
  {
   "cell_type": "code",
   "execution_count": 263,
   "metadata": {},
   "outputs": [
    {
     "data": {
      "text/html": [
       "<div>\n",
       "<style scoped>\n",
       "    .dataframe tbody tr th:only-of-type {\n",
       "        vertical-align: middle;\n",
       "    }\n",
       "\n",
       "    .dataframe tbody tr th {\n",
       "        vertical-align: top;\n",
       "    }\n",
       "\n",
       "    .dataframe thead th {\n",
       "        text-align: right;\n",
       "    }\n",
       "</style>\n",
       "<table border=\"1\" class=\"dataframe\">\n",
       "  <thead>\n",
       "    <tr style=\"text-align: right;\">\n",
       "      <th></th>\n",
       "      <th>Movie_Title</th>\n",
       "      <th>Budget</th>\n",
       "    </tr>\n",
       "  </thead>\n",
       "  <tbody>\n",
       "    <tr>\n",
       "      <th>0</th>\n",
       "      <td>[Avengers: Endgame]</td>\n",
       "      <td>$400,000,000</td>\n",
       "    </tr>\n",
       "    <tr>\n",
       "      <th>1</th>\n",
       "      <td>[Pirates of the Caribbean: On Stranger Tides]</td>\n",
       "      <td>$379,000,000</td>\n",
       "    </tr>\n",
       "    <tr>\n",
       "      <th>2</th>\n",
       "      <td>[Avengers: Age of Ultron]</td>\n",
       "      <td>$365,000,000</td>\n",
       "    </tr>\n",
       "    <tr>\n",
       "      <th>3</th>\n",
       "      <td>[Star Wars Ep. VII: The Force Awakens]</td>\n",
       "      <td>$306,000,000</td>\n",
       "    </tr>\n",
       "    <tr>\n",
       "      <th>4</th>\n",
       "      <td>[Avengers: Infinity War]</td>\n",
       "      <td>$300,000,000</td>\n",
       "    </tr>\n",
       "    <tr>\n",
       "      <th>...</th>\n",
       "      <td>...</td>\n",
       "      <td>...</td>\n",
       "    </tr>\n",
       "    <tr>\n",
       "      <th>95</th>\n",
       "      <td>[Rush Hour 3]</td>\n",
       "      <td>$180,000,000</td>\n",
       "    </tr>\n",
       "    <tr>\n",
       "      <th>96</th>\n",
       "      <td>[The Legend of Tarzan]</td>\n",
       "      <td>$180,000,000</td>\n",
       "    </tr>\n",
       "    <tr>\n",
       "      <th>97</th>\n",
       "      <td>[Hugo]</td>\n",
       "      <td>$180,000,000</td>\n",
       "    </tr>\n",
       "    <tr>\n",
       "      <th>98</th>\n",
       "      <td>[Valerian and the City of a Thousand Planets]</td>\n",
       "      <td>$180,000,000</td>\n",
       "    </tr>\n",
       "    <tr>\n",
       "      <th>99</th>\n",
       "      <td>[Jupiter Ascending]</td>\n",
       "      <td>$179,000,000</td>\n",
       "    </tr>\n",
       "  </tbody>\n",
       "</table>\n",
       "<p>100 rows × 2 columns</p>\n",
       "</div>"
      ],
      "text/plain": [
       "                                      Movie_Title        Budget\n",
       "0                             [Avengers: Endgame]  $400,000,000\n",
       "1   [Pirates of the Caribbean: On Stranger Tides]  $379,000,000\n",
       "2                       [Avengers: Age of Ultron]  $365,000,000\n",
       "3          [Star Wars Ep. VII: The Force Awakens]  $306,000,000\n",
       "4                        [Avengers: Infinity War]  $300,000,000\n",
       "..                                            ...           ...\n",
       "95                                  [Rush Hour 3]  $180,000,000\n",
       "96                         [The Legend of Tarzan]  $180,000,000\n",
       "97                                         [Hugo]  $180,000,000\n",
       "98  [Valerian and the City of a Thousand Planets]  $180,000,000\n",
       "99                            [Jupiter Ascending]  $179,000,000\n",
       "\n",
       "[100 rows x 2 columns]"
      ]
     },
     "execution_count": 263,
     "metadata": {},
     "output_type": "execute_result"
    }
   ],
   "source": [
    "dfs"
   ]
  },
  {
   "cell_type": "code",
   "execution_count": 248,
   "metadata": {},
   "outputs": [
    {
     "data": {
      "text/html": [
       "<div>\n",
       "<style scoped>\n",
       "    .dataframe tbody tr th:only-of-type {\n",
       "        vertical-align: middle;\n",
       "    }\n",
       "\n",
       "    .dataframe tbody tr th {\n",
       "        vertical-align: top;\n",
       "    }\n",
       "\n",
       "    .dataframe thead th {\n",
       "        text-align: right;\n",
       "    }\n",
       "</style>\n",
       "<table border=\"1\" class=\"dataframe\">\n",
       "  <thead>\n",
       "    <tr style=\"text-align: right;\">\n",
       "      <th></th>\n",
       "      <th>Movie_Title</th>\n",
       "      <th>Budget</th>\n",
       "    </tr>\n",
       "  </thead>\n",
       "  <tbody>\n",
       "    <tr>\n",
       "      <th>0</th>\n",
       "      <td>[Mission: ImpossibleâFallout]</td>\n",
       "      <td>$178,000,000</td>\n",
       "    </tr>\n",
       "    <tr>\n",
       "      <th>1</th>\n",
       "      <td>[X-Men: Apocalypse]</td>\n",
       "      <td>$178,000,000</td>\n",
       "    </tr>\n",
       "    <tr>\n",
       "      <th>2</th>\n",
       "      <td>[The Meg]</td>\n",
       "      <td>$178,000,000</td>\n",
       "    </tr>\n",
       "    <tr>\n",
       "      <th>3</th>\n",
       "      <td>[Edge of Tomorrow]</td>\n",
       "      <td>$178,000,000</td>\n",
       "    </tr>\n",
       "    <tr>\n",
       "      <th>4</th>\n",
       "      <td>[Captain Marvel]</td>\n",
       "      <td>$175,000,000</td>\n",
       "    </tr>\n",
       "    <tr>\n",
       "      <th>...</th>\n",
       "      <td>...</td>\n",
       "      <td>...</td>\n",
       "    </tr>\n",
       "    <tr>\n",
       "      <th>95</th>\n",
       "      <td>[The Last Airbender]</td>\n",
       "      <td>$150,000,000</td>\n",
       "    </tr>\n",
       "    <tr>\n",
       "      <th>96</th>\n",
       "      <td>[Bee Movie]</td>\n",
       "      <td>$150,000,000</td>\n",
       "    </tr>\n",
       "    <tr>\n",
       "      <th>97</th>\n",
       "      <td>[G-Force]</td>\n",
       "      <td>$150,000,000</td>\n",
       "    </tr>\n",
       "    <tr>\n",
       "      <th>98</th>\n",
       "      <td>[Bolt]</td>\n",
       "      <td>$150,000,000</td>\n",
       "    </tr>\n",
       "    <tr>\n",
       "      <th>99</th>\n",
       "      <td>[Wrath of the Titans]</td>\n",
       "      <td>$150,000,000</td>\n",
       "    </tr>\n",
       "  </tbody>\n",
       "</table>\n",
       "<p>100 rows × 2 columns</p>\n",
       "</div>"
      ],
      "text/plain": [
       "                        Movie_Title        Budget\n",
       "0   [Mission: ImpossibleâFallout]  $178,000,000\n",
       "1               [X-Men: Apocalypse]  $178,000,000\n",
       "2                         [The Meg]  $178,000,000\n",
       "3                [Edge of Tomorrow]  $178,000,000\n",
       "4                  [Captain Marvel]  $175,000,000\n",
       "..                              ...           ...\n",
       "95             [The Last Airbender]  $150,000,000\n",
       "96                      [Bee Movie]  $150,000,000\n",
       "97                        [G-Force]  $150,000,000\n",
       "98                           [Bolt]  $150,000,000\n",
       "99            [Wrath of the Titans]  $150,000,000\n",
       "\n",
       "[100 rows x 2 columns]"
      ]
     },
     "execution_count": 248,
     "metadata": {},
     "output_type": "execute_result"
    }
   ],
   "source": [
    "url_budgets"
   ]
  },
  {
   "cell_type": "code",
   "execution_count": 226,
   "metadata": {},
   "outputs": [],
   "source": [
    "#dfs = []\n",
    "#url = \"https://www.the-numbers.com/movie/budgets/all/001\"\n",
    "#response = requests.get(url)\n",
    "#page = response.text\n",
    "#soup = BeautifulSoup(page, \"lxml\")\n",
    "#k = soup.find_all('a')\n",
    "#df = (pd.DataFrame(np.array(list(k))[71:-62].reshape(-1,2)))\n",
    "#movie_title = df.loc[:,1]"
   ]
  },
  {
   "cell_type": "code",
   "execution_count": 228,
   "metadata": {},
   "outputs": [
    {
     "data": {
      "text/plain": [
       "0                               [Avengers: Endgame]\n",
       "1     [Pirates of the Caribbean: On Stranger Tides]\n",
       "2                         [Avengers: Age of Ultron]\n",
       "3            [Star Wars Ep. VII: The Force Awakens]\n",
       "4                          [Avengers: Infinity War]\n",
       "                          ...                      \n",
       "95                                    [Rush Hour 3]\n",
       "96                           [The Legend of Tarzan]\n",
       "97                                           [Hugo]\n",
       "98    [Valerian and the City of a Thousand Planets]\n",
       "99                              [Jupiter Ascending]\n",
       "Name: 1, Length: 100, dtype: object"
      ]
     },
     "execution_count": 228,
     "metadata": {},
     "output_type": "execute_result"
    }
   ],
   "source": [
    "#movie_title"
   ]
  },
  {
   "cell_type": "code",
   "execution_count": 210,
   "metadata": {},
   "outputs": [
    {
     "ename": "AttributeError",
     "evalue": "'DataFrame' object has no attribute 'reshape'",
     "output_type": "error",
     "traceback": [
      "\u001b[1;31m---------------------------------------------------------------------------\u001b[0m",
      "\u001b[1;31mAttributeError\u001b[0m                            Traceback (most recent call last)",
      "\u001b[1;32m<ipython-input-210-2ae4d3dd35cd>\u001b[0m in \u001b[0;36m<module>\u001b[1;34m\u001b[0m\n\u001b[1;32m----> 1\u001b[1;33m \u001b[1;33m(\u001b[0m\u001b[0mpd\u001b[0m\u001b[1;33m.\u001b[0m\u001b[0mDataFrame\u001b[0m\u001b[1;33m(\u001b[0m\u001b[0mnp\u001b[0m\u001b[1;33m.\u001b[0m\u001b[0marray\u001b[0m\u001b[1;33m(\u001b[0m\u001b[0mlist\u001b[0m\u001b[1;33m(\u001b[0m\u001b[0mk\u001b[0m\u001b[1;33m)\u001b[0m\u001b[1;33m)\u001b[0m\u001b[1;33m)\u001b[0m\u001b[1;33m[\u001b[0m\u001b[1;36m71\u001b[0m\u001b[1;33m:\u001b[0m\u001b[1;33m-\u001b[0m\u001b[1;36m62\u001b[0m\u001b[1;33m]\u001b[0m\u001b[1;33m)\u001b[0m\u001b[1;33m.\u001b[0m\u001b[0mreshape\u001b[0m\u001b[1;33m(\u001b[0m\u001b[1;33m-\u001b[0m\u001b[1;36m1\u001b[0m\u001b[1;33m,\u001b[0m\u001b[1;36m2\u001b[0m\u001b[1;33m)\u001b[0m\u001b[1;33m\u001b[0m\u001b[1;33m\u001b[0m\u001b[0m\n\u001b[0m",
      "\u001b[1;32mC:\\ProgramData\\Anaconda3\\lib\\site-packages\\pandas\\core\\generic.py\u001b[0m in \u001b[0;36m__getattr__\u001b[1;34m(self, name)\u001b[0m\n\u001b[0;32m   5177\u001b[0m             \u001b[1;32mif\u001b[0m \u001b[0mself\u001b[0m\u001b[1;33m.\u001b[0m\u001b[0m_info_axis\u001b[0m\u001b[1;33m.\u001b[0m\u001b[0m_can_hold_identifiers_and_holds_name\u001b[0m\u001b[1;33m(\u001b[0m\u001b[0mname\u001b[0m\u001b[1;33m)\u001b[0m\u001b[1;33m:\u001b[0m\u001b[1;33m\u001b[0m\u001b[1;33m\u001b[0m\u001b[0m\n\u001b[0;32m   5178\u001b[0m                 \u001b[1;32mreturn\u001b[0m \u001b[0mself\u001b[0m\u001b[1;33m[\u001b[0m\u001b[0mname\u001b[0m\u001b[1;33m]\u001b[0m\u001b[1;33m\u001b[0m\u001b[1;33m\u001b[0m\u001b[0m\n\u001b[1;32m-> 5179\u001b[1;33m             \u001b[1;32mreturn\u001b[0m \u001b[0mobject\u001b[0m\u001b[1;33m.\u001b[0m\u001b[0m__getattribute__\u001b[0m\u001b[1;33m(\u001b[0m\u001b[0mself\u001b[0m\u001b[1;33m,\u001b[0m \u001b[0mname\u001b[0m\u001b[1;33m)\u001b[0m\u001b[1;33m\u001b[0m\u001b[1;33m\u001b[0m\u001b[0m\n\u001b[0m\u001b[0;32m   5180\u001b[0m \u001b[1;33m\u001b[0m\u001b[0m\n\u001b[0;32m   5181\u001b[0m     \u001b[1;32mdef\u001b[0m \u001b[0m__setattr__\u001b[0m\u001b[1;33m(\u001b[0m\u001b[0mself\u001b[0m\u001b[1;33m,\u001b[0m \u001b[0mname\u001b[0m\u001b[1;33m,\u001b[0m \u001b[0mvalue\u001b[0m\u001b[1;33m)\u001b[0m\u001b[1;33m:\u001b[0m\u001b[1;33m\u001b[0m\u001b[1;33m\u001b[0m\u001b[0m\n",
      "\u001b[1;31mAttributeError\u001b[0m: 'DataFrame' object has no attribute 'reshape'"
     ]
    }
   ],
   "source": [
    "#(pd.DataFrame(np.array(list(k)))[71:-62]).reshape(-1,2)"
   ]
  },
  {
   "cell_type": "code",
   "execution_count": 218,
   "metadata": {},
   "outputs": [
    {
     "data": {
      "text/plain": [
       "[<a href=\"/box-office-chart/daily/2019/04/23\">Apr 23, 2019</a>,\n",
       " <a href=\"/movie/Avengers-Endgame-(2019)#tab=summary\">Avengers: Endgame</a>,\n",
       " <a href=\"/box-office-chart/daily/2011/05/20\">May 20, 2011</a>,\n",
       " <a href=\"/movie/Pirates-of-the-Caribbean-On-Stranger-Tides#tab=summary\">Pirates of the Caribbean: On Stranger Tides</a>,\n",
       " <a href=\"/box-office-chart/daily/2015/04/22\">Apr 22, 2015</a>,\n",
       " <a href=\"/movie/Avengers-Age-of-Ultron#tab=summary\">Avengers: Age of Ultron</a>,\n",
       " <a href=\"/box-office-chart/daily/2015/12/16\">Dec 16, 2015</a>,\n",
       " <a href=\"/movie/Star-Wars-Ep-VII-The-Force-Awakens#tab=summary\">Star Wars Ep. VII: The Force Awakens</a>,\n",
       " <a href=\"/box-office-chart/daily/2018/04/25\">Apr 25, 2018</a>,\n",
       " <a href=\"/movie/Avengers-Infinity-War#tab=summary\">Avengers: Infinity War</a>,\n",
       " <a href=\"/box-office-chart/daily/2007/05/24\">May 24, 2007</a>,\n",
       " <a href=\"/movie/Pirates-of-the-Caribbean-At-Worlds-End#tab=summary\">Pirates of the Caribbean: At Worldâs End</a>,\n",
       " <a href=\"/box-office-chart/daily/2017/11/13\">Nov 13, 2017</a>,\n",
       " <a href=\"/movie/Justice-League-(2017)#tab=summary\">Justice League</a>,\n",
       " <a href=\"/box-office-chart/daily/2015/10/06\">Oct 6, 2015</a>,\n",
       " <a href=\"/movie/Spectre#tab=summary\">Spectre</a>,\n",
       " <a href=\"/box-office-chart/daily/2019/12/18\">Dec 18, 2019</a>,\n",
       " <a href=\"/movie/Star-Wars-The-Rise-of-Skywalker-(2019)#tab=summary\">Star Wars: The Rise of Skywalker</a>,\n",
       " <a href=\"/box-office-chart/daily/2018/05/23\">May 23, 2018</a>,\n",
       " <a href=\"/movie/Solo-A-Star-Wars-Story#tab=summary\">Solo: A Star Wars Story</a>,\n",
       " <a href=\"/box-office-chart/daily/2012/03/07\">Mar 7, 2012</a>,\n",
       " <a href=\"/movie/John-Carter-of-Mars#tab=summary\">John Carter</a>,\n",
       " <a href=\"/box-office-chart/daily/2016/03/23\">Mar 23, 2016</a>,\n",
       " <a href=\"/movie/Batman-v-Superman-Dawn-of-Justice#tab=summary\">Batman v Superman: Dawn of Justice</a>,\n",
       " <a href=\"/box-office-chart/daily/2019/07/11\">Jul 11, 2019</a>,\n",
       " <a href=\"/movie/Lion-King-The-(Live-Action)-(2019)#tab=summary\">The Lion King</a>,\n",
       " <a href=\"/box-office-chart/daily/2010/11/24\">Nov 24, 2010</a>,\n",
       " <a href=\"/movie/Tangled#tab=summary\">Tangled</a>,\n",
       " <a href=\"/box-office-chart/daily/2007/05/04\">May 4, 2007</a>,\n",
       " <a href=\"/movie/Spider-Man-3#tab=summary\">Spider-Man 3</a>,\n",
       " <a href=\"/box-office-chart/daily/2016/04/22\">Apr 22, 2016</a>,\n",
       " <a href=\"/movie/Captain-America-Civil-War#tab=summary\">Captain America: Civil War</a>,\n",
       " <a href=\"/box-office-chart/daily/2009/07/15\">Jul 15, 2009</a>,\n",
       " <a href=\"/movie/Harry-Potter-and-the-Half-Blood-Prince#tab=summary\">Harry Potter and the Half-Blood Prince</a>,\n",
       " <a href=\"/box-office-chart/daily/2013/12/13\">Dec 13, 2013</a>,\n",
       " <a href=\"/movie/Hobbit-The-Desolation-of-Smaug-The#tab=summary\">The Hobbit: The Desolation of Smaug</a>,\n",
       " <a href=\"/box-office-chart/daily/2014/12/10\">Dec 10, 2014</a>,\n",
       " <a href=\"/movie/Hobbit-The-Battle-of-the-Five-Armies-The#tab=summary\">The Hobbit: The Battle of the Five Armies</a>,\n",
       " <a href=\"/box-office-chart/daily/2017/04/07\">Apr 7, 2017</a>,\n",
       " <a href=\"/movie/Fate-of-the-Furious-The#tab=summary\">The Fate of the Furious</a>,\n",
       " <a href=\"/box-office-chart/daily/2020/04/10\">Apr 10, 2020</a>,\n",
       " <a href=\"/movie/No-Time-to-Die#tab=summary\">No Time to Die</a>,\n",
       " <a href=\"/box-office-chart/daily/2009/12/17\">Dec 17, 2009</a>,\n",
       " <a href=\"/movie/Avatar#tab=summary\">Avatar</a>,\n",
       " <a href=\"/box-office-chart/daily/2006/06/28\">Jun 28, 2006</a>,\n",
       " <a href=\"/movie/Superman-Returns#tab=summary\">Superman Returns</a>,\n",
       " <a href=\"/box-office-chart/daily/2012/07/19\">Jul 19, 2012</a>,\n",
       " <a href=\"/movie/Dark-Knight-Rises-The#tab=summary\">The Dark Knight Rises</a>,\n",
       " <a href=\"/box-office-chart/daily/2017/05/23\">May 23, 2017</a>,\n",
       " <a href=\"/movie/Pirates-of-the-Caribbean-Dead-Men-Tell-No-Tales#tab=summary\">Pirates of the Caribbean: Dead Men Tell No Tales</a>,\n",
       " <a href=\"/box-office-chart/daily/2008/11/14\">Nov 14, 2008</a>,\n",
       " <a href=\"/movie/Quantum-of-Solace#tab=summary\">Quantum of Solace</a>,\n",
       " <a href=\"/box-office-chart/daily/2012/04/25\">Apr 25, 2012</a>,\n",
       " <a href=\"/movie/Avengers-The-(2012)#tab=summary\">The Avengers</a>,\n",
       " <a href=\"/box-office-chart/daily/2006/07/07\">Jul 7, 2006</a>,\n",
       " <a href=\"/movie/Pirates-of-the-Caribbean-Dead-Mans-Chest#tab=summary\">Pirates of the Caribbean: Dead Manâs Chest</a>,\n",
       " <a href=\"/box-office-chart/daily/2013/06/14\">Jun 14, 2013</a>,\n",
       " <a href=\"/movie/Man-of-Steel#tab=summary\">Man of Steel</a>,\n",
       " <a href=\"/box-office-chart/daily/2008/05/16\">May 16, 2008</a>,\n",
       " <a href=\"/movie/Chronicles-of-Narnia-Prince-Caspian-The#tab=summary\">The Chronicles of Narnia: Prince Caspian</a>,\n",
       " <a href=\"/box-office-chart/daily/2013/07/02\">Jul 2, 2013</a>,\n",
       " <a href=\"/movie/Lone-Ranger-The#tab=summary\">The Lone Ranger</a>,\n",
       " <a href=\"/box-office-chart/daily/2020/07/17\">Jul 17, 2020</a>,\n",
       " <a href=\"/movie/Tenet-(2020)#tab=summary\">Tenet</a>,\n",
       " <a href=\"/box-office-chart/daily/2012/06/27\">Jun 27, 2012</a>,\n",
       " <a href=\"/movie/Amazing-Spider-Man-The#tab=summary\">The Amazing Spider-Man</a>,\n",
       " <a href=\"/box-office-chart/daily/2012/04/11\">Apr 11, 2012</a>,\n",
       " <a href=\"/movie/Battleship#tab=summary\">Battleship</a>,\n",
       " <a href=\"/box-office-chart/daily/2017/06/20\">Jun 20, 2017</a>,\n",
       " <a href=\"/movie/Transformers-The-Last-Knight#tab=summary\">Transformers: The Last Knight</a>,\n",
       " <a href=\"/box-office-chart/daily/2015/06/09\">Jun 9, 2015</a>,\n",
       " <a href=\"/movie/Jurassic-World#tab=summary\">Jurassic World</a>,\n",
       " <a href=\"/box-office-chart/daily/2012/05/23\">May 23, 2012</a>,\n",
       " <a href=\"/movie/Men-in-Black-3#tab=summary\">Men in Black 3</a>,\n",
       " <a href=\"/box-office-chart/daily/2009/06/24\">Jun 24, 2009</a>,\n",
       " <a href=\"/movie/Transformers-Revenge-of-the-Fallen#tab=summary\">Transformers: Revenge of the Fallen</a>,\n",
       " <a href=\"/box-office-chart/daily/2014/06/25\">Jun 25, 2014</a>,\n",
       " <a href=\"/movie/Transformers-Age-of-Extinction#tab=summary\">Transformers: Age of Extinction</a>,\n",
       " <a href=\"/box-office-chart/daily/2006/05/26\">May 26, 2006</a>,\n",
       " <a href=\"/movie/X-Men-The-Last-Stand#tab=summary\">X-Men: The Last Stand</a>,\n",
       " <a href=\"/box-office-chart/daily/2010/05/14\">May 14, 2010</a>,\n",
       " <a href=\"/movie/Robin-Hood-(2010)#tab=summary\">Robin Hood</a>,\n",
       " <a href=\"/box-office-chart/daily/2005/12/14\">Dec 14, 2005</a>,\n",
       " <a href=\"/movie/King-Kong-(2005)#tab=summary\">King Kong</a>,\n",
       " <a href=\"/box-office-chart/daily/2007/12/07\">Dec 7, 2007</a>,\n",
       " <a href=\"/movie/His-Dark-Materials-The-Golden-Compass#tab=summary\">The Golden Compass</a>,\n",
       " <a href=\"/box-office-chart/daily/2018/02/13\">Feb 13, 2018</a>,\n",
       " <a href=\"/movie/Black-Panther#tab=summary\">Black Panther</a>,\n",
       " <a href=\"/box-office-chart/daily/1997/12/19\">Dec 19, 1997</a>,\n",
       " <a href=\"/movie/Titanic-(1997)#tab=summary\">Titanic</a>,\n",
       " <a href=\"/box-office-chart/daily/2017/12/13\">Dec 13, 2017</a>,\n",
       " <a href=\"/movie/Star-Wars-Ep-VIII-The-Last-Jedi#tab=summary\">Star Wars Ep. VIII: The Last Jedi</a>,\n",
       " <a href=\"/box-office-chart/daily/2018/06/15\">Jun 15, 2018</a>,\n",
       " <a href=\"/movie/Incredibles-2#tab=summary\">Incredibles 2</a>,\n",
       " <a href=\"/box-office-chart/daily/2016/12/14\">Dec 14, 2016</a>,\n",
       " <a href=\"/movie/Rogue-One-A-Star-Wars-Story#tab=summary\">Rogue One: A Star Wars Story</a>,\n",
       " <a href=\"/box-office-chart/daily/2016/06/16\">Jun 16, 2016</a>,\n",
       " <a href=\"/movie/Finding-Dory#tab=summary\">Finding Dory</a>,\n",
       " <a href=\"/box-office-chart/daily/2019/06/20\">Jun 20, 2019</a>,\n",
       " <a href=\"/movie/Toy-Story-4-(2019)#tab=summary\">Toy Story 4</a>,\n",
       " <a href=\"/box-office-chart/daily/2010/06/18\">Jun 18, 2010</a>,\n",
       " <a href=\"/movie/Toy-Story-3#tab=summary\">Toy Story 3</a>,\n",
       " <a href=\"/box-office-chart/daily/2013/04/24\">Apr 24, 2013</a>,\n",
       " <a href=\"/movie/Iron-Man-3#tab=summary\">Iron Man 3</a>,\n",
       " <a href=\"/box-office-chart/daily/2017/04/28\">Apr 28, 2017</a>,\n",
       " <a href=\"/movie/Guardians-of-the-Galaxy-Vol-2#tab=summary\">Guardians of the Galaxy Vol 2</a>,\n",
       " <a href=\"/box-office-chart/daily/2004/06/30\">Jun 30, 2004</a>,\n",
       " <a href=\"/movie/Spider-Man-2#tab=summary\">Spider-Man 2</a>,\n",
       " <a href=\"/box-office-chart/daily/2010/03/05\">Mar 5, 2010</a>,\n",
       " <a href=\"/movie/Alice-in-Wonderland-(2010)#tab=summary\">Alice in Wonderland</a>,\n",
       " <a href=\"/box-office-chart/daily/2012/10/26\">Oct 26, 2012</a>,\n",
       " <a href=\"/movie/Skyfall#tab=summary\">Skyfall</a>,\n",
       " <a href=\"/box-office-chart/daily/2012/12/11\">Dec 11, 2012</a>,\n",
       " <a href=\"/movie/Hobbit-An-Unexpected-Journey-The#tab=summary\">The Hobbit: An Unexpected Journey</a>,\n",
       " <a href=\"/box-office-chart/daily/2013/06/21\">Jun 21, 2013</a>,\n",
       " <a href=\"/movie/Monsters-University#tab=summary\">Monsters University</a>,\n",
       " <a href=\"/box-office-chart/daily/2013/03/08\">Mar 8, 2013</a>,\n",
       " <a href=\"/movie/Oz-The-Great-and-Powerful#tab=summary\">Oz the Great and Powerful</a>,\n",
       " <a href=\"/box-office-chart/daily/2014/05/21\">May 21, 2014</a>,\n",
       " <a href=\"/movie/X-Men-Days-of-Future-Past#tab=summary\">X-Men: Days of Future Past</a>,\n",
       " <a href=\"/box-office-chart/daily/2014/04/16\">Apr 16, 2014</a>,\n",
       " <a href=\"/movie/Amazing-Spider-Man-2-The#tab=summary\">The Amazing Spider-Man 2</a>,\n",
       " <a href=\"/box-office-chart/daily/2011/06/23\">Jun 23, 2011</a>,\n",
       " <a href=\"/movie/Cars-2#tab=summary\">Cars 2</a>,\n",
       " <a href=\"/box-office-chart/daily/2019/07/31\">Jul 31, 2019</a>,\n",
       " <a href=\"/movie/Fast-and-Furious-Presents-Hobbs-and-Shaw-(2019)#tab=summary\">Fast &amp; Furious Presents: Hobbs &amp; Shaw</a>,\n",
       " <a href=\"/box-office-chart/daily/2010/12/17\">Dec 17, 2010</a>,\n",
       " <a href=\"/movie/Tron-Legacy#tab=summary\">Tron: Legacy</a>,\n",
       " <a href=\"/box-office-chart/daily/2009/11/12\">Nov 12, 2009</a>,\n",
       " <a href=\"/movie/2012#tab=summary\">2012</a>,\n",
       " <a href=\"/box-office-chart/daily/2018/11/14\">Nov 14, 2018</a>,\n",
       " <a href=\"/movie/Fantastic-Beasts-The-Crimes-of-Grindelwald-(2018)#tab=summary\">Fantastic Beasts: The Crimes of Grindelwald</a>,\n",
       " <a href=\"/box-office-chart/daily/2009/05/21\">May 21, 2009</a>,\n",
       " <a href=\"/movie/Terminator-Salvation#tab=summary\">Terminator Salvation</a>,\n",
       " <a href=\"/box-office-chart/daily/2011/06/17\">Jun 17, 2011</a>,\n",
       " <a href=\"/movie/Green-Lantern-(2011)#tab=summary\">Green Lantern</a>,\n",
       " <a href=\"/box-office-chart/daily/2010/05/28\">May 28, 2010</a>,\n",
       " <a href=\"/movie/Prince-of-Persia-Sands-of-Time#tab=summary\">Prince of Persia: Sands of Time</a>,\n",
       " <a href=\"/box-office-chart/daily/2019/06/05\">Jun 5, 2019</a>,\n",
       " <a href=\"/movie/Dark-Phoenix-(2019)#tab=summary\">Dark Phoenix</a>,\n",
       " <a href=\"/box-office-chart/daily/2011/06/29\">Jun 29, 2011</a>,\n",
       " <a href=\"/movie/Transformers-Dark-of-the-Moon#tab=summary\">Transformers: Dark of the Moon</a>,\n",
       " <a href=\"/box-office-chart/daily/2017/06/02\">Jun 2, 2017</a>,\n",
       " <a href=\"/movie/Mummy-The-(2017)#tab=summary\">The Mummy</a>,\n",
       " <a href=\"/box-office-chart/daily/2013/02/27\">Feb 27, 2013</a>,\n",
       " <a href=\"/movie/Jack-the-Giant-Slayer#tab=summary\">Jack the Giant Slayer</a>,\n",
       " <a href=\"/box-office-chart/daily/2015/04/01\">Apr 1, 2015</a>,\n",
       " <a href=\"/movie/Furious-7#tab=summary\">Furious 7</a>,\n",
       " <a href=\"/box-office-chart/daily/2013/05/16\">May 16, 2013</a>,\n",
       " <a href=\"/movie/Star-Trek-Into-Darkness#tab=summary\">Star Trek Into Darkness</a>,\n",
       " <a href=\"/box-office-chart/daily/2013/06/19\">Jun 19, 2013</a>,\n",
       " <a href=\"/movie/World-War-Z#tab=summary\">World War Z</a>,\n",
       " <a href=\"/box-office-chart/daily/2013/05/10\">May 10, 2013</a>,\n",
       " <a href=\"/movie/Great-Gatsby-The-(2011)#tab=summary\">The Great Gatsby</a>,\n",
       " <a href=\"/box-office-chart/daily/2009/11/06\">Nov 6, 2009</a>,\n",
       " <a href=\"/movie/Disneys-A-Christmas-Carol#tab=summary\">Disneyâs A Christmas Carol</a>,\n",
       " <a href=\"/box-office-chart/daily/2013/07/11\">Jul 11, 2013</a>,\n",
       " <a href=\"/movie/Pacific-Rim#tab=summary\">Pacific Rim</a>,\n",
       " <a href=\"/box-office-chart/daily/2015/11/25\">Nov 25, 2015</a>,\n",
       " <a href=\"/movie/Good-Dinosaur-The#tab=summary\">The Good Dinosaur</a>,\n",
       " <a href=\"/box-office-chart/daily/2008/05/02\">May 2, 2008</a>,\n",
       " <a href=\"/movie/Iron-Man#tab=summary\">Iron Man</a>,\n",
       " <a href=\"/box-office-chart/daily/2008/07/18\">Jul 18, 2008</a>,\n",
       " <a href=\"/movie/Dark-Knight-The#tab=summary\">The Dark Knight</a>,\n",
       " <a href=\"/box-office-chart/daily/2008/05/22\">May 22, 2008</a>,\n",
       " <a href=\"/movie/Indiana-Jones-and-the-Kingdom-of-the-Crystal-Skull#tab=summary\">Indiana Jones and the Kingdom of the Crystal Skull</a>,\n",
       " <a href=\"/box-office-chart/daily/2012/06/21\">Jun 21, 2012</a>,\n",
       " <a href=\"/movie/Brave#tab=summary\">Brave</a>,\n",
       " <a href=\"/box-office-chart/daily/2017/02/23\">Feb 23, 2017</a>,\n",
       " <a href=\"/movie/Kong-Skull-Island#tab=summary\">Kong: Skull Island</a>,\n",
       " <a href=\"/box-office-chart/daily/2016/07/21\">Jul 21, 2016</a>,\n",
       " <a href=\"/movie/Star-Trek-Beyond#tab=summary\">Star Trek Beyond</a>,\n",
       " <a href=\"/box-office-chart/daily/2019/10/17\">Oct 17, 2019</a>,\n",
       " <a href=\"/movie/Maleficent-Mistress-of-Evil-(2019)#tab=summary\">Maleficent: Mistress of Evil</a>,\n",
       " <a href=\"/box-office-chart/daily/2017/09/29\">Sep 29, 2017</a>,\n",
       " <a href=\"/movie/Blade-Runner-2049#tab=summary\">Blade Runner 2049</a>,\n",
       " <a href=\"/box-office-chart/daily/2019/10/25\">Oct 25, 2019</a>,\n",
       " <a href=\"/movie/Terminator-Dark-Fate-(2019)#tab=summary\">Terminator: Dark Fate</a>,\n",
       " <a href=\"/box-office-chart/daily/2019/05/22\">May 22, 2019</a>,\n",
       " <a href=\"/movie/Aladdin-(2019)#tab=summary\">Aladdin</a>,\n",
       " <a href=\"/box-office-chart/daily/2017/10/25\">Oct 25, 2017</a>,\n",
       " <a href=\"/movie/Thor-Ragnarok#tab=summary\">Thor: Ragnarok</a>,\n",
       " <a href=\"/box-office-chart/daily/2005/12/09\">Dec 9, 2005</a>,\n",
       " <a href=\"/movie/Chronicles-of-Narnia-The-Lion-the-Witch-and-the-Wardrobe-The#tab=summary\">The Chronicles of Narnia: The Lion, the Witch a…</a>,\n",
       " <a href=\"/box-office-chart/daily/2014/05/28\">May 28, 2014</a>,\n",
       " <a href=\"/movie/Maleficent#tab=summary\">Maleficent</a>,\n",
       " <a href=\"/box-office-chart/daily/2016/11/14\">Nov 14, 2016</a>,\n",
       " <a href=\"/movie/Fantastic-Beasts-and-Where-to-Find-Them#tab=summary\">Fantastic Beasts and Where to Find Them</a>,\n",
       " <a href=\"/box-office-chart/daily/2008/06/27\">Jun 27, 2008</a>,\n",
       " <a href=\"/movie/WALL-E#tab=summary\">WALL-E</a>,\n",
       " <a href=\"/box-office-chart/daily/2007/08/10\">Aug 10, 2007</a>,\n",
       " <a href=\"/movie/Rush-Hour-3#tab=summary\">Rush Hour 3</a>,\n",
       " <a href=\"/box-office-chart/daily/2016/06/27\">Jun 27, 2016</a>,\n",
       " <a href=\"/movie/Legend-of-Tarzan-The#tab=summary\">The Legend of Tarzan</a>,\n",
       " <a href=\"/box-office-chart/daily/2011/11/23\">Nov 23, 2011</a>,\n",
       " <a href=\"/movie/Hugo#tab=summary\">Hugo</a>,\n",
       " <a href=\"/box-office-chart/daily/2017/07/20\">Jul 20, 2017</a>,\n",
       " <a href=\"/movie/Valerian-and-the-City-of-a-Thousand-Planets-(France)#tab=summary\">Valerian and the City of a Thousand Planets</a>,\n",
       " <a href=\"/box-office-chart/daily/2015/02/06\">Feb 6, 2015</a>,\n",
       " <a href=\"/movie/Jupiter-Ascending#tab=summary\">Jupiter Ascending</a>]"
      ]
     },
     "execution_count": 218,
     "metadata": {},
     "output_type": "execute_result"
    }
   ],
   "source": [
    "#list(k)[71:-62]"
   ]
  },
  {
   "cell_type": "code",
   "execution_count": 187,
   "metadata": {},
   "outputs": [
    {
     "data": {
      "text/plain": [
       "str"
      ]
     },
     "execution_count": 187,
     "metadata": {},
     "output_type": "execute_result"
    }
   ],
   "source": [
    "#type(str(xcv[1]))"
   ]
  },
  {
   "cell_type": "code",
   "execution_count": 189,
   "metadata": {},
   "outputs": [],
   "source": [
    "#zxcv=[]\n",
    "#for i in range(len(xcv)):\n",
    "#    zxcv.append(str(xcv[i]))"
   ]
  },
  {
   "cell_type": "code",
   "execution_count": 204,
   "metadata": {},
   "outputs": [],
   "source": [
    "#Movies = np.array(zxcv).reshape(-1,2)#[:,1][i][72:-4]"
   ]
  },
  {
   "cell_type": "code",
   "execution_count": 206,
   "metadata": {},
   "outputs": [],
   "source": [
    "#MoviesCl = []\n",
    "#for i in range(len(Movies[:,1])):\n",
    "#    MoviesCl.append(Movies[:,1][i][72:-4])"
   ]
  },
  {
   "cell_type": "code",
   "execution_count": 241,
   "metadata": {},
   "outputs": [],
   "source": [
    "#MoviesCl"
   ]
  },
  {
   "cell_type": "code",
   "execution_count": 130,
   "metadata": {},
   "outputs": [],
   "source": [
    "#k = soup.find_all('td')"
   ]
  },
  {
   "cell_type": "code",
   "execution_count": 131,
   "metadata": {},
   "outputs": [],
   "source": [
    "#j = list(k)\n"
   ]
  },
  {
   "cell_type": "code",
   "execution_count": 132,
   "metadata": {},
   "outputs": [
    {
     "data": {
      "text/plain": [
       "bs4.element.Tag"
      ]
     },
     "execution_count": 132,
     "metadata": {},
     "output_type": "execute_result"
    }
   ],
   "source": [
    "#type(j[1])"
   ]
  },
  {
   "cell_type": "code",
   "execution_count": 135,
   "metadata": {},
   "outputs": [],
   "source": [
    "#asdf=[]\n",
    "#for i in range(len(j)):\n",
    "#    asdf.append(str(j[i]))"
   ]
  },
  {
   "cell_type": "code",
   "execution_count": 170,
   "metadata": {},
   "outputs": [],
   "source": [
    "#budgets2 = pd.DataFrame(np.array(asdf).reshape(-1,6))[3]"
   ]
  },
  {
   "cell_type": "code",
   "execution_count": 171,
   "metadata": {},
   "outputs": [
    {
     "data": {
      "text/plain": [
       "100"
      ]
     },
     "execution_count": 171,
     "metadata": {},
     "output_type": "execute_result"
    }
   ],
   "source": [
    "#len(budgets2)"
   ]
  },
  {
   "cell_type": "code",
   "execution_count": 166,
   "metadata": {},
   "outputs": [],
   "source": [
    "#op = []\n",
    "#for i in range(len(budgets2)):\n",
    "#    op.append(budgets2[i][18:-5])"
   ]
  },
  {
   "cell_type": "code",
   "execution_count": 168,
   "metadata": {},
   "outputs": [
    {
     "data": {
      "text/plain": [
       "100"
      ]
     },
     "execution_count": 168,
     "metadata": {},
     "output_type": "execute_result"
    }
   ],
   "source": [
    "#len(op)"
   ]
  },
  {
   "cell_type": "code",
   "execution_count": 216,
   "metadata": {},
   "outputs": [],
   "source": [
    "#dfs = []\n",
    "#url = \"https://www.the-numbers.com/movie/budgets/all/001\"\n",
    "#response = requests.get(url)\n",
    "#page = response.text\n",
    "#soup = BeautifulSoup(page, \"lxml\")\n",
    "#k = soup.find_all('a')\n",
    "#j = list(soup.find_all('td'))\n",
    "#asdf=[]\n",
    "#for i in range(len(j)):\n",
    "#    asdf.append(str(j[i]))\n",
    "#budgets2 = pd.DataFrame(np.array(asdf).reshape(-1,6))[3]\n",
    "##budgets3 = []\n",
    "#budget = []\n",
    "#for i in range(len(budgets2)):\n",
    "#    budget.append(budgets2[i][18:-5])"
   ]
  },
  {
   "cell_type": "code",
   "execution_count": 217,
   "metadata": {},
   "outputs": [
    {
     "data": {
      "text/plain": [
       "['$400,000,000',\n",
       " '$379,000,000',\n",
       " '$365,000,000',\n",
       " '$306,000,000',\n",
       " '$300,000,000',\n",
       " '$300,000,000',\n",
       " '$300,000,000',\n",
       " '$300,000,000',\n",
       " '$275,000,000',\n",
       " '$275,000,000',\n",
       " '$263,700,000',\n",
       " '$263,000,000',\n",
       " '$260,000,000',\n",
       " '$260,000,000',\n",
       " '$258,000,000',\n",
       " '$250,000,000',\n",
       " '$250,000,000',\n",
       " '$250,000,000',\n",
       " '$250,000,000',\n",
       " '$250,000,000',\n",
       " '$250,000,000',\n",
       " '$237,000,000',\n",
       " '$232,000,000',\n",
       " '$230,000,000',\n",
       " '$230,000,000',\n",
       " '$230,000,000',\n",
       " '$225,000,000',\n",
       " '$225,000,000',\n",
       " '$225,000,000',\n",
       " '$225,000,000',\n",
       " '$225,000,000',\n",
       " '$224,000,000',\n",
       " '$220,000,000',\n",
       " '$220,000,000',\n",
       " '$217,000,000',\n",
       " '$215,000,000',\n",
       " '$215,000,000',\n",
       " '$210,000,000',\n",
       " '$210,000,000',\n",
       " '$210,000,000',\n",
       " '$210,000,000',\n",
       " '$207,000,000',\n",
       " '$205,000,000',\n",
       " '$200,000,000',\n",
       " '$200,000,000',\n",
       " '$200,000,000',\n",
       " '$200,000,000',\n",
       " '$200,000,000',\n",
       " '$200,000,000',\n",
       " '$200,000,000',\n",
       " '$200,000,000',\n",
       " '$200,000,000',\n",
       " '$200,000,000',\n",
       " '$200,000,000',\n",
       " '$200,000,000',\n",
       " '$200,000,000',\n",
       " '$200,000,000',\n",
       " '$200,000,000',\n",
       " '$200,000,000',\n",
       " '$200,000,000',\n",
       " '$200,000,000',\n",
       " '$200,000,000',\n",
       " '$200,000,000',\n",
       " '$200,000,000',\n",
       " '$200,000,000',\n",
       " '$200,000,000',\n",
       " '$200,000,000',\n",
       " '$200,000,000',\n",
       " '$200,000,000',\n",
       " '$200,000,000',\n",
       " '$195,000,000',\n",
       " '$195,000,000',\n",
       " '$195,000,000',\n",
       " '$190,000,000',\n",
       " '$190,000,000',\n",
       " '$190,000,000',\n",
       " '$190,000,000',\n",
       " '$190,000,000',\n",
       " '$190,000,000',\n",
       " '$187,500,000',\n",
       " '$186,000,000',\n",
       " '$185,000,000',\n",
       " '$185,000,000',\n",
       " '$185,000,000',\n",
       " '$185,000,000',\n",
       " '$185,000,000',\n",
       " '$185,000,000',\n",
       " '$185,000,000',\n",
       " '$185,000,000',\n",
       " '$182,000,000',\n",
       " '$180,000,000',\n",
       " '$180,000,000',\n",
       " '$180,000,000',\n",
       " '$180,000,000',\n",
       " '$180,000,000',\n",
       " '$180,000,000',\n",
       " '$180,000,000',\n",
       " '$180,000,000',\n",
       " '$180,000,000',\n",
       " '$179,000,000']"
      ]
     },
     "execution_count": 217,
     "metadata": {},
     "output_type": "execute_result"
    }
   ],
   "source": [
    "#budget"
   ]
  },
  {
   "cell_type": "code",
   "execution_count": 3,
   "metadata": {},
   "outputs": [
    {
     "data": {
      "text/html": [
       "<div>\n",
       "<style scoped>\n",
       "    .dataframe tbody tr th:only-of-type {\n",
       "        vertical-align: middle;\n",
       "    }\n",
       "\n",
       "    .dataframe tbody tr th {\n",
       "        vertical-align: top;\n",
       "    }\n",
       "\n",
       "    .dataframe thead th {\n",
       "        text-align: right;\n",
       "    }\n",
       "</style>\n",
       "<table border=\"1\" class=\"dataframe\">\n",
       "  <thead>\n",
       "    <tr style=\"text-align: right;\">\n",
       "      <th></th>\n",
       "      <th>Movie_Title</th>\n",
       "      <th>Distributor</th>\n",
       "      <th>Domestic_Total_Gross</th>\n",
       "      <th>Budget</th>\n",
       "      <th>Runtime(mins)</th>\n",
       "      <th>Rating</th>\n",
       "      <th>Release_Date</th>\n",
       "      <th>Genre</th>\n",
       "    </tr>\n",
       "  </thead>\n",
       "  <tbody>\n",
       "    <tr>\n",
       "      <th>0</th>\n",
       "      <td>Avengers: Endgame</td>\n",
       "      <td>Walt Disney Studios Motion Pictures</td>\n",
       "      <td>858373000</td>\n",
       "      <td>356000000</td>\n",
       "      <td>181</td>\n",
       "      <td>PG-13</td>\n",
       "      <td>2019-04-26</td>\n",
       "      <td>Action, Adventure, Drama, Sci-Fi</td>\n",
       "    </tr>\n",
       "    <tr>\n",
       "      <th>1</th>\n",
       "      <td>The Lion King</td>\n",
       "      <td>Walt Disney Studios Motion Pictures</td>\n",
       "      <td>543638043</td>\n",
       "      <td>260000000</td>\n",
       "      <td>118</td>\n",
       "      <td>PG</td>\n",
       "      <td>2019-07-19</td>\n",
       "      <td>Adventure, Animation, Drama, Family, Musical</td>\n",
       "    </tr>\n",
       "    <tr>\n",
       "      <th>2</th>\n",
       "      <td>Toy Story 4</td>\n",
       "      <td>Walt Disney Studios Motion Pictures</td>\n",
       "      <td>434038008</td>\n",
       "      <td>None</td>\n",
       "      <td>100</td>\n",
       "      <td>G</td>\n",
       "      <td>2019-06-21</td>\n",
       "      <td>Adventure, Animation, Comedy, Family, Fantasy</td>\n",
       "    </tr>\n",
       "    <tr>\n",
       "      <th>3</th>\n",
       "      <td>Frozen II</td>\n",
       "      <td>Walt Disney Studios Motion Pictures</td>\n",
       "      <td>466850574</td>\n",
       "      <td>None</td>\n",
       "      <td>103</td>\n",
       "      <td>PG</td>\n",
       "      <td>2019-11-22</td>\n",
       "      <td>Adventure, Animation, Comedy, Family, Fantasy,...</td>\n",
       "    </tr>\n",
       "    <tr>\n",
       "      <th>4</th>\n",
       "      <td>Captain Marvel</td>\n",
       "      <td>Walt Disney Studios Motion Pictures</td>\n",
       "      <td>426829839</td>\n",
       "      <td>None</td>\n",
       "      <td>123</td>\n",
       "      <td>PG-13</td>\n",
       "      <td>2019-03-08</td>\n",
       "      <td>Action, Adventure, Sci-Fi</td>\n",
       "    </tr>\n",
       "    <tr>\n",
       "      <th>...</th>\n",
       "      <td>...</td>\n",
       "      <td>...</td>\n",
       "      <td>...</td>\n",
       "      <td>...</td>\n",
       "      <td>...</td>\n",
       "      <td>...</td>\n",
       "      <td>...</td>\n",
       "      <td>...</td>\n",
       "    </tr>\n",
       "    <tr>\n",
       "      <th>11263</th>\n",
       "      <td>The Comedians of Comedy</td>\n",
       "      <td>Vitagraph Films</td>\n",
       "      <td>549</td>\n",
       "      <td>None</td>\n",
       "      <td>103</td>\n",
       "      <td>None</td>\n",
       "      <td>2005-11-11</td>\n",
       "      <td>Comedy, Documentary</td>\n",
       "    </tr>\n",
       "    <tr>\n",
       "      <th>11264</th>\n",
       "      <td>The Dark Hours</td>\n",
       "      <td></td>\n",
       "      <td>423</td>\n",
       "      <td>None</td>\n",
       "      <td>80</td>\n",
       "      <td>R</td>\n",
       "      <td>2005-10-13</td>\n",
       "      <td>Horror, Thriller</td>\n",
       "    </tr>\n",
       "    <tr>\n",
       "      <th>11265</th>\n",
       "      <td>The Brown Bunny</td>\n",
       "      <td>Wellspring Media</td>\n",
       "      <td>366301</td>\n",
       "      <td>None</td>\n",
       "      <td>93</td>\n",
       "      <td>None</td>\n",
       "      <td>2004-08-27</td>\n",
       "      <td>Drama</td>\n",
       "    </tr>\n",
       "    <tr>\n",
       "      <th>11266</th>\n",
       "      <td>Yes Nurse! No Nurse! 2004 Re</td>\n",
       "      <td>Regent Releasing</td>\n",
       "      <td>13325</td>\n",
       "      <td>None</td>\n",
       "      <td>100</td>\n",
       "      <td>None</td>\n",
       "      <td>2004-09-03</td>\n",
       "      <td>Comedy, Musical</td>\n",
       "    </tr>\n",
       "    <tr>\n",
       "      <th>11267</th>\n",
       "      <td>Head in the Clouds</td>\n",
       "      <td>Sony Pictures Classics</td>\n",
       "      <td>398278</td>\n",
       "      <td>None</td>\n",
       "      <td>132</td>\n",
       "      <td>R</td>\n",
       "      <td>2004-09-17</td>\n",
       "      <td>Drama, Romance, War</td>\n",
       "    </tr>\n",
       "  </tbody>\n",
       "</table>\n",
       "<p>11268 rows × 8 columns</p>\n",
       "</div>"
      ],
      "text/plain": [
       "                        Movie_Title                          Distributor  \\\n",
       "0                 Avengers: Endgame  Walt Disney Studios Motion Pictures   \n",
       "1                     The Lion King  Walt Disney Studios Motion Pictures   \n",
       "2                       Toy Story 4  Walt Disney Studios Motion Pictures   \n",
       "3                         Frozen II  Walt Disney Studios Motion Pictures   \n",
       "4                    Captain Marvel  Walt Disney Studios Motion Pictures   \n",
       "...                             ...                                  ...   \n",
       "11263       The Comedians of Comedy                      Vitagraph Films   \n",
       "11264                The Dark Hours                                        \n",
       "11265               The Brown Bunny                     Wellspring Media   \n",
       "11266  Yes Nurse! No Nurse! 2004 Re                     Regent Releasing   \n",
       "11267            Head in the Clouds               Sony Pictures Classics   \n",
       "\n",
       "      Domestic_Total_Gross     Budget Runtime(mins) Rating Release_Date  \\\n",
       "0                858373000  356000000           181  PG-13   2019-04-26   \n",
       "1                543638043  260000000           118     PG   2019-07-19   \n",
       "2                434038008       None           100      G   2019-06-21   \n",
       "3                466850574       None           103     PG   2019-11-22   \n",
       "4                426829839       None           123  PG-13   2019-03-08   \n",
       "...                    ...        ...           ...    ...          ...   \n",
       "11263                  549       None           103   None   2005-11-11   \n",
       "11264                  423       None            80      R   2005-10-13   \n",
       "11265               366301       None            93   None   2004-08-27   \n",
       "11266                13325       None           100   None   2004-09-03   \n",
       "11267               398278       None           132      R   2004-09-17   \n",
       "\n",
       "                                                   Genre  \n",
       "0                       Action, Adventure, Drama, Sci-Fi  \n",
       "1           Adventure, Animation, Drama, Family, Musical  \n",
       "2          Adventure, Animation, Comedy, Family, Fantasy  \n",
       "3      Adventure, Animation, Comedy, Family, Fantasy,...  \n",
       "4                              Action, Adventure, Sci-Fi  \n",
       "...                                                  ...  \n",
       "11263                                Comedy, Documentary  \n",
       "11264                                   Horror, Thriller  \n",
       "11265                                              Drama  \n",
       "11266                                    Comedy, Musical  \n",
       "11267                                Drama, Romance, War  \n",
       "\n",
       "[11268 rows x 8 columns]"
      ]
     },
     "execution_count": 3,
     "metadata": {},
     "output_type": "execute_result"
    }
   ],
   "source": [
    "pd.read_pickle('Full15yr.pkl')"
   ]
  },
  {
   "cell_type": "code",
   "execution_count": null,
   "metadata": {},
   "outputs": [],
   "source": []
  }
 ],
 "metadata": {
  "kernelspec": {
   "display_name": "Python 3",
   "language": "python",
   "name": "python3"
  },
  "language_info": {
   "codemirror_mode": {
    "name": "ipython",
    "version": 3
   },
   "file_extension": ".py",
   "mimetype": "text/x-python",
   "name": "python",
   "nbconvert_exporter": "python",
   "pygments_lexer": "ipython3",
   "version": "3.7.6"
  }
 },
 "nbformat": 4,
 "nbformat_minor": 2
}
