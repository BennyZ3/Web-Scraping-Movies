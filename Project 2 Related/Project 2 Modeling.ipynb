{
 "cells": [
  {
   "cell_type": "code",
   "execution_count": 139,
   "metadata": {},
   "outputs": [],
   "source": [
    "import pandas as pd\n",
    "import numpy as np\n",
    "import matplotlib.pyplot as plt\n",
    "import seaborn as sns\n",
    "from bs4 import BeautifulSoup\n",
    "import requests\n",
    "from IPython.core.display import display, HTML\n",
    "import re\n",
    "import dateutil.parser\n",
    "from datetime import datetime as dt\n",
    "from sklearn.model_selection import train_test_split\n",
    "from sklearn.linear_model import LinearRegression, Lasso, LassoCV, Ridge, RidgeCV\n",
    "from sklearn.metrics import r2_score\n",
    "from sklearn.preprocessing import StandardScaler, PolynomialFeatures\n",
    "import matplotlib.pyplot as plt\n",
    "import scipy.stats as stats\n",
    "%matplotlib inline"
   ]
  },
  {
   "cell_type": "code",
   "execution_count": 40,
   "metadata": {},
   "outputs": [],
   "source": [
    "def Action(item):\n",
    "    if 'Action' in item:\n",
    "        return 1\n",
    "    else:\n",
    "        return 0\n",
    "    \n",
    "def Adventure(item):\n",
    "    if 'Adventure' in item:\n",
    "        return 1\n",
    "    else:\n",
    "        return 0\n",
    "    \n",
    "def Animation(item):\n",
    "    if 'Animation' in item:\n",
    "        return 1\n",
    "    else:\n",
    "        return 0\n",
    "    \n",
    "def Biography(item):\n",
    "    if 'Biography' in item:\n",
    "        return 1\n",
    "    else:\n",
    "        return 0\n",
    "    \n",
    "def Comedy(item):\n",
    "    if 'Comedy' in item:\n",
    "        return 1\n",
    "    else:\n",
    "        return 0\n",
    "    \n",
    "def Crime(item):\n",
    "    if 'Crime' in item:\n",
    "        return 1\n",
    "    else:\n",
    "        return 0\n",
    "    \n",
    "def Documentary(item):\n",
    "    if 'Documentary' in item:\n",
    "        return 1\n",
    "    else:\n",
    "        return 0\n",
    "    \n",
    "def Drama(item):\n",
    "    if 'Drama' in item:\n",
    "        return 1\n",
    "    else:\n",
    "        return 0\n",
    "    \n",
    "def Family(item):\n",
    "    if 'Family' in item:\n",
    "        return 1\n",
    "    else:\n",
    "        return 0\n",
    "    \n",
    "def Fantasy(item):\n",
    "    if 'Fantasy' in item:\n",
    "        return 1\n",
    "    else:\n",
    "        return 0\n",
    "    \n",
    "def History(item):\n",
    "    if 'History' in item:\n",
    "        return 1\n",
    "    else:\n",
    "        return 0    \n",
    "    \n",
    "def Horror(item):\n",
    "    if 'Horror' in item:\n",
    "        return 1\n",
    "    else:\n",
    "        return 0\n",
    "    \n",
    "def Music(item):\n",
    "    if 'Music' in item:\n",
    "        return 1\n",
    "    else:\n",
    "        return 0\n",
    "    \n",
    "def Music(item):\n",
    "    if 'Music' in item:\n",
    "        return 1\n",
    "    else:\n",
    "        return 0\n",
    "    \n",
    "def Musical(item):\n",
    "    if 'Musical' in item:\n",
    "        return 1\n",
    "    else:\n",
    "        return 0\n",
    "    \n",
    "def Mystery(item):\n",
    "    if 'Mystery' in item:\n",
    "        return 1\n",
    "    else:\n",
    "        return 0\n",
    "    \n",
    "def News(item):\n",
    "    if 'News' in item:\n",
    "        return 1\n",
    "    else:\n",
    "        return 0\n",
    "    \n",
    "def Romance(item):\n",
    "    if 'Romance' in item:\n",
    "        return 1\n",
    "    else:\n",
    "        return 0\n",
    "    \n",
    "def SciFi(item):\n",
    "    if 'Sci-Fi' in item:\n",
    "        return 1\n",
    "    else:\n",
    "        return 0\n",
    "\n",
    "def Short(item):\n",
    "    if 'Short' in item:\n",
    "        return 1\n",
    "    else:\n",
    "        return 0\n",
    "    \n",
    "def Sport(item):\n",
    "    if 'Sport' in item:\n",
    "        return 1\n",
    "    else:\n",
    "        return 0\n",
    "    \n",
    "def Thriller(item):\n",
    "    if 'Thriller' in item:\n",
    "        return 1\n",
    "    else:\n",
    "        return 0\n",
    "\n",
    "def War(item):\n",
    "    if 'War' in item:\n",
    "        return 1\n",
    "    else:\n",
    "        return 0\n",
    "    \n",
    "def Western(item):\n",
    "    if 'Western' in item:\n",
    "        return 1\n",
    "    else:\n",
    "        return 0\n"
   ]
  },
  {
   "cell_type": "code",
   "execution_count": 2,
   "metadata": {},
   "outputs": [],
   "source": [
    "df1 = pd.read_pickle('Mv200x20.pkl')"
   ]
  },
  {
   "cell_type": "code",
   "execution_count": 3,
   "metadata": {},
   "outputs": [],
   "source": [
    "df2 = pd.read_csv('Budgets.csv')"
   ]
  },
  {
   "cell_type": "code",
   "execution_count": 4,
   "metadata": {},
   "outputs": [
    {
     "name": "stdout",
     "output_type": "stream",
     "text": [
      "<class 'pandas.core.frame.DataFrame'>\n",
      "RangeIndex: 2645 entries, 0 to 2644\n",
      "Data columns (total 8 columns):\n",
      "Movie_Title             2645 non-null object\n",
      "Distributor             2645 non-null object\n",
      "Domestic_Total_Gross    2645 non-null object\n",
      "Budget                  1952 non-null object\n",
      "Runtime(mins)           2571 non-null object\n",
      "Rating                  2516 non-null object\n",
      "Release_Date            2645 non-null datetime64[ns]\n",
      "Genre                   2645 non-null object\n",
      "dtypes: datetime64[ns](1), object(7)\n",
      "memory usage: 165.4+ KB\n"
     ]
    }
   ],
   "source": [
    "df1.info()"
   ]
  },
  {
   "cell_type": "code",
   "execution_count": 5,
   "metadata": {},
   "outputs": [
    {
     "data": {
      "text/plain": [
       "'<a href=\"/movie/Pirates-of-the-Caribbean-On-Stranger-Tides#tab=summary\">Pirates of the Caribbean: On Stranger Tides</a>'"
      ]
     },
     "execution_count": 5,
     "metadata": {},
     "output_type": "execute_result"
    }
   ],
   "source": [
    "df2['Movie_Title'][1]"
   ]
  },
  {
   "cell_type": "code",
   "execution_count": 6,
   "metadata": {},
   "outputs": [
    {
     "data": {
      "text/plain": [
       "'Pirates of the Caribbean: On Stranger Tides'"
      ]
     },
     "execution_count": 6,
     "metadata": {},
     "output_type": "execute_result"
    }
   ],
   "source": [
    "df2['Movie_Title'][1][df2['Movie_Title'][1].find('>')+1 : df2['Movie_Title'][1].find('<',5)]"
   ]
  },
  {
   "cell_type": "code",
   "execution_count": 7,
   "metadata": {},
   "outputs": [],
   "source": [
    "clean_titles = []\n",
    "for i in range(len(df2['Movie_Title'])):\n",
    "    clean_titles.append(df2['Movie_Title'][i][df2['Movie_Title'][i].find('>')+1 : df2['Movie_Title'][i].find('<',5)])"
   ]
  },
  {
   "cell_type": "code",
   "execution_count": 8,
   "metadata": {},
   "outputs": [],
   "source": [
    "df2['Movie_Title'] = clean_titles"
   ]
  },
  {
   "cell_type": "code",
   "execution_count": 9,
   "metadata": {},
   "outputs": [],
   "source": [
    "def money_to_int(moneystring):\n",
    "    try:\n",
    "        moneystring = moneystring.replace('$', '').replace(',', '')\n",
    "        return int(moneystring)\n",
    "    except :\n",
    "        pass\n",
    "df2['Budgets'] = df2['Budgets'].apply(money_to_int)\n",
    "    "
   ]
  },
  {
   "cell_type": "code",
   "execution_count": 10,
   "metadata": {},
   "outputs": [
    {
     "name": "stdout",
     "output_type": "stream",
     "text": [
      "<class 'pandas.core.frame.DataFrame'>\n",
      "Int64Index: 2659 entries, 0 to 2658\n",
      "Data columns (total 9 columns):\n",
      "Movie_Title             2659 non-null object\n",
      "Distributor             2659 non-null object\n",
      "Domestic_Total_Gross    2659 non-null object\n",
      "Budget                  1965 non-null object\n",
      "Runtime(mins)           2584 non-null object\n",
      "Rating                  2530 non-null object\n",
      "Release_Date            2659 non-null datetime64[ns]\n",
      "Genre                   2659 non-null object\n",
      "Budgets                 1246 non-null float64\n",
      "dtypes: datetime64[ns](1), float64(1), object(7)\n",
      "memory usage: 207.7+ KB\n"
     ]
    }
   ],
   "source": [
    "df = df1.merge(df2,'left')\n",
    "df.info()"
   ]
  },
  {
   "cell_type": "code",
   "execution_count": 11,
   "metadata": {},
   "outputs": [
    {
     "name": "stdout",
     "output_type": "stream",
     "text": [
      "<class 'pandas.core.frame.DataFrame'>\n",
      "Int64Index: 2659 entries, 0 to 2658\n",
      "Data columns (total 9 columns):\n",
      "Movie_Title             2659 non-null object\n",
      "Distributor             2659 non-null object\n",
      "Domestic_Total_Gross    2659 non-null object\n",
      "Budget                  1965 non-null float64\n",
      "Runtime(mins)           2584 non-null object\n",
      "Rating                  2530 non-null object\n",
      "Release_Date            2659 non-null datetime64[ns]\n",
      "Genre                   2659 non-null object\n",
      "Budgets                 1246 non-null float64\n",
      "dtypes: datetime64[ns](1), float64(2), object(6)\n",
      "memory usage: 207.7+ KB\n"
     ]
    }
   ],
   "source": [
    "df['Budget'] = pd.to_numeric(df['Budget'],errors='coerce')\n",
    "df.info()\n"
   ]
  },
  {
   "cell_type": "code",
   "execution_count": 12,
   "metadata": {},
   "outputs": [],
   "source": [
    "df.Budget.fillna(df.Budgets, inplace=True)"
   ]
  },
  {
   "cell_type": "code",
   "execution_count": 13,
   "metadata": {},
   "outputs": [
    {
     "name": "stdout",
     "output_type": "stream",
     "text": [
      "<class 'pandas.core.frame.DataFrame'>\n",
      "Int64Index: 2659 entries, 0 to 2658\n",
      "Data columns (total 9 columns):\n",
      "Movie_Title             2659 non-null object\n",
      "Distributor             2659 non-null object\n",
      "Domestic_Total_Gross    2659 non-null object\n",
      "Budget                  2115 non-null float64\n",
      "Runtime(mins)           2584 non-null object\n",
      "Rating                  2530 non-null object\n",
      "Release_Date            2659 non-null datetime64[ns]\n",
      "Genre                   2659 non-null object\n",
      "Budgets                 1246 non-null float64\n",
      "dtypes: datetime64[ns](1), float64(2), object(6)\n",
      "memory usage: 207.7+ KB\n"
     ]
    }
   ],
   "source": [
    "df.info()"
   ]
  },
  {
   "cell_type": "code",
   "execution_count": 14,
   "metadata": {},
   "outputs": [],
   "source": [
    "dfbase = df.drop('Budgets',axis = 1)"
   ]
  },
  {
   "cell_type": "code",
   "execution_count": 60,
   "metadata": {},
   "outputs": [],
   "source": [
    "dfbase['strpdate'] = pd.to_datetime(dfbase.Release_Date, format = \"%Y-%M-%D\")\n",
    "dfbase['Year'] = pd.DatetimeIndex(dfbase['strpdate']).year"
   ]
  },
  {
   "cell_type": "code",
   "execution_count": 35,
   "metadata": {},
   "outputs": [
    {
     "name": "stdout",
     "output_type": "stream",
     "text": [
      "<class 'pandas.core.frame.DataFrame'>\n",
      "Int64Index: 2659 entries, 0 to 2658\n",
      "Data columns (total 10 columns):\n",
      "Movie_Title             2659 non-null object\n",
      "Distributor             2659 non-null object\n",
      "Domestic_Total_Gross    2659 non-null int64\n",
      "Budget                  2115 non-null float64\n",
      "Runtime(mins)           2584 non-null float64\n",
      "Rating                  2530 non-null object\n",
      "Release_Date            2659 non-null datetime64[ns]\n",
      "Genre                   2659 non-null object\n",
      "strpdate                2659 non-null datetime64[ns]\n",
      "year                    2659 non-null int64\n",
      "dtypes: datetime64[ns](2), float64(2), int64(2), object(4)\n",
      "memory usage: 308.5+ KB\n"
     ]
    }
   ],
   "source": [
    "dfbase.info()"
   ]
  },
  {
   "cell_type": "code",
   "execution_count": 29,
   "metadata": {},
   "outputs": [],
   "source": [
    "dfbase['Runtime(mins)'] = pd.to_numeric(dfbase['Runtime(mins)'],errors='coerce')\n",
    "dfbase['Domestic_Total_Gross'] = pd.to_numeric(dfbase['Domestic_Total_Gross'],errors='coerce')\n"
   ]
  },
  {
   "cell_type": "code",
   "execution_count": 17,
   "metadata": {},
   "outputs": [
    {
     "data": {
      "text/plain": [
       "197"
      ]
     },
     "execution_count": 17,
     "metadata": {},
     "output_type": "execute_result"
    }
   ],
   "source": [
    "#dfbase.duplicated().sum()"
   ]
  },
  {
   "cell_type": "code",
   "execution_count": 68,
   "metadata": {},
   "outputs": [],
   "source": [
    "base2 = dfbase.copy()"
   ]
  },
  {
   "cell_type": "code",
   "execution_count": 69,
   "metadata": {
    "scrolled": true
   },
   "outputs": [
    {
     "name": "stdout",
     "output_type": "stream",
     "text": [
      "<class 'pandas.core.frame.DataFrame'>\n",
      "Int64Index: 2659 entries, 0 to 2658\n",
      "Data columns (total 11 columns):\n",
      "Movie_Title             2659 non-null object\n",
      "Distributor             2659 non-null object\n",
      "Domestic_Total_Gross    2659 non-null int64\n",
      "Budget                  2115 non-null float64\n",
      "Runtime(mins)           2584 non-null float64\n",
      "Rating                  2530 non-null object\n",
      "Release_Date            2659 non-null datetime64[ns]\n",
      "Genre                   2659 non-null object\n",
      "strpdate                2659 non-null datetime64[ns]\n",
      "year                    2659 non-null int64\n",
      "Year                    2659 non-null int64\n",
      "dtypes: datetime64[ns](2), float64(2), int64(3), object(4)\n",
      "memory usage: 249.3+ KB\n"
     ]
    }
   ],
   "source": [
    "base2.info()"
   ]
  },
  {
   "cell_type": "code",
   "execution_count": 70,
   "metadata": {},
   "outputs": [],
   "source": [
    "base2['CPMin'] = base2['Budget']/base2['Runtime(mins)']\n",
    "base2['Month'] = pd.DatetimeIndex(base2['strpdate']).month"
   ]
  },
  {
   "cell_type": "code",
   "execution_count": 71,
   "metadata": {},
   "outputs": [],
   "source": [
    "base2['Month'] = pd.DatetimeIndex(base2['strpdate']).month"
   ]
  },
  {
   "cell_type": "code",
   "execution_count": 72,
   "metadata": {},
   "outputs": [],
   "source": [
    "def Winter(item):\n",
    "    if 0 < item < 4:\n",
    "        return 1\n",
    "    else:\n",
    "        return 0\n",
    "    \n",
    "def Spring(item):\n",
    "    if 3 < item < 7:\n",
    "        return 1\n",
    "    else:\n",
    "        return 0    \n",
    "    \n",
    "def Summer(item):\n",
    "    if 6 < item < 10:\n",
    "        return 1\n",
    "    else:\n",
    "        return 0    "
   ]
  },
  {
   "cell_type": "code",
   "execution_count": 73,
   "metadata": {},
   "outputs": [],
   "source": [
    "base2['Winter'] = base2['Month'].apply(Winter)\n",
    "base2['Spring'] = base2['Month'].apply(Spring)\n",
    "base2['Summer'] = base2['Month'].apply(Summer)"
   ]
  },
  {
   "cell_type": "code",
   "execution_count": 83,
   "metadata": {},
   "outputs": [],
   "source": [
    "base2['Age'] = 2020 - base2['Year']"
   ]
  },
  {
   "cell_type": "code",
   "execution_count": 84,
   "metadata": {},
   "outputs": [
    {
     "name": "stdout",
     "output_type": "stream",
     "text": [
      "<class 'pandas.core.frame.DataFrame'>\n",
      "Int64Index: 2659 entries, 0 to 2658\n",
      "Data columns (total 17 columns):\n",
      "Movie_Title             2659 non-null object\n",
      "Distributor             2659 non-null object\n",
      "Domestic_Total_Gross    2659 non-null int64\n",
      "Budget                  2115 non-null float64\n",
      "Runtime(mins)           2584 non-null float64\n",
      "Rating                  2530 non-null object\n",
      "Release_Date            2659 non-null datetime64[ns]\n",
      "Genre                   2659 non-null object\n",
      "strpdate                2659 non-null datetime64[ns]\n",
      "year                    2659 non-null int64\n",
      "Year                    2659 non-null int64\n",
      "CPMin                   2082 non-null float64\n",
      "Month                   2659 non-null int64\n",
      "Winter                  2659 non-null int64\n",
      "Spring                  2659 non-null int64\n",
      "Summer                  2659 non-null int64\n",
      "Age                     2659 non-null int64\n",
      "dtypes: datetime64[ns](2), float64(3), int64(8), object(4)\n",
      "memory usage: 373.9+ KB\n"
     ]
    }
   ],
   "source": [
    "base2.info()"
   ]
  },
  {
   "cell_type": "code",
   "execution_count": 85,
   "metadata": {},
   "outputs": [],
   "source": [
    "base3 = base2.dropna()"
   ]
  },
  {
   "cell_type": "code",
   "execution_count": 86,
   "metadata": {},
   "outputs": [
    {
     "name": "stdout",
     "output_type": "stream",
     "text": [
      "<class 'pandas.core.frame.DataFrame'>\n",
      "Int64Index: 2032 entries, 0 to 2656\n",
      "Data columns (total 17 columns):\n",
      "Movie_Title             2032 non-null object\n",
      "Distributor             2032 non-null object\n",
      "Domestic_Total_Gross    2032 non-null int64\n",
      "Budget                  2032 non-null float64\n",
      "Runtime(mins)           2032 non-null float64\n",
      "Rating                  2032 non-null object\n",
      "Release_Date            2032 non-null datetime64[ns]\n",
      "Genre                   2032 non-null object\n",
      "strpdate                2032 non-null datetime64[ns]\n",
      "year                    2032 non-null int64\n",
      "Year                    2032 non-null int64\n",
      "CPMin                   2032 non-null float64\n",
      "Month                   2032 non-null int64\n",
      "Winter                  2032 non-null int64\n",
      "Spring                  2032 non-null int64\n",
      "Summer                  2032 non-null int64\n",
      "Age                     2032 non-null int64\n",
      "dtypes: datetime64[ns](2), float64(3), int64(8), object(4)\n",
      "memory usage: 285.8+ KB\n"
     ]
    }
   ],
   "source": [
    "base3.info()"
   ]
  },
  {
   "cell_type": "code",
   "execution_count": 154,
   "metadata": {},
   "outputs": [
    {
     "data": {
      "text/plain": [
       "0.4512214283015329"
      ]
     },
     "execution_count": 154,
     "metadata": {},
     "output_type": "execute_result"
    }
   ],
   "source": [
    "lr = LinearRegression()\n",
    "lr.fit(base3[['Budget','Runtime(mins)','Age']],base3['Domestic_Total_Gross'])\n",
    "lr.score(base3[['Budget','Runtime(mins)','Age']],base3['Domestic_Total_Gross'])"
   ]
  },
  {
   "cell_type": "code",
   "execution_count": 82,
   "metadata": {},
   "outputs": [
    {
     "data": {
      "text/plain": [
       "array([ 2.24498742e+00, -2.62861684e+05, -1.27925747e+02])"
      ]
     },
     "execution_count": 82,
     "metadata": {},
     "output_type": "execute_result"
    }
   ],
   "source": [
    "lr.coef_"
   ]
  },
  {
   "cell_type": "code",
   "execution_count": 91,
   "metadata": {},
   "outputs": [
    {
     "data": {
      "text/plain": [
       "0.4628716946329306"
      ]
     },
     "execution_count": 91,
     "metadata": {},
     "output_type": "execute_result"
    }
   ],
   "source": [
    "lr = LinearRegression()\n",
    "lr.fit(base3[['Budget','Runtime(mins)','CPMin','Age','Month','Winter','Spring','Summer']],base3['Domestic_Total_Gross'])\n",
    "lr.score(base3[['Budget','Runtime(mins)','CPMin','Age','Month','Winter','Spring','Summer']],base3['Domestic_Total_Gross'])"
   ]
  },
  {
   "cell_type": "code",
   "execution_count": 92,
   "metadata": {},
   "outputs": [
    {
     "data": {
      "text/plain": [
       "array([ 2.22338628e+00, -2.89870482e+05, -1.28795508e+02, -9.85219387e+05,\n",
       "        2.77072787e+06,  1.50413234e+07,  1.57425136e+07,  2.93439294e+06])"
      ]
     },
     "execution_count": 92,
     "metadata": {},
     "output_type": "execute_result"
    }
   ],
   "source": [
    "lr.coef_"
   ]
  },
  {
   "cell_type": "code",
   "execution_count": 95,
   "metadata": {},
   "outputs": [],
   "source": [
    "FeaturesBase = base3[['Budget','Runtime(mins)','CPMin','Age','Month','Winter','Spring','Summer']]"
   ]
  },
  {
   "cell_type": "code",
   "execution_count": 96,
   "metadata": {},
   "outputs": [
    {
     "data": {
      "text/plain": [
       "0.20866243883994473"
      ]
     },
     "execution_count": 96,
     "metadata": {},
     "output_type": "execute_result"
    }
   ],
   "source": [
    "lr = LinearRegression()\n",
    "p = PolynomialFeatures(degree=2)\n",
    "lr.fit(p.fit_transform(FeaturesBase),base3['Domestic_Total_Gross'])\n",
    "lr.score(p.transform(FeaturesBase),base3['Domestic_Total_Gross'])"
   ]
  },
  {
   "cell_type": "code",
   "execution_count": 100,
   "metadata": {},
   "outputs": [],
   "source": [
    "#p.get_feature_names()"
   ]
  },
  {
   "cell_type": "code",
   "execution_count": 98,
   "metadata": {},
   "outputs": [
    {
     "data": {
      "text/plain": [
       "array([-5.62503154e+05, -3.23491252e+03,  1.19575954e+04, -1.29395697e+03,\n",
       "        9.71868538e+02, -7.25201021e+03, -1.50645541e+03, -8.58053464e+03,\n",
       "        1.15435077e+04,  1.04183697e-07, -1.27547770e-01, -2.36164682e-05,\n",
       "        4.33935755e-02,  3.18932659e-01,  8.39085939e+00, -1.55592477e+00,\n",
       "       -5.99643224e+00,  4.16560709e+03,  3.26265175e+03, -5.60099760e+03,\n",
       "       -4.96711778e+03, -7.76228180e+04, -1.31936280e+05, -8.24040058e+04,\n",
       "        1.33813136e-03, -5.84355060e+00, -4.52461822e+01, -1.03485720e+03,\n",
       "        1.40523917e+02,  6.63455155e+02, -7.22588968e+02,  5.18610667e+04,\n",
       "       -7.65419897e+04,  8.48017166e+04, -2.77245800e+04, -1.32064895e+05,\n",
       "       -2.55712352e+03, -5.82222969e+03, -1.20873985e+04, -3.30026094e+02,\n",
       "        0.00000000e+00,  0.00000000e+00, -8.13258454e+02,  0.00000000e+00,\n",
       "       -9.55324521e+02])"
      ]
     },
     "execution_count": 98,
     "metadata": {},
     "output_type": "execute_result"
    }
   ],
   "source": [
    "lr.coef_"
   ]
  },
  {
   "cell_type": "code",
   "execution_count": 153,
   "metadata": {},
   "outputs": [],
   "source": [
    "#FeaturesBase"
   ]
  },
  {
   "cell_type": "code",
   "execution_count": 151,
   "metadata": {
    "scrolled": true
   },
   "outputs": [
    {
     "data": {
      "text/plain": [
       "<seaborn.axisgrid.PairGrid at 0x21439220648>"
      ]
     },
     "execution_count": 151,
     "metadata": {},
     "output_type": "execute_result"
    },
    {
     "data": {
      "image/png": "[encoded data removed]",
      "text/plain": [
       "<Figure size 1440x1440 with 72 Axes>"
      ]
     },
     "metadata": {
      "needs_background": "light"
     },
     "output_type": "display_data"
    }
   ],
   "source": [
    "sns.pairplot(FeaturesBase)"
   ]
  },
  {
   "cell_type": "code",
   "execution_count": null,
   "metadata": {},
   "outputs": [],
   "source": []
  },
  {
   "cell_type": "code",
   "execution_count": null,
   "metadata": {},
   "outputs": [],
   "source": []
  },
  {
   "cell_type": "code",
   "execution_count": 38,
   "metadata": {},
   "outputs": [
    {
     "data": {
      "text/plain": [
       "23"
      ]
     },
     "execution_count": 38,
     "metadata": {},
     "output_type": "execute_result"
    }
   ],
   "source": [
    "Glist = list(base2['Genre'].str.split(' ', expand=True).stack().unique())\n",
    "Glist2 = []\n",
    "for item in Glist:\n",
    "    Glist2.append(item.strip(','))\n",
    "Glistset = list(set(Glist2))\n",
    "Glistset.sort()\n",
    "len(Glistset)"
   ]
  },
  {
   "cell_type": "code",
   "execution_count": 41,
   "metadata": {},
   "outputs": [],
   "source": [
    "funclist = [Action, Adventure, Animation, Biography, Comedy, \n",
    "            Crime, Documentary, Drama, Family, Fantasy, History,\n",
    "            Horror, Music, Musical, Mystery, News, Romance, \n",
    "            SciFi, Short, Sport, Thriller, War, Western]"
   ]
  },
  {
   "cell_type": "code",
   "execution_count": 103,
   "metadata": {},
   "outputs": [],
   "source": [
    "basecategories = base3.copy()"
   ]
  },
  {
   "cell_type": "code",
   "execution_count": 104,
   "metadata": {},
   "outputs": [
    {
     "name": "stdout",
     "output_type": "stream",
     "text": [
      "<class 'pandas.core.frame.DataFrame'>\n",
      "Int64Index: 2032 entries, 0 to 2656\n",
      "Data columns (total 40 columns):\n",
      "Movie_Title             2032 non-null object\n",
      "Distributor             2032 non-null object\n",
      "Domestic_Total_Gross    2032 non-null int64\n",
      "Budget                  2032 non-null float64\n",
      "Runtime(mins)           2032 non-null float64\n",
      "Rating                  2032 non-null object\n",
      "Release_Date            2032 non-null datetime64[ns]\n",
      "Genre                   2032 non-null object\n",
      "strpdate                2032 non-null datetime64[ns]\n",
      "year                    2032 non-null int64\n",
      "Year                    2032 non-null int64\n",
      "CPMin                   2032 non-null float64\n",
      "Month                   2032 non-null int64\n",
      "Winter                  2032 non-null int64\n",
      "Spring                  2032 non-null int64\n",
      "Summer                  2032 non-null int64\n",
      "Age                     2032 non-null int64\n",
      "Action                  2032 non-null int64\n",
      "Adventure               2032 non-null int64\n",
      "Animation               2032 non-null int64\n",
      "Biography               2032 non-null int64\n",
      "Comedy                  2032 non-null int64\n",
      "Crime                   2032 non-null int64\n",
      "Documentary             2032 non-null int64\n",
      "Drama                   2032 non-null int64\n",
      "Family                  2032 non-null int64\n",
      "Fantasy                 2032 non-null int64\n",
      "History                 2032 non-null int64\n",
      "Horror                  2032 non-null int64\n",
      "Music                   2032 non-null int64\n",
      "Musical                 2032 non-null int64\n",
      "Mystery                 2032 non-null int64\n",
      "News                    2032 non-null int64\n",
      "Romance                 2032 non-null int64\n",
      "Sci-Fi                  2032 non-null int64\n",
      "Short                   2032 non-null int64\n",
      "Sport                   2032 non-null int64\n",
      "Thriller                2032 non-null int64\n",
      "War                     2032 non-null int64\n",
      "Western                 2032 non-null int64\n",
      "dtypes: datetime64[ns](2), float64(3), int64(31), object(4)\n",
      "memory usage: 650.9+ KB\n"
     ]
    }
   ],
   "source": [
    "#Creates all Genre Columns\n",
    "for i in range(len(Glistset)):\n",
    "        basecategories[Glistset[i]] = basecategories['Genre'].apply(funclist[i])\n",
    "basecategories.info()"
   ]
  },
  {
   "cell_type": "code",
   "execution_count": 105,
   "metadata": {},
   "outputs": [],
   "source": [
    "#Creasted all Dummies for Dist.\n",
    "dist = pd.get_dummies(basecategories['Distributor'], drop_first=True)\n",
    "basecategories1 = pd.concat([basecategories,dist],sort=False,join='outer',axis = 1)"
   ]
  },
  {
   "cell_type": "code",
   "execution_count": 152,
   "metadata": {},
   "outputs": [],
   "source": [
    "#dist.info()"
   ]
  },
  {
   "cell_type": "code",
   "execution_count": 106,
   "metadata": {},
   "outputs": [],
   "source": [
    "#Creasted all Dummies for Rating.\n",
    "rate = pd.get_dummies(basecategories1['Rating'], drop_first=True)\n",
    "basecategories2 = pd.concat([basecategories1,rate],sort=False,join='outer',axis = 1)"
   ]
  },
  {
   "cell_type": "code",
   "execution_count": 108,
   "metadata": {},
   "outputs": [
    {
     "name": "stdout",
     "output_type": "stream",
     "text": [
      "<class 'pandas.core.frame.DataFrame'>\n",
      "Int64Index: 2032 entries, 0 to 2656\n",
      "Columns: 105 entries, Movie_Title to R\n",
      "dtypes: datetime64[ns](2), float64(3), int64(31), object(4), uint8(65)\n",
      "memory usage: 779.9+ KB\n"
     ]
    }
   ],
   "source": [
    "basecategories2.info()"
   ]
  },
  {
   "cell_type": "code",
   "execution_count": 119,
   "metadata": {},
   "outputs": [
    {
     "name": "stdout",
     "output_type": "stream",
     "text": [
      "<class 'pandas.core.frame.DataFrame'>\n",
      "Int64Index: 2032 entries, 0 to 2656\n",
      "Columns: 105 entries, Movie_Title to R\n",
      "dtypes: datetime64[ns](2), float64(3), int64(31), object(4), uint8(65)\n",
      "memory usage: 859.9+ KB\n"
     ]
    }
   ],
   "source": [
    "basecategories2.info()"
   ]
  },
  {
   "cell_type": "code",
   "execution_count": 129,
   "metadata": {},
   "outputs": [],
   "source": [
    "numerics = ['int16', 'int32', 'int64', 'float16', 'float32', 'float64','uint8']\n",
    "Everything = basecategories2.select_dtypes(include=numerics).drop('Domestic_Total_Gross',axis = 1)"
   ]
  },
  {
   "cell_type": "code",
   "execution_count": 130,
   "metadata": {
    "scrolled": true
   },
   "outputs": [
    {
     "name": "stdout",
     "output_type": "stream",
     "text": [
      "<class 'pandas.core.frame.DataFrame'>\n",
      "Int64Index: 2032 entries, 0 to 2656\n",
      "Data columns (total 98 columns):\n",
      "Budget                                   2032 non-null float64\n",
      "Runtime(mins)                            2032 non-null float64\n",
      "year                                     2032 non-null int64\n",
      "Year                                     2032 non-null int64\n",
      "CPMin                                    2032 non-null float64\n",
      "Month                                    2032 non-null int64\n",
      "Winter                                   2032 non-null int64\n",
      "Spring                                   2032 non-null int64\n",
      "Summer                                   2032 non-null int64\n",
      "Age                                      2032 non-null int64\n",
      "Action                                   2032 non-null int64\n",
      "Adventure                                2032 non-null int64\n",
      "Animation                                2032 non-null int64\n",
      "Biography                                2032 non-null int64\n",
      "Comedy                                   2032 non-null int64\n",
      "Crime                                    2032 non-null int64\n",
      "Documentary                              2032 non-null int64\n",
      "Drama                                    2032 non-null int64\n",
      "Family                                   2032 non-null int64\n",
      "Fantasy                                  2032 non-null int64\n",
      "History                                  2032 non-null int64\n",
      "Horror                                   2032 non-null int64\n",
      "Music                                    2032 non-null int64\n",
      "Musical                                  2032 non-null int64\n",
      "Mystery                                  2032 non-null int64\n",
      "News                                     2032 non-null int64\n",
      "Romance                                  2032 non-null int64\n",
      "Sci-Fi                                   2032 non-null int64\n",
      "Short                                    2032 non-null int64\n",
      "Sport                                    2032 non-null int64\n",
      "Thriller                                 2032 non-null int64\n",
      "War                                      2032 non-null int64\n",
      "Western                                  2032 non-null int64\n",
      "A24                                      2032 non-null uint8\n",
      "Affirm Films                             2032 non-null uint8\n",
      "Anchor Bay Films                         2032 non-null uint8\n",
      "Annapurna Pictures                       2032 non-null uint8\n",
      "Apparition                               2032 non-null uint8\n",
      "Artisan Entertainment                    2032 non-null uint8\n",
      "Aviron Pictures                          2032 non-null uint8\n",
      "BH Tilt                                  2032 non-null uint8\n",
      "Bleecker Street Media                    2032 non-null uint8\n",
      "Broad Green Pictures                     2032 non-null uint8\n",
      "CBS Films                                2032 non-null uint8\n",
      "Destination Films                        2032 non-null uint8\n",
      "Dimension Films                          2032 non-null uint8\n",
      "DreamWorks                               2032 non-null uint8\n",
      "DreamWorks Distribution                  2032 non-null uint8\n",
      "Entertainment Studios Motion Pictures    2032 non-null uint8\n",
      "EuropaCorp                               2032 non-null uint8\n",
      "FilmDistrict                             2032 non-null uint8\n",
      "Focus Features                           2032 non-null uint8\n",
      "Fox Atomic                               2032 non-null uint8\n",
      "Fox Searchlight Pictures                 2032 non-null uint8\n",
      "Freestyle Releasing                      2032 non-null uint8\n",
      "IDP Distribution                         2032 non-null uint8\n",
      "Lionsgate                                2032 non-null uint8\n",
      "Metro-Goldwyn-Mayer (MGM)                2032 non-null uint8\n",
      "Miramax                                  2032 non-null uint8\n",
      "Music Box Films                          2032 non-null uint8\n",
      "New Line Cinema                          2032 non-null uint8\n",
      "Newmarket Films                          2032 non-null uint8\n",
      "Open Road Films (II)                     2032 non-null uint8\n",
      "Orion Pictures                           2032 non-null uint8\n",
      "Overture Films                           2032 non-null uint8\n",
      "Pantelion Films                          2032 non-null uint8\n",
      "Paramount Classics                       2032 non-null uint8\n",
      "Paramount Pictures                       2032 non-null uint8\n",
      "Paramount Vantage                        2032 non-null uint8\n",
      "Picturehouse                             2032 non-null uint8\n",
      "Pure Flix Entertainment                  2032 non-null uint8\n",
      "Quaker Media                             2032 non-null uint8\n",
      "R.S. Entertainment                       2032 non-null uint8\n",
      "Relativity Media                         2032 non-null uint8\n",
      "Revolution Studios                       2032 non-null uint8\n",
      "Roadside Attractions                     2032 non-null uint8\n",
      "Rogue Pictures                           2032 non-null uint8\n",
      "STX Entertainment                        2032 non-null uint8\n",
      "Screen Gems                              2032 non-null uint8\n",
      "Sony Pictures Classics                   2032 non-null uint8\n",
      "Sony Pictures Releasing                  2032 non-null uint8\n",
      "Studio 8                                 2032 non-null uint8\n",
      "Summit Entertainment                     2032 non-null uint8\n",
      "The Samuel Goldwyn Company               2032 non-null uint8\n",
      "The Weinstein Company                    2032 non-null uint8\n",
      "TriStar Pictures                         2032 non-null uint8\n",
      "Twentieth Century Fox                    2032 non-null uint8\n",
      "USA Films                                2032 non-null uint8\n",
      "United Artists                           2032 non-null uint8\n",
      "United Artists Releasing                 2032 non-null uint8\n",
      "Universal Pictures                       2032 non-null uint8\n",
      "Walt Disney Studios Motion Pictures      2032 non-null uint8\n",
      "Warner Bros.                             2032 non-null uint8\n",
      "Warner Independent Pictures (WIP)        2032 non-null uint8\n",
      "NC-17                                    2032 non-null uint8\n",
      "PG                                       2032 non-null uint8\n",
      "PG-13                                    2032 non-null uint8\n",
      "R                                        2032 non-null uint8\n",
      "dtypes: float64(3), int64(30), uint8(65)\n",
      "memory usage: 748.7 KB\n"
     ]
    }
   ],
   "source": [
    "Everything.info()"
   ]
  },
  {
   "cell_type": "code",
   "execution_count": 133,
   "metadata": {},
   "outputs": [
    {
     "data": {
      "text/plain": [
       "0.5318769472475653"
      ]
     },
     "execution_count": 133,
     "metadata": {},
     "output_type": "execute_result"
    }
   ],
   "source": [
    "lr = LinearRegression()\n",
    "p = PolynomialFeatures(degree=2)\n",
    "lr.fit(p.fit_transform(Everything),basecategories2['Domestic_Total_Gross'])\n",
    "lr.score(p.transform(Everything),basecategories2['Domestic_Total_Gross'])"
   ]
  },
  {
   "cell_type": "code",
   "execution_count": 137,
   "metadata": {},
   "outputs": [
    {
     "data": {
      "text/plain": [
       "array([-3.79151913e+05,  4.15067424e+02, -2.18403004e+03, ...,\n",
       "        4.38700029e+01,  0.00000000e+00, -1.02157882e+02])"
      ]
     },
     "execution_count": 137,
     "metadata": {},
     "output_type": "execute_result"
    }
   ],
   "source": [
    "lr.coef_"
   ]
  },
  {
   "cell_type": "code",
   "execution_count": 135,
   "metadata": {},
   "outputs": [
    {
     "data": {
      "text/plain": [
       "['1',\n",
       " 'x0',\n",
       " 'x1',\n",
       " 'x2',\n",
       " 'x3',\n",
       " 'x4',\n",
       " 'x5',\n",
       " 'x6',\n",
       " 'x7',\n",
       " 'x8',\n",
       " 'x9',\n",
       " 'x10',\n",
       " 'x11',\n",
       " 'x12',\n",
       " 'x13',\n",
       " 'x14',\n",
       " 'x15',\n",
       " 'x16',\n",
       " 'x17',\n",
       " 'x18',\n",
       " 'x19',\n",
       " 'x20',\n",
       " 'x21',\n",
       " 'x22',\n",
       " 'x23',\n",
       " 'x24',\n",
       " 'x25',\n",
       " 'x26',\n",
       " 'x27',\n",
       " 'x28',\n",
       " 'x29',\n",
       " 'x30',\n",
       " 'x31',\n",
       " 'x32',\n",
       " 'x33',\n",
       " 'x34',\n",
       " 'x35',\n",
       " 'x36',\n",
       " 'x37',\n",
       " 'x38',\n",
       " 'x39',\n",
       " 'x40',\n",
       " 'x41',\n",
       " 'x42',\n",
       " 'x43',\n",
       " 'x44',\n",
       " 'x45',\n",
       " 'x46',\n",
       " 'x47',\n",
       " 'x48',\n",
       " 'x49',\n",
       " 'x50',\n",
       " 'x51',\n",
       " 'x52',\n",
       " 'x53',\n",
       " 'x54',\n",
       " 'x55',\n",
       " 'x56',\n",
       " 'x57',\n",
       " 'x58',\n",
       " 'x59',\n",
       " 'x60',\n",
       " 'x61',\n",
       " 'x62',\n",
       " 'x63',\n",
       " 'x64',\n",
       " 'x65',\n",
       " 'x66',\n",
       " 'x67',\n",
       " 'x68',\n",
       " 'x69',\n",
       " 'x70',\n",
       " 'x71',\n",
       " 'x72',\n",
       " 'x73',\n",
       " 'x74',\n",
       " 'x75',\n",
       " 'x76',\n",
       " 'x77',\n",
       " 'x78',\n",
       " 'x79',\n",
       " 'x80',\n",
       " 'x81',\n",
       " 'x82',\n",
       " 'x83',\n",
       " 'x84',\n",
       " 'x85',\n",
       " 'x86',\n",
       " 'x87',\n",
       " 'x88',\n",
       " 'x89',\n",
       " 'x90',\n",
       " 'x91',\n",
       " 'x92',\n",
       " 'x93',\n",
       " 'x94',\n",
       " 'x95',\n",
       " 'x96',\n",
       " 'x97',\n",
       " 'x0^2',\n",
       " 'x0 x1',\n",
       " 'x0 x2',\n",
       " 'x0 x3',\n",
       " 'x0 x4',\n",
       " 'x0 x5',\n",
       " 'x0 x6',\n",
       " 'x0 x7',\n",
       " 'x0 x8',\n",
       " 'x0 x9',\n",
       " 'x0 x10',\n",
       " 'x0 x11',\n",
       " 'x0 x12',\n",
       " 'x0 x13',\n",
       " 'x0 x14',\n",
       " 'x0 x15',\n",
       " 'x0 x16',\n",
       " 'x0 x17',\n",
       " 'x0 x18',\n",
       " 'x0 x19',\n",
       " 'x0 x20',\n",
       " 'x0 x21',\n",
       " 'x0 x22',\n",
       " 'x0 x23',\n",
       " 'x0 x24',\n",
       " 'x0 x25',\n",
       " 'x0 x26',\n",
       " 'x0 x27',\n",
       " 'x0 x28',\n",
       " 'x0 x29',\n",
       " 'x0 x30',\n",
       " 'x0 x31',\n",
       " 'x0 x32',\n",
       " 'x0 x33',\n",
       " 'x0 x34',\n",
       " 'x0 x35',\n",
       " 'x0 x36',\n",
       " 'x0 x37',\n",
       " 'x0 x38',\n",
       " 'x0 x39',\n",
       " 'x0 x40',\n",
       " 'x0 x41',\n",
       " 'x0 x42',\n",
       " 'x0 x43',\n",
       " 'x0 x44',\n",
       " 'x0 x45',\n",
       " 'x0 x46',\n",
       " 'x0 x47',\n",
       " 'x0 x48',\n",
       " 'x0 x49',\n",
       " 'x0 x50',\n",
       " 'x0 x51',\n",
       " 'x0 x52',\n",
       " 'x0 x53',\n",
       " 'x0 x54',\n",
       " 'x0 x55',\n",
       " 'x0 x56',\n",
       " 'x0 x57',\n",
       " 'x0 x58',\n",
       " 'x0 x59',\n",
       " 'x0 x60',\n",
       " 'x0 x61',\n",
       " 'x0 x62',\n",
       " 'x0 x63',\n",
       " 'x0 x64',\n",
       " 'x0 x65',\n",
       " 'x0 x66',\n",
       " 'x0 x67',\n",
       " 'x0 x68',\n",
       " 'x0 x69',\n",
       " 'x0 x70',\n",
       " 'x0 x71',\n",
       " 'x0 x72',\n",
       " 'x0 x73',\n",
       " 'x0 x74',\n",
       " 'x0 x75',\n",
       " 'x0 x76',\n",
       " 'x0 x77',\n",
       " 'x0 x78',\n",
       " 'x0 x79',\n",
       " 'x0 x80',\n",
       " 'x0 x81',\n",
       " 'x0 x82',\n",
       " 'x0 x83',\n",
       " 'x0 x84',\n",
       " 'x0 x85',\n",
       " 'x0 x86',\n",
       " 'x0 x87',\n",
       " 'x0 x88',\n",
       " 'x0 x89',\n",
       " 'x0 x90',\n",
       " 'x0 x91',\n",
       " 'x0 x92',\n",
       " 'x0 x93',\n",
       " 'x0 x94',\n",
       " 'x0 x95',\n",
       " 'x0 x96',\n",
       " 'x0 x97',\n",
       " 'x1^2',\n",
       " 'x1 x2',\n",
       " 'x1 x3',\n",
       " 'x1 x4',\n",
       " 'x1 x5',\n",
       " 'x1 x6',\n",
       " 'x1 x7',\n",
       " 'x1 x8',\n",
       " 'x1 x9',\n",
       " 'x1 x10',\n",
       " 'x1 x11',\n",
       " 'x1 x12',\n",
       " 'x1 x13',\n",
       " 'x1 x14',\n",
       " 'x1 x15',\n",
       " 'x1 x16',\n",
       " 'x1 x17',\n",
       " 'x1 x18',\n",
       " 'x1 x19',\n",
       " 'x1 x20',\n",
       " 'x1 x21',\n",
       " 'x1 x22',\n",
       " 'x1 x23',\n",
       " 'x1 x24',\n",
       " 'x1 x25',\n",
       " 'x1 x26',\n",
       " 'x1 x27',\n",
       " 'x1 x28',\n",
       " 'x1 x29',\n",
       " 'x1 x30',\n",
       " 'x1 x31',\n",
       " 'x1 x32',\n",
       " 'x1 x33',\n",
       " 'x1 x34',\n",
       " 'x1 x35',\n",
       " 'x1 x36',\n",
       " 'x1 x37',\n",
       " 'x1 x38',\n",
       " 'x1 x39',\n",
       " 'x1 x40',\n",
       " 'x1 x41',\n",
       " 'x1 x42',\n",
       " 'x1 x43',\n",
       " 'x1 x44',\n",
       " 'x1 x45',\n",
       " 'x1 x46',\n",
       " 'x1 x47',\n",
       " 'x1 x48',\n",
       " 'x1 x49',\n",
       " 'x1 x50',\n",
       " 'x1 x51',\n",
       " 'x1 x52',\n",
       " 'x1 x53',\n",
       " 'x1 x54',\n",
       " 'x1 x55',\n",
       " 'x1 x56',\n",
       " 'x1 x57',\n",
       " 'x1 x58',\n",
       " 'x1 x59',\n",
       " 'x1 x60',\n",
       " 'x1 x61',\n",
       " 'x1 x62',\n",
       " 'x1 x63',\n",
       " 'x1 x64',\n",
       " 'x1 x65',\n",
       " 'x1 x66',\n",
       " 'x1 x67',\n",
       " 'x1 x68',\n",
       " 'x1 x69',\n",
       " 'x1 x70',\n",
       " 'x1 x71',\n",
       " 'x1 x72',\n",
       " 'x1 x73',\n",
       " 'x1 x74',\n",
       " 'x1 x75',\n",
       " 'x1 x76',\n",
       " 'x1 x77',\n",
       " 'x1 x78',\n",
       " 'x1 x79',\n",
       " 'x1 x80',\n",
       " 'x1 x81',\n",
       " 'x1 x82',\n",
       " 'x1 x83',\n",
       " 'x1 x84',\n",
       " 'x1 x85',\n",
       " 'x1 x86',\n",
       " 'x1 x87',\n",
       " 'x1 x88',\n",
       " 'x1 x89',\n",
       " 'x1 x90',\n",
       " 'x1 x91',\n",
       " 'x1 x92',\n",
       " 'x1 x93',\n",
       " 'x1 x94',\n",
       " 'x1 x95',\n",
       " 'x1 x96',\n",
       " 'x1 x97',\n",
       " 'x2^2',\n",
       " 'x2 x3',\n",
       " 'x2 x4',\n",
       " 'x2 x5',\n",
       " 'x2 x6',\n",
       " 'x2 x7',\n",
       " 'x2 x8',\n",
       " 'x2 x9',\n",
       " 'x2 x10',\n",
       " 'x2 x11',\n",
       " 'x2 x12',\n",
       " 'x2 x13',\n",
       " 'x2 x14',\n",
       " 'x2 x15',\n",
       " 'x2 x16',\n",
       " 'x2 x17',\n",
       " 'x2 x18',\n",
       " 'x2 x19',\n",
       " 'x2 x20',\n",
       " 'x2 x21',\n",
       " 'x2 x22',\n",
       " 'x2 x23',\n",
       " 'x2 x24',\n",
       " 'x2 x25',\n",
       " 'x2 x26',\n",
       " 'x2 x27',\n",
       " 'x2 x28',\n",
       " 'x2 x29',\n",
       " 'x2 x30',\n",
       " 'x2 x31',\n",
       " 'x2 x32',\n",
       " 'x2 x33',\n",
       " 'x2 x34',\n",
       " 'x2 x35',\n",
       " 'x2 x36',\n",
       " 'x2 x37',\n",
       " 'x2 x38',\n",
       " 'x2 x39',\n",
       " 'x2 x40',\n",
       " 'x2 x41',\n",
       " 'x2 x42',\n",
       " 'x2 x43',\n",
       " 'x2 x44',\n",
       " 'x2 x45',\n",
       " 'x2 x46',\n",
       " 'x2 x47',\n",
       " 'x2 x48',\n",
       " 'x2 x49',\n",
       " 'x2 x50',\n",
       " 'x2 x51',\n",
       " 'x2 x52',\n",
       " 'x2 x53',\n",
       " 'x2 x54',\n",
       " 'x2 x55',\n",
       " 'x2 x56',\n",
       " 'x2 x57',\n",
       " 'x2 x58',\n",
       " 'x2 x59',\n",
       " 'x2 x60',\n",
       " 'x2 x61',\n",
       " 'x2 x62',\n",
       " 'x2 x63',\n",
       " 'x2 x64',\n",
       " 'x2 x65',\n",
       " 'x2 x66',\n",
       " 'x2 x67',\n",
       " 'x2 x68',\n",
       " 'x2 x69',\n",
       " 'x2 x70',\n",
       " 'x2 x71',\n",
       " 'x2 x72',\n",
       " 'x2 x73',\n",
       " 'x2 x74',\n",
       " 'x2 x75',\n",
       " 'x2 x76',\n",
       " 'x2 x77',\n",
       " 'x2 x78',\n",
       " 'x2 x79',\n",
       " 'x2 x80',\n",
       " 'x2 x81',\n",
       " 'x2 x82',\n",
       " 'x2 x83',\n",
       " 'x2 x84',\n",
       " 'x2 x85',\n",
       " 'x2 x86',\n",
       " 'x2 x87',\n",
       " 'x2 x88',\n",
       " 'x2 x89',\n",
       " 'x2 x90',\n",
       " 'x2 x91',\n",
       " 'x2 x92',\n",
       " 'x2 x93',\n",
       " 'x2 x94',\n",
       " 'x2 x95',\n",
       " 'x2 x96',\n",
       " 'x2 x97',\n",
       " 'x3^2',\n",
       " 'x3 x4',\n",
       " 'x3 x5',\n",
       " 'x3 x6',\n",
       " 'x3 x7',\n",
       " 'x3 x8',\n",
       " 'x3 x9',\n",
       " 'x3 x10',\n",
       " 'x3 x11',\n",
       " 'x3 x12',\n",
       " 'x3 x13',\n",
       " 'x3 x14',\n",
       " 'x3 x15',\n",
       " 'x3 x16',\n",
       " 'x3 x17',\n",
       " 'x3 x18',\n",
       " 'x3 x19',\n",
       " 'x3 x20',\n",
       " 'x3 x21',\n",
       " 'x3 x22',\n",
       " 'x3 x23',\n",
       " 'x3 x24',\n",
       " 'x3 x25',\n",
       " 'x3 x26',\n",
       " 'x3 x27',\n",
       " 'x3 x28',\n",
       " 'x3 x29',\n",
       " 'x3 x30',\n",
       " 'x3 x31',\n",
       " 'x3 x32',\n",
       " 'x3 x33',\n",
       " 'x3 x34',\n",
       " 'x3 x35',\n",
       " 'x3 x36',\n",
       " 'x3 x37',\n",
       " 'x3 x38',\n",
       " 'x3 x39',\n",
       " 'x3 x40',\n",
       " 'x3 x41',\n",
       " 'x3 x42',\n",
       " 'x3 x43',\n",
       " 'x3 x44',\n",
       " 'x3 x45',\n",
       " 'x3 x46',\n",
       " 'x3 x47',\n",
       " 'x3 x48',\n",
       " 'x3 x49',\n",
       " 'x3 x50',\n",
       " 'x3 x51',\n",
       " 'x3 x52',\n",
       " 'x3 x53',\n",
       " 'x3 x54',\n",
       " 'x3 x55',\n",
       " 'x3 x56',\n",
       " 'x3 x57',\n",
       " 'x3 x58',\n",
       " 'x3 x59',\n",
       " 'x3 x60',\n",
       " 'x3 x61',\n",
       " 'x3 x62',\n",
       " 'x3 x63',\n",
       " 'x3 x64',\n",
       " 'x3 x65',\n",
       " 'x3 x66',\n",
       " 'x3 x67',\n",
       " 'x3 x68',\n",
       " 'x3 x69',\n",
       " 'x3 x70',\n",
       " 'x3 x71',\n",
       " 'x3 x72',\n",
       " 'x3 x73',\n",
       " 'x3 x74',\n",
       " 'x3 x75',\n",
       " 'x3 x76',\n",
       " 'x3 x77',\n",
       " 'x3 x78',\n",
       " 'x3 x79',\n",
       " 'x3 x80',\n",
       " 'x3 x81',\n",
       " 'x3 x82',\n",
       " 'x3 x83',\n",
       " 'x3 x84',\n",
       " 'x3 x85',\n",
       " 'x3 x86',\n",
       " 'x3 x87',\n",
       " 'x3 x88',\n",
       " 'x3 x89',\n",
       " 'x3 x90',\n",
       " 'x3 x91',\n",
       " 'x3 x92',\n",
       " 'x3 x93',\n",
       " 'x3 x94',\n",
       " 'x3 x95',\n",
       " 'x3 x96',\n",
       " 'x3 x97',\n",
       " 'x4^2',\n",
       " 'x4 x5',\n",
       " 'x4 x6',\n",
       " 'x4 x7',\n",
       " 'x4 x8',\n",
       " 'x4 x9',\n",
       " 'x4 x10',\n",
       " 'x4 x11',\n",
       " 'x4 x12',\n",
       " 'x4 x13',\n",
       " 'x4 x14',\n",
       " 'x4 x15',\n",
       " 'x4 x16',\n",
       " 'x4 x17',\n",
       " 'x4 x18',\n",
       " 'x4 x19',\n",
       " 'x4 x20',\n",
       " 'x4 x21',\n",
       " 'x4 x22',\n",
       " 'x4 x23',\n",
       " 'x4 x24',\n",
       " 'x4 x25',\n",
       " 'x4 x26',\n",
       " 'x4 x27',\n",
       " 'x4 x28',\n",
       " 'x4 x29',\n",
       " 'x4 x30',\n",
       " 'x4 x31',\n",
       " 'x4 x32',\n",
       " 'x4 x33',\n",
       " 'x4 x34',\n",
       " 'x4 x35',\n",
       " 'x4 x36',\n",
       " 'x4 x37',\n",
       " 'x4 x38',\n",
       " 'x4 x39',\n",
       " 'x4 x40',\n",
       " 'x4 x41',\n",
       " 'x4 x42',\n",
       " 'x4 x43',\n",
       " 'x4 x44',\n",
       " 'x4 x45',\n",
       " 'x4 x46',\n",
       " 'x4 x47',\n",
       " 'x4 x48',\n",
       " 'x4 x49',\n",
       " 'x4 x50',\n",
       " 'x4 x51',\n",
       " 'x4 x52',\n",
       " 'x4 x53',\n",
       " 'x4 x54',\n",
       " 'x4 x55',\n",
       " 'x4 x56',\n",
       " 'x4 x57',\n",
       " 'x4 x58',\n",
       " 'x4 x59',\n",
       " 'x4 x60',\n",
       " 'x4 x61',\n",
       " 'x4 x62',\n",
       " 'x4 x63',\n",
       " 'x4 x64',\n",
       " 'x4 x65',\n",
       " 'x4 x66',\n",
       " 'x4 x67',\n",
       " 'x4 x68',\n",
       " 'x4 x69',\n",
       " 'x4 x70',\n",
       " 'x4 x71',\n",
       " 'x4 x72',\n",
       " 'x4 x73',\n",
       " 'x4 x74',\n",
       " 'x4 x75',\n",
       " 'x4 x76',\n",
       " 'x4 x77',\n",
       " 'x4 x78',\n",
       " 'x4 x79',\n",
       " 'x4 x80',\n",
       " 'x4 x81',\n",
       " 'x4 x82',\n",
       " 'x4 x83',\n",
       " 'x4 x84',\n",
       " 'x4 x85',\n",
       " 'x4 x86',\n",
       " 'x4 x87',\n",
       " 'x4 x88',\n",
       " 'x4 x89',\n",
       " 'x4 x90',\n",
       " 'x4 x91',\n",
       " 'x4 x92',\n",
       " 'x4 x93',\n",
       " 'x4 x94',\n",
       " 'x4 x95',\n",
       " 'x4 x96',\n",
       " 'x4 x97',\n",
       " 'x5^2',\n",
       " 'x5 x6',\n",
       " 'x5 x7',\n",
       " 'x5 x8',\n",
       " 'x5 x9',\n",
       " 'x5 x10',\n",
       " 'x5 x11',\n",
       " 'x5 x12',\n",
       " 'x5 x13',\n",
       " 'x5 x14',\n",
       " 'x5 x15',\n",
       " 'x5 x16',\n",
       " 'x5 x17',\n",
       " 'x5 x18',\n",
       " 'x5 x19',\n",
       " 'x5 x20',\n",
       " 'x5 x21',\n",
       " 'x5 x22',\n",
       " 'x5 x23',\n",
       " 'x5 x24',\n",
       " 'x5 x25',\n",
       " 'x5 x26',\n",
       " 'x5 x27',\n",
       " 'x5 x28',\n",
       " 'x5 x29',\n",
       " 'x5 x30',\n",
       " 'x5 x31',\n",
       " 'x5 x32',\n",
       " 'x5 x33',\n",
       " 'x5 x34',\n",
       " 'x5 x35',\n",
       " 'x5 x36',\n",
       " 'x5 x37',\n",
       " 'x5 x38',\n",
       " 'x5 x39',\n",
       " 'x5 x40',\n",
       " 'x5 x41',\n",
       " 'x5 x42',\n",
       " 'x5 x43',\n",
       " 'x5 x44',\n",
       " 'x5 x45',\n",
       " 'x5 x46',\n",
       " 'x5 x47',\n",
       " 'x5 x48',\n",
       " 'x5 x49',\n",
       " 'x5 x50',\n",
       " 'x5 x51',\n",
       " 'x5 x52',\n",
       " 'x5 x53',\n",
       " 'x5 x54',\n",
       " 'x5 x55',\n",
       " 'x5 x56',\n",
       " 'x5 x57',\n",
       " 'x5 x58',\n",
       " 'x5 x59',\n",
       " 'x5 x60',\n",
       " 'x5 x61',\n",
       " 'x5 x62',\n",
       " 'x5 x63',\n",
       " 'x5 x64',\n",
       " 'x5 x65',\n",
       " 'x5 x66',\n",
       " 'x5 x67',\n",
       " 'x5 x68',\n",
       " 'x5 x69',\n",
       " 'x5 x70',\n",
       " 'x5 x71',\n",
       " 'x5 x72',\n",
       " 'x5 x73',\n",
       " 'x5 x74',\n",
       " 'x5 x75',\n",
       " 'x5 x76',\n",
       " 'x5 x77',\n",
       " 'x5 x78',\n",
       " 'x5 x79',\n",
       " 'x5 x80',\n",
       " 'x5 x81',\n",
       " 'x5 x82',\n",
       " 'x5 x83',\n",
       " 'x5 x84',\n",
       " 'x5 x85',\n",
       " 'x5 x86',\n",
       " 'x5 x87',\n",
       " 'x5 x88',\n",
       " 'x5 x89',\n",
       " 'x5 x90',\n",
       " 'x5 x91',\n",
       " 'x5 x92',\n",
       " 'x5 x93',\n",
       " 'x5 x94',\n",
       " 'x5 x95',\n",
       " 'x5 x96',\n",
       " 'x5 x97',\n",
       " 'x6^2',\n",
       " 'x6 x7',\n",
       " 'x6 x8',\n",
       " 'x6 x9',\n",
       " 'x6 x10',\n",
       " 'x6 x11',\n",
       " 'x6 x12',\n",
       " 'x6 x13',\n",
       " 'x6 x14',\n",
       " 'x6 x15',\n",
       " 'x6 x16',\n",
       " 'x6 x17',\n",
       " 'x6 x18',\n",
       " 'x6 x19',\n",
       " 'x6 x20',\n",
       " 'x6 x21',\n",
       " 'x6 x22',\n",
       " 'x6 x23',\n",
       " 'x6 x24',\n",
       " 'x6 x25',\n",
       " 'x6 x26',\n",
       " 'x6 x27',\n",
       " 'x6 x28',\n",
       " 'x6 x29',\n",
       " 'x6 x30',\n",
       " 'x6 x31',\n",
       " 'x6 x32',\n",
       " 'x6 x33',\n",
       " 'x6 x34',\n",
       " 'x6 x35',\n",
       " 'x6 x36',\n",
       " 'x6 x37',\n",
       " 'x6 x38',\n",
       " 'x6 x39',\n",
       " 'x6 x40',\n",
       " 'x6 x41',\n",
       " 'x6 x42',\n",
       " 'x6 x43',\n",
       " 'x6 x44',\n",
       " 'x6 x45',\n",
       " 'x6 x46',\n",
       " 'x6 x47',\n",
       " 'x6 x48',\n",
       " 'x6 x49',\n",
       " 'x6 x50',\n",
       " 'x6 x51',\n",
       " 'x6 x52',\n",
       " 'x6 x53',\n",
       " 'x6 x54',\n",
       " 'x6 x55',\n",
       " 'x6 x56',\n",
       " 'x6 x57',\n",
       " 'x6 x58',\n",
       " 'x6 x59',\n",
       " 'x6 x60',\n",
       " 'x6 x61',\n",
       " 'x6 x62',\n",
       " 'x6 x63',\n",
       " 'x6 x64',\n",
       " 'x6 x65',\n",
       " 'x6 x66',\n",
       " 'x6 x67',\n",
       " 'x6 x68',\n",
       " 'x6 x69',\n",
       " 'x6 x70',\n",
       " 'x6 x71',\n",
       " 'x6 x72',\n",
       " 'x6 x73',\n",
       " 'x6 x74',\n",
       " 'x6 x75',\n",
       " 'x6 x76',\n",
       " 'x6 x77',\n",
       " 'x6 x78',\n",
       " 'x6 x79',\n",
       " 'x6 x80',\n",
       " 'x6 x81',\n",
       " 'x6 x82',\n",
       " 'x6 x83',\n",
       " 'x6 x84',\n",
       " 'x6 x85',\n",
       " 'x6 x86',\n",
       " 'x6 x87',\n",
       " 'x6 x88',\n",
       " 'x6 x89',\n",
       " 'x6 x90',\n",
       " 'x6 x91',\n",
       " 'x6 x92',\n",
       " 'x6 x93',\n",
       " 'x6 x94',\n",
       " 'x6 x95',\n",
       " 'x6 x96',\n",
       " 'x6 x97',\n",
       " 'x7^2',\n",
       " 'x7 x8',\n",
       " 'x7 x9',\n",
       " 'x7 x10',\n",
       " 'x7 x11',\n",
       " 'x7 x12',\n",
       " 'x7 x13',\n",
       " 'x7 x14',\n",
       " 'x7 x15',\n",
       " 'x7 x16',\n",
       " 'x7 x17',\n",
       " 'x7 x18',\n",
       " 'x7 x19',\n",
       " 'x7 x20',\n",
       " 'x7 x21',\n",
       " 'x7 x22',\n",
       " 'x7 x23',\n",
       " 'x7 x24',\n",
       " 'x7 x25',\n",
       " 'x7 x26',\n",
       " 'x7 x27',\n",
       " 'x7 x28',\n",
       " 'x7 x29',\n",
       " 'x7 x30',\n",
       " 'x7 x31',\n",
       " 'x7 x32',\n",
       " 'x7 x33',\n",
       " 'x7 x34',\n",
       " 'x7 x35',\n",
       " 'x7 x36',\n",
       " 'x7 x37',\n",
       " 'x7 x38',\n",
       " 'x7 x39',\n",
       " 'x7 x40',\n",
       " 'x7 x41',\n",
       " 'x7 x42',\n",
       " 'x7 x43',\n",
       " 'x7 x44',\n",
       " 'x7 x45',\n",
       " 'x7 x46',\n",
       " 'x7 x47',\n",
       " 'x7 x48',\n",
       " 'x7 x49',\n",
       " 'x7 x50',\n",
       " 'x7 x51',\n",
       " 'x7 x52',\n",
       " 'x7 x53',\n",
       " 'x7 x54',\n",
       " 'x7 x55',\n",
       " 'x7 x56',\n",
       " 'x7 x57',\n",
       " 'x7 x58',\n",
       " 'x7 x59',\n",
       " 'x7 x60',\n",
       " 'x7 x61',\n",
       " 'x7 x62',\n",
       " 'x7 x63',\n",
       " 'x7 x64',\n",
       " 'x7 x65',\n",
       " 'x7 x66',\n",
       " 'x7 x67',\n",
       " 'x7 x68',\n",
       " 'x7 x69',\n",
       " 'x7 x70',\n",
       " 'x7 x71',\n",
       " 'x7 x72',\n",
       " 'x7 x73',\n",
       " 'x7 x74',\n",
       " 'x7 x75',\n",
       " 'x7 x76',\n",
       " 'x7 x77',\n",
       " 'x7 x78',\n",
       " 'x7 x79',\n",
       " 'x7 x80',\n",
       " 'x7 x81',\n",
       " 'x7 x82',\n",
       " 'x7 x83',\n",
       " 'x7 x84',\n",
       " 'x7 x85',\n",
       " 'x7 x86',\n",
       " 'x7 x87',\n",
       " 'x7 x88',\n",
       " 'x7 x89',\n",
       " 'x7 x90',\n",
       " 'x7 x91',\n",
       " 'x7 x92',\n",
       " 'x7 x93',\n",
       " 'x7 x94',\n",
       " 'x7 x95',\n",
       " 'x7 x96',\n",
       " 'x7 x97',\n",
       " 'x8^2',\n",
       " 'x8 x9',\n",
       " 'x8 x10',\n",
       " 'x8 x11',\n",
       " 'x8 x12',\n",
       " 'x8 x13',\n",
       " 'x8 x14',\n",
       " 'x8 x15',\n",
       " 'x8 x16',\n",
       " 'x8 x17',\n",
       " 'x8 x18',\n",
       " 'x8 x19',\n",
       " 'x8 x20',\n",
       " 'x8 x21',\n",
       " 'x8 x22',\n",
       " 'x8 x23',\n",
       " 'x8 x24',\n",
       " 'x8 x25',\n",
       " 'x8 x26',\n",
       " 'x8 x27',\n",
       " 'x8 x28',\n",
       " 'x8 x29',\n",
       " 'x8 x30',\n",
       " 'x8 x31',\n",
       " 'x8 x32',\n",
       " 'x8 x33',\n",
       " 'x8 x34',\n",
       " 'x8 x35',\n",
       " 'x8 x36',\n",
       " 'x8 x37',\n",
       " 'x8 x38',\n",
       " 'x8 x39',\n",
       " 'x8 x40',\n",
       " 'x8 x41',\n",
       " 'x8 x42',\n",
       " 'x8 x43',\n",
       " 'x8 x44',\n",
       " 'x8 x45',\n",
       " 'x8 x46',\n",
       " 'x8 x47',\n",
       " 'x8 x48',\n",
       " 'x8 x49',\n",
       " 'x8 x50',\n",
       " 'x8 x51',\n",
       " 'x8 x52',\n",
       " 'x8 x53',\n",
       " 'x8 x54',\n",
       " 'x8 x55',\n",
       " 'x8 x56',\n",
       " 'x8 x57',\n",
       " 'x8 x58',\n",
       " 'x8 x59',\n",
       " 'x8 x60',\n",
       " 'x8 x61',\n",
       " 'x8 x62',\n",
       " 'x8 x63',\n",
       " 'x8 x64',\n",
       " 'x8 x65',\n",
       " 'x8 x66',\n",
       " 'x8 x67',\n",
       " 'x8 x68',\n",
       " 'x8 x69',\n",
       " 'x8 x70',\n",
       " 'x8 x71',\n",
       " 'x8 x72',\n",
       " 'x8 x73',\n",
       " 'x8 x74',\n",
       " 'x8 x75',\n",
       " 'x8 x76',\n",
       " 'x8 x77',\n",
       " 'x8 x78',\n",
       " 'x8 x79',\n",
       " 'x8 x80',\n",
       " 'x8 x81',\n",
       " 'x8 x82',\n",
       " 'x8 x83',\n",
       " 'x8 x84',\n",
       " 'x8 x85',\n",
       " 'x8 x86',\n",
       " 'x8 x87',\n",
       " 'x8 x88',\n",
       " 'x8 x89',\n",
       " 'x8 x90',\n",
       " 'x8 x91',\n",
       " 'x8 x92',\n",
       " 'x8 x93',\n",
       " 'x8 x94',\n",
       " 'x8 x95',\n",
       " 'x8 x96',\n",
       " 'x8 x97',\n",
       " 'x9^2',\n",
       " 'x9 x10',\n",
       " 'x9 x11',\n",
       " 'x9 x12',\n",
       " 'x9 x13',\n",
       " 'x9 x14',\n",
       " 'x9 x15',\n",
       " 'x9 x16',\n",
       " 'x9 x17',\n",
       " 'x9 x18',\n",
       " 'x9 x19',\n",
       " 'x9 x20',\n",
       " 'x9 x21',\n",
       " 'x9 x22',\n",
       " 'x9 x23',\n",
       " 'x9 x24',\n",
       " 'x9 x25',\n",
       " 'x9 x26',\n",
       " 'x9 x27',\n",
       " 'x9 x28',\n",
       " 'x9 x29',\n",
       " 'x9 x30',\n",
       " 'x9 x31',\n",
       " 'x9 x32',\n",
       " 'x9 x33',\n",
       " 'x9 x34',\n",
       " 'x9 x35',\n",
       " 'x9 x36',\n",
       " 'x9 x37',\n",
       " 'x9 x38',\n",
       " 'x9 x39',\n",
       " 'x9 x40',\n",
       " 'x9 x41',\n",
       " 'x9 x42',\n",
       " 'x9 x43',\n",
       " 'x9 x44',\n",
       " 'x9 x45',\n",
       " 'x9 x46',\n",
       " 'x9 x47',\n",
       " 'x9 x48',\n",
       " 'x9 x49',\n",
       " 'x9 x50',\n",
       " 'x9 x51',\n",
       " 'x9 x52',\n",
       " 'x9 x53',\n",
       " 'x9 x54',\n",
       " 'x9 x55',\n",
       " 'x9 x56',\n",
       " 'x9 x57',\n",
       " 'x9 x58',\n",
       " 'x9 x59',\n",
       " 'x9 x60',\n",
       " 'x9 x61',\n",
       " 'x9 x62',\n",
       " 'x9 x63',\n",
       " ...]"
      ]
     },
     "execution_count": 135,
     "metadata": {},
     "output_type": "execute_result"
    }
   ],
   "source": [
    "p.get_feature_names()"
   ]
  },
  {
   "cell_type": "code",
   "execution_count": 157,
   "metadata": {},
   "outputs": [
    {
     "data": {
      "text/plain": [
       "0.5239840994662746"
      ]
     },
     "execution_count": 157,
     "metadata": {},
     "output_type": "execute_result"
    }
   ],
   "source": [
    "lr = LinearRegression()\n",
    "lr.fit(Everything, basecategories2['Domestic_Total_Gross'])\n",
    "lr.score(Everything, basecategories2['Domestic_Total_Gross'])"
   ]
  },
  {
   "cell_type": "code",
   "execution_count": 158,
   "metadata": {
    "scrolled": true
   },
   "outputs": [
    {
     "data": {
      "text/plain": [
       "array([ 2.20941772e+00,  2.34820360e+05,  3.80235894e+05,  3.80261047e+05,\n",
       "       -1.54026896e+02,  1.98680725e+06,  1.23076100e+07,  1.20153122e+07,\n",
       "        3.53870024e+06, -3.80260008e+05, -1.37981378e+07,  5.08386765e+06,\n",
       "        3.54032167e+07, -1.17881824e+06,  2.64320197e+06, -1.30277183e+06,\n",
       "        7.03015685e+06, -1.16332716e+07,  6.05584392e+06, -5.08564292e+06,\n",
       "       -3.96874974e+07,  9.75026138e+05,  1.12528292e+07, -4.10242141e+06,\n",
       "       -2.85276221e+06, -9.20146704e-07, -1.29449181e+07,  4.48362190e+06,\n",
       "       -4.39584255e-07, -1.77998927e+07, -7.70318264e+06, -2.16224578e+07,\n",
       "       -4.49687850e+07,  1.26620721e+07,  1.25717761e+07, -1.19822931e+07,\n",
       "       -4.76292503e+07,  4.22919844e+06, -1.79035755e+06, -1.15560840e+07,\n",
       "       -1.92717335e+07, -3.24631784e+07, -2.40595546e+07, -6.67491182e+05,\n",
       "       -1.03699964e+07,  1.86692873e+07,  4.67643530e+07,  2.44718812e+07,\n",
       "       -3.04168285e+07, -2.11074505e+06,  8.07170692e+06,  1.98157062e+05,\n",
       "        5.48832192e+06,  9.74639419e+06,  2.70354508e+07,  4.91223255e+06,\n",
       "        7.20980824e+06,  7.74012153e+06,  1.58005761e+07, -1.50401995e+07,\n",
       "        4.20756412e+07,  8.12772243e+07, -7.47083694e+06, -8.89588780e+06,\n",
       "        8.55311051e+06,  4.04173291e+06,  3.52582918e+06,  7.44239283e+05,\n",
       "       -2.24427748e+07, -1.29393925e+07, -6.20857820e+06,  2.90505972e+07,\n",
       "       -1.93234272e+06,  1.15912987e+06,  1.44052359e+07,  1.10737963e+06,\n",
       "        1.76104485e+07, -6.83002471e+05,  1.65197092e+07, -2.22028984e+07,\n",
       "        1.17820815e+07, -2.87043450e+07,  9.52383677e+07,  4.49063965e+07,\n",
       "        1.85226530e+07,  2.45614181e+07,  1.79183860e+07,  5.50321371e+06,\n",
       "        1.96463078e+07,  4.33703317e+06,  2.40649139e+07,  5.25105173e+07,\n",
       "        1.27950555e+07, -2.92859548e+07,  4.32244940e+07,  1.65104400e+07,\n",
       "        3.57473649e+07,  2.56742267e+07])"
      ]
     },
     "execution_count": 158,
     "metadata": {},
     "output_type": "execute_result"
    }
   ],
   "source": [
    "lr.coef_"
   ]
  },
  {
   "cell_type": "code",
   "execution_count": 166,
   "metadata": {},
   "outputs": [],
   "source": [
    "coefficient_info = pd.DataFrame(zip(Everything.columns, lr.coef_))#.to_csv('Coeffzip.csv')"
   ]
  },
  {
   "cell_type": "code",
   "execution_count": 169,
   "metadata": {},
   "outputs": [
    {
     "data": {
      "text/plain": [
       "0         2.209418\n",
       "1    234820.359784\n",
       "2    380235.893612\n",
       "3    380261.046934\n",
       "4      -154.026896\n",
       "Name: 1, dtype: float64"
      ]
     },
     "execution_count": 169,
     "metadata": {},
     "output_type": "execute_result"
    }
   ],
   "source": [
    "coefficient_info[1].head()"
   ]
  },
  {
   "cell_type": "code",
   "execution_count": 181,
   "metadata": {},
   "outputs": [],
   "source": [
    "coefficient_info['abs'] = abs(coefficient_info[1])"
   ]
  },
  {
   "cell_type": "code",
   "execution_count": 185,
   "metadata": {},
   "outputs": [
    {
     "data": {
      "text/html": [
       "<div>\n",
       "<style scoped>\n",
       "    .dataframe tbody tr th:only-of-type {\n",
       "        vertical-align: middle;\n",
       "    }\n",
       "\n",
       "    .dataframe tbody tr th {\n",
       "        vertical-align: top;\n",
       "    }\n",
       "\n",
       "    .dataframe thead th {\n",
       "        text-align: right;\n",
       "    }\n",
       "</style>\n",
       "<table border=\"1\" class=\"dataframe\">\n",
       "  <thead>\n",
       "    <tr style=\"text-align: right;\">\n",
       "      <th></th>\n",
       "      <th>0</th>\n",
       "      <th>1</th>\n",
       "      <th>abs</th>\n",
       "    </tr>\n",
       "  </thead>\n",
       "  <tbody>\n",
       "    <tr>\n",
       "      <th>28</th>\n",
       "      <td>Short</td>\n",
       "      <td>-4.395843e-07</td>\n",
       "      <td>4.395843e-07</td>\n",
       "    </tr>\n",
       "    <tr>\n",
       "      <th>25</th>\n",
       "      <td>News</td>\n",
       "      <td>-9.201467e-07</td>\n",
       "      <td>9.201467e-07</td>\n",
       "    </tr>\n",
       "    <tr>\n",
       "      <th>0</th>\n",
       "      <td>Budget</td>\n",
       "      <td>2.209418e+00</td>\n",
       "      <td>2.209418e+00</td>\n",
       "    </tr>\n",
       "    <tr>\n",
       "      <th>4</th>\n",
       "      <td>CPMin</td>\n",
       "      <td>-1.540269e+02</td>\n",
       "      <td>1.540269e+02</td>\n",
       "    </tr>\n",
       "    <tr>\n",
       "      <th>51</th>\n",
       "      <td>Focus Features</td>\n",
       "      <td>1.981571e+05</td>\n",
       "      <td>1.981571e+05</td>\n",
       "    </tr>\n",
       "    <tr>\n",
       "      <th>...</th>\n",
       "      <td>...</td>\n",
       "      <td>...</td>\n",
       "      <td>...</td>\n",
       "    </tr>\n",
       "    <tr>\n",
       "      <th>46</th>\n",
       "      <td>DreamWorks</td>\n",
       "      <td>4.676435e+07</td>\n",
       "      <td>4.676435e+07</td>\n",
       "    </tr>\n",
       "    <tr>\n",
       "      <th>36</th>\n",
       "      <td>Annapurna Pictures</td>\n",
       "      <td>-4.762925e+07</td>\n",
       "      <td>4.762925e+07</td>\n",
       "    </tr>\n",
       "    <tr>\n",
       "      <th>91</th>\n",
       "      <td>Walt Disney Studios Motion Pictures</td>\n",
       "      <td>5.251052e+07</td>\n",
       "      <td>5.251052e+07</td>\n",
       "    </tr>\n",
       "    <tr>\n",
       "      <th>61</th>\n",
       "      <td>Newmarket Films</td>\n",
       "      <td>8.127722e+07</td>\n",
       "      <td>8.127722e+07</td>\n",
       "    </tr>\n",
       "    <tr>\n",
       "      <th>82</th>\n",
       "      <td>Summit Entertainment</td>\n",
       "      <td>9.523837e+07</td>\n",
       "      <td>9.523837e+07</td>\n",
       "    </tr>\n",
       "  </tbody>\n",
       "</table>\n",
       "<p>98 rows × 3 columns</p>\n",
       "</div>"
      ],
      "text/plain": [
       "                                      0             1           abs\n",
       "28                                Short -4.395843e-07  4.395843e-07\n",
       "25                                 News -9.201467e-07  9.201467e-07\n",
       "0                                Budget  2.209418e+00  2.209418e+00\n",
       "4                                 CPMin -1.540269e+02  1.540269e+02\n",
       "51                       Focus Features  1.981571e+05  1.981571e+05\n",
       "..                                  ...           ...           ...\n",
       "46                           DreamWorks  4.676435e+07  4.676435e+07\n",
       "36                   Annapurna Pictures -4.762925e+07  4.762925e+07\n",
       "91  Walt Disney Studios Motion Pictures  5.251052e+07  5.251052e+07\n",
       "61                      Newmarket Films  8.127722e+07  8.127722e+07\n",
       "82                 Summit Entertainment  9.523837e+07  9.523837e+07\n",
       "\n",
       "[98 rows x 3 columns]"
      ]
     },
     "execution_count": 185,
     "metadata": {},
     "output_type": "execute_result"
    }
   ],
   "source": [
    "coefficient_info.sort_values('abs')"
   ]
  },
  {
   "cell_type": "code",
   "execution_count": 190,
   "metadata": {},
   "outputs": [],
   "source": [
    "Everything2 = Everything.drop(['News','Short'],axis = 1)"
   ]
  },
  {
   "cell_type": "code",
   "execution_count": 191,
   "metadata": {},
   "outputs": [
    {
     "data": {
      "text/plain": [
       "0.5239840994662746"
      ]
     },
     "execution_count": 191,
     "metadata": {},
     "output_type": "execute_result"
    }
   ],
   "source": [
    "lr = LinearRegression()\n",
    "lr.fit(Everything2, basecategories2['Domestic_Total_Gross'])\n",
    "lr.score(Everything2, basecategories2['Domestic_Total_Gross'])"
   ]
  },
  {
   "cell_type": "code",
   "execution_count": null,
   "metadata": {},
   "outputs": [],
   "source": [
    "0.5239840994662746"
   ]
  },
  {
   "cell_type": "code",
   "execution_count": 150,
   "metadata": {},
   "outputs": [
    {
     "name": "stderr",
     "output_type": "stream",
     "text": [
      "C:\\ProgramData\\Anaconda3\\lib\\site-packages\\sklearn\\linear_model\\_ridge.py:148: LinAlgWarning: Ill-conditioned matrix (rcond=1.22538e-20): result may not be accurate.\n",
      "  overwrite_a=True).T\n"
     ]
    },
    {
     "data": {
      "text/plain": [
       "0.5239738493121546"
      ]
     },
     "execution_count": 150,
     "metadata": {},
     "output_type": "execute_result"
    }
   ],
   "source": [
    "ridge_model = Ridge(alpha = .1)\n",
    "ridge_model.fit(Everything, basecategories2['Domestic_Total_Gross'])\n",
    "ridge_model.score(Everything, basecategories2['Domestic_Total_Gross'])"
   ]
  },
  {
   "cell_type": "code",
   "execution_count": 149,
   "metadata": {},
   "outputs": [
    {
     "name": "stderr",
     "output_type": "stream",
     "text": [
      "C:\\ProgramData\\Anaconda3\\lib\\site-packages\\sklearn\\linear_model\\_coordinate_descent.py:476: ConvergenceWarning: Objective did not converge. You might want to increase the number of iterations. Duality gap: 4.746715454001067e+18, tolerance: 1994435592145142.8\n",
      "  positive)\n"
     ]
    },
    {
     "data": {
      "text/plain": [
       "0.5239840992094448"
      ]
     },
     "execution_count": 149,
     "metadata": {},
     "output_type": "execute_result"
    }
   ],
   "source": [
    "#lr = LinearRegression()\n",
    "#p = PolynomialFeatures(degree=2)\n",
    "#lr.fit(p.fit_transform(Everything),basecategories2['Domestic_Total_Gross'])\n",
    "#lr.score(p.transform(Everything),basecategories2['Domestic_Total_Gross'])\n",
    "\n",
    "lasso_model = Lasso(alpha = .1)\n",
    "lasso_model.fit(Everything, basecategories2['Domestic_Total_Gross'])\n",
    "lasso_model.score(Everything, basecategories2['Domestic_Total_Gross'])"
   ]
  },
  {
   "cell_type": "code",
   "execution_count": 155,
   "metadata": {},
   "outputs": [],
   "source": [
    "#alphavec = 10**np.linspace(-2,2,200)\n",
    "#lasso_model = LassoCV(alphas = alphavec, cv=20)\n",
    "#lasso_model.fit(Everything, basecategories2['Domestic_Total_Gross'])"
   ]
  },
  {
   "cell_type": "code",
   "execution_count": 156,
   "metadata": {},
   "outputs": [],
   "source": [
    "#lasso_model.alpha\n",
    "0.5239840994662746"
   ]
  },
  {
   "cell_type": "code",
   "execution_count": 142,
   "metadata": {},
   "outputs": [
    {
     "data": {
      "text/plain": [
       "array([ 2.20941773e+00,  2.34820415e+05, -5.39276037e+05, -0.00000000e+00,\n",
       "       -1.54026894e+02,  1.98680308e+06,  1.23075706e+07,  1.20152864e+07,\n",
       "        3.53868398e+06, -1.68003270e+06, -1.37981345e+07,  5.08386418e+06,\n",
       "        3.54032146e+07, -1.17882494e+06,  2.64319868e+06, -1.30277068e+06,\n",
       "        7.03014988e+06, -1.16332714e+07,  6.05581730e+06, -5.08563902e+06,\n",
       "       -3.96874887e+07,  9.75023966e+05,  1.12528297e+07, -4.10241900e+06,\n",
       "       -2.85276351e+06,  0.00000000e+00, -1.29449120e+07,  4.48362285e+06,\n",
       "        0.00000000e+00, -1.77998844e+07, -7.70318163e+06, -2.16224638e+07,\n",
       "       -4.49687748e+07,  1.26616172e+07,  1.25713877e+07, -1.19824467e+07,\n",
       "       -4.76293939e+07,  4.22885658e+06, -1.79058516e+06, -1.15562761e+07,\n",
       "       -1.92719334e+07, -3.24632259e+07, -2.40597583e+07, -6.67728414e+05,\n",
       "       -1.03701534e+07,  1.86690132e+07,  4.67640872e+07,  2.44716125e+07,\n",
       "       -3.04170087e+07, -2.11079851e+06,  8.07142611e+06,  1.97889856e+05,\n",
       "        5.48786553e+06,  9.74612219e+06,  2.70350740e+07,  4.91175090e+06,\n",
       "        7.20954662e+06,  7.73985162e+06,  1.58003074e+07, -1.50402513e+07,\n",
       "        4.20753737e+07,  8.12769204e+07, -7.47108343e+06, -8.89593834e+06,\n",
       "        8.55280940e+06,  4.04127189e+06,  3.52546210e+06,  7.43977793e+05,\n",
       "       -2.24428326e+07, -1.29394371e+07, -6.20861936e+06,  2.90500425e+07,\n",
       "       -1.93239489e+06,  1.15886052e+06,  1.44049658e+07,  1.10707384e+06,\n",
       "        1.76101356e+07, -6.83251873e+05,  1.65194456e+07, -2.22031124e+07,\n",
       "        1.17818200e+07, -2.87044790e+07,  9.52380868e+07,  4.49059024e+07,\n",
       "        1.85223769e+07,  2.45611455e+07,  1.79181223e+07,  5.50285354e+06,\n",
       "        1.96460155e+07,  4.33667657e+06,  2.40646525e+07,  5.25102477e+07,\n",
       "        1.27947940e+07, -2.92860132e+07,  4.32241624e+07,  1.65103898e+07,\n",
       "        3.57472844e+07,  2.56741471e+07])"
      ]
     },
     "execution_count": 142,
     "metadata": {},
     "output_type": "execute_result"
    }
   ],
   "source": [
    "lasso_model.coef_"
   ]
  },
  {
   "cell_type": "code",
   "execution_count": null,
   "metadata": {},
   "outputs": [],
   "source": []
  }
 ],
 "metadata": {
  "kernelspec": {
   "display_name": "Python 3",
   "language": "python",
   "name": "python3"
  },
  "language_info": {
   "codemirror_mode": {
    "name": "ipython",
    "version": 3
   },
   "file_extension": ".py",
   "mimetype": "text/x-python",
   "name": "python",
   "nbconvert_exporter": "python",
   "pygments_lexer": "ipython3",
   "version": "3.7.6"
  }
 },
 "nbformat": 4,
 "nbformat_minor": 2
}
