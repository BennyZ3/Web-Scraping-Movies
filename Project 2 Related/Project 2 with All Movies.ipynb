{
 "cells": [
  {
   "cell_type": "code",
   "execution_count": 242,
   "metadata": {},
   "outputs": [],
   "source": [
    "import pandas as pd\n",
    "import numpy as np\n",
    "import matplotlib.pyplot as plt\n",
    "import seaborn as sns\n",
    "from bs4 import BeautifulSoup\n",
    "import requests\n",
    "from IPython.core.display import display, HTML\n",
    "import re\n",
    "import dateutil.parser\n",
    "from datetime import datetime as dt\n",
    "from sklearn.linear_model import LinearRegression\n",
    "from sklearn.model_selection import train_test_split"
   ]
  },
  {
   "cell_type": "code",
   "execution_count": 3,
   "metadata": {},
   "outputs": [],
   "source": [
    "def get_movie_value(soup, field_name):\n",
    "    obj = soup.find(text=re.compile(field_name))\n",
    "    if not obj: \n",
    "        return None\n",
    "    # this works for most of the values\n",
    "    next_element = obj.findNext()\n",
    "    if next_element:\n",
    "        return next_element.text \n",
    "    else:\n",
    "        return None"
   ]
  },
  {
   "cell_type": "code",
   "execution_count": 4,
   "metadata": {},
   "outputs": [],
   "source": [
    "def money_to_int(moneystring):\n",
    "    try:\n",
    "        moneystring = moneystring.replace('$', '').replace(',', '')\n",
    "        return int(moneystring)\n",
    "    except :\n",
    "        pass\n",
    "    \n",
    "def runtime_to_minutes(runtimestring):\n",
    "    runtime = runtimestring.split()\n",
    "    try:\n",
    "        minutes = int(runtime[0])*60 + int(runtime[2])\n",
    "        return minutes\n",
    "    except:\n",
    "        return None\n",
    "\n",
    "def to_date(datestring):\n",
    "    date = dateutil.parser.parse(datestring)\n",
    "    return date"
   ]
  },
  {
   "cell_type": "code",
   "execution_count": 5,
   "metadata": {},
   "outputs": [],
   "source": [
    "def movie_info(url):\n",
    "    response = requests.get(url)\n",
    "    page = response.text\n",
    "    soup = BeautifulSoup(page, \"lxml\")\n",
    "\n",
    "    title_string = soup.find('title').text\n",
    "    title_string.split('-')\n",
    "    title = title_string.split('-')[0].strip()\n",
    "    \n",
    "    dtg = soup.find(class_='mojo-performance-summary-table').find_all('span', class_='money')[0].text\n",
    "    \n",
    "    runtime = get_movie_value(soup,'Run')\n",
    "    \n",
    "    rating = get_movie_value(soup,'MPAA')\n",
    "    \n",
    "    release_date = get_movie_value(soup,'Release Date')\n",
    "    release_date = release_date.split('\\n')[0]\n",
    "    \n",
    "    distributor = get_movie_value(soup,'Distributor')\n",
    "    distributor = distributor[:-30]\n",
    "    \n",
    "    budget = get_movie_value(soup,'Budget')\n",
    "    budget = money_to_int(budget)\n",
    "    \n",
    "    raw_domestic_total_gross = dtg\n",
    "    domestic_total_gross = money_to_int(raw_domestic_total_gross)\n",
    "\n",
    "    raw_runtime = get_movie_value(soup,'Running')\n",
    "    runtime = runtime_to_minutes(raw_runtime)\n",
    "\n",
    "    raw_release_date = get_movie_value(soup,'Release Date').split('\\n')[0]\n",
    "    release_date = to_date(raw_release_date)\n",
    "    \n",
    "    \n",
    "    \n",
    "    genre = get_movie_value(soup,'Genres')\n",
    "    res = [] \n",
    "    for sub in genre: \n",
    "        res.append(re.sub('\\n', '', sub)) \n",
    "    res = ''.join(res)\n",
    "    res = re.sub(' +', ', ', res)\n",
    "    \n",
    "    \n",
    "    headers = ['Movie_Title','Distributor','Domestic_Total_Gross','Budget',\n",
    "               'Runtime(mins)', 'Rating', 'Release_Date','Genre']\n",
    "\n",
    "    movie_data = []\n",
    "    movie_dict = dict(zip(headers, [title,\n",
    "                                    distributor,\n",
    "                                    domestic_total_gross,\n",
    "                                    budget,\n",
    "                                    runtime,\n",
    "                                    rating, \n",
    "                                    release_date,\n",
    "                                    res]))\n",
    "\n",
    "    movie_data.append(movie_dict)\n",
    "    return movie_data"
   ]
  },
  {
   "cell_type": "code",
   "execution_count": 138,
   "metadata": {},
   "outputs": [],
   "source": [
    "def get_urls(years):\n",
    "    '''Takes a 4 digit year input, or a list of them'''\n",
    "    url = \"https://www.boxofficemojo.com/year/{}/?sort=gross&grossesOption=calendarGrosses\"\n",
    "    dfs = []\n",
    "    for year in years:\n",
    "        file_url = url.format(year)\n",
    "        response = requests.get(file_url)\n",
    "        page = response.text\n",
    "        soup = BeautifulSoup(page, \"lxml\")\n",
    "        \n",
    "        k = soup.find_all('a')\n",
    "        k3 = []\n",
    "        for item in k:\n",
    "            if 'path' not in str(item):\n",
    "                k3.append(item)\n",
    "        moviepaths = pd.DataFrame(np.array(k3)[26:-11])\n",
    "        #print(moviepaths)\n",
    "        #for item in moviepaths:\n",
    "        dfs.append(moviepaths)\n",
    "          #  print(item)\n",
    "        \n",
    "        #print(moviepaths)\n",
    "        #df = pd.DataFrame(np.array(list(k)[26:426]).reshape(-1,2))\n",
    "        #moviepaths = df.loc[:,0]\n",
    "        #print(pd.DataFrame(moviepaths))\n",
    "        #for item in moviepaths:\n",
    "        #    dfs.append(item)\n",
    "        #dfs.append(k3)\n",
    "        #print(dfs)\n",
    "    return dfs\n",
    "\n",
    "years = ['2019','2018','2017','2016','2015','2014','2013','2012','2011','2010',\n",
    "         '2009','2008','2007','2006','2005']#,'2004','2003','2002','2001','2000',]\n",
    "url_list = get_urls(years)\n",
    "#url_list"
   ]
  },
  {
   "cell_type": "code",
   "execution_count": 139,
   "metadata": {},
   "outputs": [
    {
     "data": {
      "text/plain": [
       "15"
      ]
     },
     "execution_count": 139,
     "metadata": {},
     "output_type": "execute_result"
    }
   ],
   "source": [
    "len(url_list)"
   ]
  },
  {
   "cell_type": "code",
   "execution_count": 169,
   "metadata": {},
   "outputs": [
    {
     "data": {
      "text/plain": [
       "<a class=\"a-link-normal\" href=\"/release/rl2992866817/?ref_=bo_yld_table_1\">Black Panther</a>"
      ]
     },
     "execution_count": 169,
     "metadata": {},
     "output_type": "execute_result"
    }
   ],
   "source": [
    "url_list[1].iloc[0][0]"
   ]
  },
  {
   "cell_type": "code",
   "execution_count": 137,
   "metadata": {},
   "outputs": [
    {
     "name": "stdout",
     "output_type": "stream",
     "text": [
      "906\n",
      "993\n",
      "852\n",
      "856\n",
      "846\n",
      "849\n",
      "826\n",
      "805\n",
      "729\n",
      "651\n"
     ]
    }
   ],
   "source": [
    "#for i in range(len(url_list)):\n",
    " #   print(len(url_list[i]))"
   ]
  },
  {
   "cell_type": "code",
   "execution_count": 173,
   "metadata": {
    "scrolled": true
   },
   "outputs": [
    {
     "data": {
      "text/plain": [
       "11879"
      ]
     },
     "execution_count": 173,
     "metadata": {},
     "output_type": "execute_result"
    }
   ],
   "source": [
    "urls = []\n",
    "for i in range(len(url_list)):\n",
    "    for j in range(len(url_list[i])):\n",
    "        for a_tag in url_list[i].iloc[j]:\n",
    "            url = a_tag['href']\n",
    "            if not url.startswith('http'):\n",
    "                url = \"https://www.boxofficemojo.com/\"+url\n",
    "                urls.append(url)\n",
    "len(urls)"
   ]
  },
  {
   "cell_type": "code",
   "execution_count": 175,
   "metadata": {},
   "outputs": [],
   "source": [
    "t = movie_info(urls[2])\n",
    "def getList(dict): \n",
    "      \n",
    "    return [*dict] \n",
    "Header = getList(t[0])"
   ]
  },
  {
   "cell_type": "code",
   "execution_count": 177,
   "metadata": {},
   "outputs": [
    {
     "data": {
      "text/html": [
       "<div>\n",
       "<style scoped>\n",
       "    .dataframe tbody tr th:only-of-type {\n",
       "        vertical-align: middle;\n",
       "    }\n",
       "\n",
       "    .dataframe tbody tr th {\n",
       "        vertical-align: top;\n",
       "    }\n",
       "\n",
       "    .dataframe thead th {\n",
       "        text-align: right;\n",
       "    }\n",
       "</style>\n",
       "<table border=\"1\" class=\"dataframe\">\n",
       "  <thead>\n",
       "    <tr style=\"text-align: right;\">\n",
       "      <th></th>\n",
       "      <th>Movie_Title</th>\n",
       "      <th>Distributor</th>\n",
       "      <th>Domestic_Total_Gross</th>\n",
       "      <th>Budget</th>\n",
       "      <th>Runtime(mins)</th>\n",
       "      <th>Rating</th>\n",
       "      <th>Release_Date</th>\n",
       "      <th>Genre</th>\n",
       "    </tr>\n",
       "  </thead>\n",
       "  <tbody>\n",
       "    <tr>\n",
       "      <th>0</th>\n",
       "      <td>Avengers: Endgame</td>\n",
       "      <td>Walt Disney Studios Motion Pictures</td>\n",
       "      <td>858373000</td>\n",
       "      <td>356000000</td>\n",
       "      <td>181</td>\n",
       "      <td>PG-13</td>\n",
       "      <td>2019-04-26</td>\n",
       "      <td>Action, Adventure, Drama, Sci-Fi</td>\n",
       "    </tr>\n",
       "    <tr>\n",
       "      <th>1</th>\n",
       "      <td>The Lion King</td>\n",
       "      <td>Walt Disney Studios Motion Pictures</td>\n",
       "      <td>543638043</td>\n",
       "      <td>260000000</td>\n",
       "      <td>118</td>\n",
       "      <td>PG</td>\n",
       "      <td>2019-07-19</td>\n",
       "      <td>Adventure, Animation, Drama, Family, Musical</td>\n",
       "    </tr>\n",
       "    <tr>\n",
       "      <th>2</th>\n",
       "      <td>Toy Story 4</td>\n",
       "      <td>Walt Disney Studios Motion Pictures</td>\n",
       "      <td>434038008</td>\n",
       "      <td>None</td>\n",
       "      <td>100</td>\n",
       "      <td>G</td>\n",
       "      <td>2019-06-21</td>\n",
       "      <td>Adventure, Animation, Comedy, Family, Fantasy</td>\n",
       "    </tr>\n",
       "    <tr>\n",
       "      <th>3</th>\n",
       "      <td>Frozen II</td>\n",
       "      <td>Walt Disney Studios Motion Pictures</td>\n",
       "      <td>466850574</td>\n",
       "      <td>None</td>\n",
       "      <td>103</td>\n",
       "      <td>PG</td>\n",
       "      <td>2019-11-22</td>\n",
       "      <td>Adventure, Animation, Comedy, Family, Fantasy,...</td>\n",
       "    </tr>\n",
       "    <tr>\n",
       "      <th>4</th>\n",
       "      <td>Captain Marvel</td>\n",
       "      <td>Walt Disney Studios Motion Pictures</td>\n",
       "      <td>426829839</td>\n",
       "      <td>None</td>\n",
       "      <td>123</td>\n",
       "      <td>PG-13</td>\n",
       "      <td>2019-03-08</td>\n",
       "      <td>Action, Adventure, Sci-Fi</td>\n",
       "    </tr>\n",
       "  </tbody>\n",
       "</table>\n",
       "</div>"
      ],
      "text/plain": [
       "         Movie_Title                          Distributor  \\\n",
       "0  Avengers: Endgame  Walt Disney Studios Motion Pictures   \n",
       "1      The Lion King  Walt Disney Studios Motion Pictures   \n",
       "2        Toy Story 4  Walt Disney Studios Motion Pictures   \n",
       "3          Frozen II  Walt Disney Studios Motion Pictures   \n",
       "4     Captain Marvel  Walt Disney Studios Motion Pictures   \n",
       "\n",
       "  Domestic_Total_Gross     Budget Runtime(mins) Rating Release_Date  \\\n",
       "0            858373000  356000000           181  PG-13   2019-04-26   \n",
       "1            543638043  260000000           118     PG   2019-07-19   \n",
       "2            434038008       None           100      G   2019-06-21   \n",
       "3            466850574       None           103     PG   2019-11-22   \n",
       "4            426829839       None           123  PG-13   2019-03-08   \n",
       "\n",
       "                                               Genre  \n",
       "0                   Action, Adventure, Drama, Sci-Fi  \n",
       "1       Adventure, Animation, Drama, Family, Musical  \n",
       "2      Adventure, Animation, Comedy, Family, Fantasy  \n",
       "3  Adventure, Animation, Comedy, Family, Fantasy,...  \n",
       "4                          Action, Adventure, Sci-Fi  "
      ]
     },
     "execution_count": 177,
     "metadata": {},
     "output_type": "execute_result"
    }
   ],
   "source": [
    "dft = pd.DataFrame(columns=Header)\n",
    "\n",
    "for i in range(len(urls)):\n",
    "    try:\n",
    "        t = movie_info(urls[i])\n",
    "        dft = dft.append(t, ignore_index=True)\n",
    "    except:\n",
    "        pass\n",
    "    \n",
    "dft.head()"
   ]
  },
  {
   "cell_type": "code",
   "execution_count": 180,
   "metadata": {},
   "outputs": [
    {
     "name": "stdout",
     "output_type": "stream",
     "text": [
      "<class 'pandas.core.frame.DataFrame'>\n",
      "RangeIndex: 11268 entries, 0 to 11267\n",
      "Data columns (total 8 columns):\n",
      "Movie_Title             11268 non-null object\n",
      "Distributor             11268 non-null object\n",
      "Domestic_Total_Gross    11268 non-null object\n",
      "Budget                  2260 non-null object\n",
      "Runtime(mins)           10864 non-null object\n",
      "Rating                  6036 non-null object\n",
      "Release_Date            11268 non-null datetime64[ns]\n",
      "Genre                   11268 non-null object\n",
      "dtypes: datetime64[ns](1), object(7)\n",
      "memory usage: 704.4+ KB\n"
     ]
    }
   ],
   "source": [
    "dft.info()"
   ]
  },
  {
   "cell_type": "code",
   "execution_count": 178,
   "metadata": {},
   "outputs": [],
   "source": [
    "#dft.to_pickle('Full15yr.pkl')"
   ]
  },
  {
   "cell_type": "code",
   "execution_count": 181,
   "metadata": {},
   "outputs": [
    {
     "data": {
      "text/html": [
       "<div>\n",
       "<style scoped>\n",
       "    .dataframe tbody tr th:only-of-type {\n",
       "        vertical-align: middle;\n",
       "    }\n",
       "\n",
       "    .dataframe tbody tr th {\n",
       "        vertical-align: top;\n",
       "    }\n",
       "\n",
       "    .dataframe thead th {\n",
       "        text-align: right;\n",
       "    }\n",
       "</style>\n",
       "<table border=\"1\" class=\"dataframe\">\n",
       "  <thead>\n",
       "    <tr style=\"text-align: right;\">\n",
       "      <th></th>\n",
       "      <th>Movie_Title</th>\n",
       "      <th>Distributor</th>\n",
       "      <th>Domestic_Total_Gross</th>\n",
       "      <th>Budget</th>\n",
       "      <th>Runtime(mins)</th>\n",
       "      <th>Rating</th>\n",
       "      <th>Release_Date</th>\n",
       "      <th>Genre</th>\n",
       "    </tr>\n",
       "  </thead>\n",
       "  <tbody>\n",
       "    <tr>\n",
       "      <th>0</th>\n",
       "      <td>Avengers: Endgame</td>\n",
       "      <td>Walt Disney Studios Motion Pictures</td>\n",
       "      <td>858373000</td>\n",
       "      <td>356000000</td>\n",
       "      <td>181</td>\n",
       "      <td>PG-13</td>\n",
       "      <td>2019-04-26</td>\n",
       "      <td>Action, Adventure, Drama, Sci-Fi</td>\n",
       "    </tr>\n",
       "    <tr>\n",
       "      <th>1</th>\n",
       "      <td>The Lion King</td>\n",
       "      <td>Walt Disney Studios Motion Pictures</td>\n",
       "      <td>543638043</td>\n",
       "      <td>260000000</td>\n",
       "      <td>118</td>\n",
       "      <td>PG</td>\n",
       "      <td>2019-07-19</td>\n",
       "      <td>Adventure, Animation, Drama, Family, Musical</td>\n",
       "    </tr>\n",
       "    <tr>\n",
       "      <th>2</th>\n",
       "      <td>Toy Story 4</td>\n",
       "      <td>Walt Disney Studios Motion Pictures</td>\n",
       "      <td>434038008</td>\n",
       "      <td>None</td>\n",
       "      <td>100</td>\n",
       "      <td>G</td>\n",
       "      <td>2019-06-21</td>\n",
       "      <td>Adventure, Animation, Comedy, Family, Fantasy</td>\n",
       "    </tr>\n",
       "    <tr>\n",
       "      <th>3</th>\n",
       "      <td>Frozen II</td>\n",
       "      <td>Walt Disney Studios Motion Pictures</td>\n",
       "      <td>466850574</td>\n",
       "      <td>None</td>\n",
       "      <td>103</td>\n",
       "      <td>PG</td>\n",
       "      <td>2019-11-22</td>\n",
       "      <td>Adventure, Animation, Comedy, Family, Fantasy,...</td>\n",
       "    </tr>\n",
       "    <tr>\n",
       "      <th>4</th>\n",
       "      <td>Captain Marvel</td>\n",
       "      <td>Walt Disney Studios Motion Pictures</td>\n",
       "      <td>426829839</td>\n",
       "      <td>None</td>\n",
       "      <td>123</td>\n",
       "      <td>PG-13</td>\n",
       "      <td>2019-03-08</td>\n",
       "      <td>Action, Adventure, Sci-Fi</td>\n",
       "    </tr>\n",
       "    <tr>\n",
       "      <th>...</th>\n",
       "      <td>...</td>\n",
       "      <td>...</td>\n",
       "      <td>...</td>\n",
       "      <td>...</td>\n",
       "      <td>...</td>\n",
       "      <td>...</td>\n",
       "      <td>...</td>\n",
       "      <td>...</td>\n",
       "    </tr>\n",
       "    <tr>\n",
       "      <th>11263</th>\n",
       "      <td>The Comedians of Comedy</td>\n",
       "      <td>Vitagraph Films</td>\n",
       "      <td>549</td>\n",
       "      <td>None</td>\n",
       "      <td>103</td>\n",
       "      <td>None</td>\n",
       "      <td>2005-11-11</td>\n",
       "      <td>Comedy, Documentary</td>\n",
       "    </tr>\n",
       "    <tr>\n",
       "      <th>11264</th>\n",
       "      <td>The Dark Hours</td>\n",
       "      <td></td>\n",
       "      <td>423</td>\n",
       "      <td>None</td>\n",
       "      <td>80</td>\n",
       "      <td>R</td>\n",
       "      <td>2005-10-13</td>\n",
       "      <td>Horror, Thriller</td>\n",
       "    </tr>\n",
       "    <tr>\n",
       "      <th>11265</th>\n",
       "      <td>The Brown Bunny</td>\n",
       "      <td>Wellspring Media</td>\n",
       "      <td>366301</td>\n",
       "      <td>None</td>\n",
       "      <td>93</td>\n",
       "      <td>None</td>\n",
       "      <td>2004-08-27</td>\n",
       "      <td>Drama</td>\n",
       "    </tr>\n",
       "    <tr>\n",
       "      <th>11266</th>\n",
       "      <td>Yes Nurse! No Nurse! 2004 Re</td>\n",
       "      <td>Regent Releasing</td>\n",
       "      <td>13325</td>\n",
       "      <td>None</td>\n",
       "      <td>100</td>\n",
       "      <td>None</td>\n",
       "      <td>2004-09-03</td>\n",
       "      <td>Comedy, Musical</td>\n",
       "    </tr>\n",
       "    <tr>\n",
       "      <th>11267</th>\n",
       "      <td>Head in the Clouds</td>\n",
       "      <td>Sony Pictures Classics</td>\n",
       "      <td>398278</td>\n",
       "      <td>None</td>\n",
       "      <td>132</td>\n",
       "      <td>R</td>\n",
       "      <td>2004-09-17</td>\n",
       "      <td>Drama, Romance, War</td>\n",
       "    </tr>\n",
       "  </tbody>\n",
       "</table>\n",
       "<p>11268 rows × 8 columns</p>\n",
       "</div>"
      ],
      "text/plain": [
       "                        Movie_Title                          Distributor  \\\n",
       "0                 Avengers: Endgame  Walt Disney Studios Motion Pictures   \n",
       "1                     The Lion King  Walt Disney Studios Motion Pictures   \n",
       "2                       Toy Story 4  Walt Disney Studios Motion Pictures   \n",
       "3                         Frozen II  Walt Disney Studios Motion Pictures   \n",
       "4                    Captain Marvel  Walt Disney Studios Motion Pictures   \n",
       "...                             ...                                  ...   \n",
       "11263       The Comedians of Comedy                      Vitagraph Films   \n",
       "11264                The Dark Hours                                        \n",
       "11265               The Brown Bunny                     Wellspring Media   \n",
       "11266  Yes Nurse! No Nurse! 2004 Re                     Regent Releasing   \n",
       "11267            Head in the Clouds               Sony Pictures Classics   \n",
       "\n",
       "      Domestic_Total_Gross     Budget Runtime(mins) Rating Release_Date  \\\n",
       "0                858373000  356000000           181  PG-13   2019-04-26   \n",
       "1                543638043  260000000           118     PG   2019-07-19   \n",
       "2                434038008       None           100      G   2019-06-21   \n",
       "3                466850574       None           103     PG   2019-11-22   \n",
       "4                426829839       None           123  PG-13   2019-03-08   \n",
       "...                    ...        ...           ...    ...          ...   \n",
       "11263                  549       None           103   None   2005-11-11   \n",
       "11264                  423       None            80      R   2005-10-13   \n",
       "11265               366301       None            93   None   2004-08-27   \n",
       "11266                13325       None           100   None   2004-09-03   \n",
       "11267               398278       None           132      R   2004-09-17   \n",
       "\n",
       "                                                   Genre  \n",
       "0                       Action, Adventure, Drama, Sci-Fi  \n",
       "1           Adventure, Animation, Drama, Family, Musical  \n",
       "2          Adventure, Animation, Comedy, Family, Fantasy  \n",
       "3      Adventure, Animation, Comedy, Family, Fantasy,...  \n",
       "4                              Action, Adventure, Sci-Fi  \n",
       "...                                                  ...  \n",
       "11263                                Comedy, Documentary  \n",
       "11264                                   Horror, Thriller  \n",
       "11265                                              Drama  \n",
       "11266                                    Comedy, Musical  \n",
       "11267                                Drama, Romance, War  \n",
       "\n",
       "[11268 rows x 8 columns]"
      ]
     },
     "execution_count": 181,
     "metadata": {},
     "output_type": "execute_result"
    }
   ],
   "source": [
    "dft"
   ]
  },
  {
   "cell_type": "code",
   "execution_count": 195,
   "metadata": {},
   "outputs": [],
   "source": [
    " def get_urls_budgetL(years):   \n",
    "    \n",
    "    dfs = {}\n",
    "    url = \"https://www.the-numbers.com/movie/budgets/all/{}\"\n",
    "    asdf=[]\n",
    "    Budget = []\n",
    "    for year in years:\n",
    "        file_url = url.format(year)\n",
    "        response = requests.get(file_url)\n",
    "        page = response.text\n",
    "        soup = BeautifulSoup(page, \"lxml\")\n",
    "        k = soup.find_all('a')\n",
    "        df = (pd.DataFrame(np.array(list(k))[71:-62].reshape(-1,2)))\n",
    "        movie_title = df.loc[:,1]\n",
    "        asdf=[]\n",
    "        Budget = []\n",
    "        \n",
    "        j = list(soup.find_all('td'))\n",
    "        \n",
    "        for i in range(len(j)):\n",
    "            asdf.append(str(j[i]))\n",
    "        budgets2 = pd.DataFrame(np.array(asdf).reshape(-1,6))[3]\n",
    "        for i in range(len(budgets2)):\n",
    "            Budget.append(budgets2[i][18:-5])\n",
    "        dfs['Movie_Titles{}'.format(year)] = movie_title\n",
    "        dfs['Budget{}'.format(year)] = Budget\n",
    "    #dfs['Movie_Title'] = movie_title\n",
    "    #dfs['Budget'] = Budget\n",
    "    return dfs\n",
    "jkLower = get_urls_budgetL(['001','101','201','301','401'])"
   ]
  },
  {
   "cell_type": "code",
   "execution_count": 193,
   "metadata": {},
   "outputs": [],
   "source": [
    "def get_urls_budgetU(years):   \n",
    "    \n",
    "    dfs = {}\n",
    "    url = \"https://www.the-numbers.com/movie/budgets/all/{}\"\n",
    "    asdf=[]\n",
    "    Budget = []\n",
    "    for year in years:\n",
    "        file_url = url.format(year)\n",
    "        response = requests.get(file_url)\n",
    "        page = response.text\n",
    "        soup = BeautifulSoup(page, \"lxml\")\n",
    "        k = soup.find_all('a')\n",
    "        df = (pd.DataFrame(np.array(list(k))[71:-63].reshape(-1,2)))\n",
    "        movie_title = df.loc[:,1]\n",
    "        asdf=[]\n",
    "        Budget = []\n",
    "        \n",
    "        j = list(soup.find_all('td'))\n",
    "        \n",
    "        for i in range(len(j)):\n",
    "            asdf.append(str(j[i]))\n",
    "        budgets2 = pd.DataFrame(np.array(asdf).reshape(-1,6))[3]\n",
    "        for i in range(len(budgets2)):\n",
    "            Budget.append(budgets2[i][18:-5])\n",
    "        dfs['Movie_Titles{}'.format(year)] = movie_title\n",
    "        dfs['Budget{}'.format(year)] = Budget\n",
    "    #dfs['Movie_Title'] = movie_title\n",
    "    #dfs['Budget'] = Budget\n",
    "    return dfs\n",
    "#jkUpper = get_urls_budgetU(list(str(range(501:5001:100))))\n",
    "#jkl1 = get_urls_budgetU(['501','601','701','801','901',\n",
    " #                        '1001','1101','1201','1301','1401','1501','1601','1701','1801','1901'])"
   ]
  },
  {
   "cell_type": "code",
   "execution_count": 219,
   "metadata": {},
   "outputs": [],
   "source": [
    "pagelist = list(range(501,5501,100))\n",
    "plist = []\n",
    "for i in range(len(pagelist)):\n",
    "    plist.append(str(pagelist[i]))\n",
    "jkUpper = get_urls_budgetU(plist)\n",
    "#jkUpper"
   ]
  },
  {
   "cell_type": "code",
   "execution_count": 220,
   "metadata": {},
   "outputs": [],
   "source": [
    "titles = []\n",
    "budgets = []\n",
    "for i in range(len(jkLower)):\n",
    "    if i%2 == 0:\n",
    "        titles.append(list(jkLower.values())[i])\n",
    "    else:\n",
    "        budgets.append(list(jkLower.values())[i])\n",
    "        \n",
    "for i in range(len(jkUpper)):\n",
    "    if i%2 == 0:\n",
    "        titles.append(list(jkUpper.values())[i])\n",
    "    else:\n",
    "        budgets.append(list(jkUpper.values())[i])"
   ]
  },
  {
   "cell_type": "code",
   "execution_count": 222,
   "metadata": {},
   "outputs": [
    {
     "data": {
      "text/plain": [
       "55"
      ]
     },
     "execution_count": 222,
     "metadata": {},
     "output_type": "execute_result"
    }
   ],
   "source": [
    "len(titles)"
   ]
  },
  {
   "cell_type": "code",
   "execution_count": 226,
   "metadata": {},
   "outputs": [
    {
     "data": {
      "text/plain": [
       "pandas.core.series.Series"
      ]
     },
     "execution_count": 226,
     "metadata": {},
     "output_type": "execute_result"
    }
   ],
   "source": [
    "type(titles[1])"
   ]
  },
  {
   "cell_type": "code",
   "execution_count": 230,
   "metadata": {},
   "outputs": [],
   "source": [
    "x = []\n",
    "y = []\n",
    "for i in range(len(titles)):\n",
    "    x = x+list(titles[i])\n",
    "for i in range(len(budgets)):\n",
    "    y = y+list(budgets[i])\n"
   ]
  },
  {
   "cell_type": "code",
   "execution_count": 250,
   "metadata": {},
   "outputs": [],
   "source": [
    "dfBud = pd.DataFrame(columns=['Movie_Titles','Budget'])\n",
    "dfBud['Movie_Titles'] = x\n",
    "dfBud['Budget'] = y"
   ]
  },
  {
   "cell_type": "code",
   "execution_count": 255,
   "metadata": {},
   "outputs": [
    {
     "ename": "RecursionError",
     "evalue": "maximum recursion depth exceeded while pickling an object",
     "output_type": "error",
     "traceback": [
      "\u001b[1;31m---------------------------------------------------------------------------\u001b[0m",
      "\u001b[1;31mRecursionError\u001b[0m                            Traceback (most recent call last)",
      "\u001b[1;32m<ipython-input-255-3f80e59cf37a>\u001b[0m in \u001b[0;36m<module>\u001b[1;34m\u001b[0m\n\u001b[1;32m----> 1\u001b[1;33m \u001b[0mdfBud\u001b[0m\u001b[1;33m.\u001b[0m\u001b[0mto_pickle\u001b[0m\u001b[1;33m(\u001b[0m\u001b[1;34m'Budgets5500.pkl'\u001b[0m\u001b[1;33m)\u001b[0m\u001b[1;33m\u001b[0m\u001b[1;33m\u001b[0m\u001b[0m\n\u001b[0m",
      "\u001b[1;32mC:\\ProgramData\\Anaconda3\\lib\\site-packages\\pandas\\core\\generic.py\u001b[0m in \u001b[0;36mto_pickle\u001b[1;34m(self, path, compression, protocol)\u001b[0m\n\u001b[0;32m   2769\u001b[0m         \u001b[1;32mfrom\u001b[0m \u001b[0mpandas\u001b[0m\u001b[1;33m.\u001b[0m\u001b[0mio\u001b[0m\u001b[1;33m.\u001b[0m\u001b[0mpickle\u001b[0m \u001b[1;32mimport\u001b[0m \u001b[0mto_pickle\u001b[0m\u001b[1;33m\u001b[0m\u001b[1;33m\u001b[0m\u001b[0m\n\u001b[0;32m   2770\u001b[0m \u001b[1;33m\u001b[0m\u001b[0m\n\u001b[1;32m-> 2771\u001b[1;33m         \u001b[0mto_pickle\u001b[0m\u001b[1;33m(\u001b[0m\u001b[0mself\u001b[0m\u001b[1;33m,\u001b[0m \u001b[0mpath\u001b[0m\u001b[1;33m,\u001b[0m \u001b[0mcompression\u001b[0m\u001b[1;33m=\u001b[0m\u001b[0mcompression\u001b[0m\u001b[1;33m,\u001b[0m \u001b[0mprotocol\u001b[0m\u001b[1;33m=\u001b[0m\u001b[0mprotocol\u001b[0m\u001b[1;33m)\u001b[0m\u001b[1;33m\u001b[0m\u001b[1;33m\u001b[0m\u001b[0m\n\u001b[0m\u001b[0;32m   2772\u001b[0m \u001b[1;33m\u001b[0m\u001b[0m\n\u001b[0;32m   2773\u001b[0m     \u001b[1;32mdef\u001b[0m \u001b[0mto_clipboard\u001b[0m\u001b[1;33m(\u001b[0m\u001b[0mself\u001b[0m\u001b[1;33m,\u001b[0m \u001b[0mexcel\u001b[0m\u001b[1;33m=\u001b[0m\u001b[1;32mTrue\u001b[0m\u001b[1;33m,\u001b[0m \u001b[0msep\u001b[0m\u001b[1;33m=\u001b[0m\u001b[1;32mNone\u001b[0m\u001b[1;33m,\u001b[0m \u001b[1;33m**\u001b[0m\u001b[0mkwargs\u001b[0m\u001b[1;33m)\u001b[0m\u001b[1;33m:\u001b[0m\u001b[1;33m\u001b[0m\u001b[1;33m\u001b[0m\u001b[0m\n",
      "\u001b[1;32mC:\\ProgramData\\Anaconda3\\lib\\site-packages\\pandas\\io\\pickle.py\u001b[0m in \u001b[0;36mto_pickle\u001b[1;34m(obj, path, compression, protocol)\u001b[0m\n\u001b[0;32m     74\u001b[0m         \u001b[0mprotocol\u001b[0m \u001b[1;33m=\u001b[0m \u001b[0mpickle\u001b[0m\u001b[1;33m.\u001b[0m\u001b[0mHIGHEST_PROTOCOL\u001b[0m\u001b[1;33m\u001b[0m\u001b[1;33m\u001b[0m\u001b[0m\n\u001b[0;32m     75\u001b[0m     \u001b[1;32mtry\u001b[0m\u001b[1;33m:\u001b[0m\u001b[1;33m\u001b[0m\u001b[1;33m\u001b[0m\u001b[0m\n\u001b[1;32m---> 76\u001b[1;33m         \u001b[0mf\u001b[0m\u001b[1;33m.\u001b[0m\u001b[0mwrite\u001b[0m\u001b[1;33m(\u001b[0m\u001b[0mpickle\u001b[0m\u001b[1;33m.\u001b[0m\u001b[0mdumps\u001b[0m\u001b[1;33m(\u001b[0m\u001b[0mobj\u001b[0m\u001b[1;33m,\u001b[0m \u001b[0mprotocol\u001b[0m\u001b[1;33m=\u001b[0m\u001b[0mprotocol\u001b[0m\u001b[1;33m)\u001b[0m\u001b[1;33m)\u001b[0m\u001b[1;33m\u001b[0m\u001b[1;33m\u001b[0m\u001b[0m\n\u001b[0m\u001b[0;32m     77\u001b[0m     \u001b[1;32mfinally\u001b[0m\u001b[1;33m:\u001b[0m\u001b[1;33m\u001b[0m\u001b[1;33m\u001b[0m\u001b[0m\n\u001b[0;32m     78\u001b[0m         \u001b[0mf\u001b[0m\u001b[1;33m.\u001b[0m\u001b[0mclose\u001b[0m\u001b[1;33m(\u001b[0m\u001b[1;33m)\u001b[0m\u001b[1;33m\u001b[0m\u001b[1;33m\u001b[0m\u001b[0m\n",
      "\u001b[1;31mRecursionError\u001b[0m: maximum recursion depth exceeded while pickling an object"
     ]
    }
   ],
   "source": [
    "#dfBud.to_pickle('Budgets5500.pkl')"
   ]
  },
  {
   "cell_type": "code",
   "execution_count": 253,
   "metadata": {},
   "outputs": [],
   "source": [
    "dfBud.to_csv('Budgets5500.csv')"
   ]
  },
  {
   "cell_type": "code",
   "execution_count": null,
   "metadata": {},
   "outputs": [],
   "source": []
  },
  {
   "cell_type": "code",
   "execution_count": null,
   "metadata": {},
   "outputs": [],
   "source": []
  },
  {
   "cell_type": "code",
   "execution_count": null,
   "metadata": {},
   "outputs": [],
   "source": []
  },
  {
   "cell_type": "code",
   "execution_count": null,
   "metadata": {},
   "outputs": [],
   "source": []
  },
  {
   "cell_type": "code",
   "execution_count": null,
   "metadata": {},
   "outputs": [],
   "source": []
  },
  {
   "cell_type": "code",
   "execution_count": null,
   "metadata": {},
   "outputs": [],
   "source": []
  },
  {
   "cell_type": "code",
   "execution_count": null,
   "metadata": {},
   "outputs": [],
   "source": []
  },
  {
   "cell_type": "code",
   "execution_count": null,
   "metadata": {},
   "outputs": [],
   "source": []
  },
  {
   "cell_type": "code",
   "execution_count": null,
   "metadata": {},
   "outputs": [],
   "source": []
  }
 ],
 "metadata": {
  "kernelspec": {
   "display_name": "Python 3",
   "language": "python",
   "name": "python3"
  },
  "language_info": {
   "codemirror_mode": {
    "name": "ipython",
    "version": 3
   },
   "file_extension": ".py",
   "mimetype": "text/x-python",
   "name": "python",
   "nbconvert_exporter": "python",
   "pygments_lexer": "ipython3",
   "version": "3.6.9"
  }
 },
 "nbformat": 4,
 "nbformat_minor": 2
}
